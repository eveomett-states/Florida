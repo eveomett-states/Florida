{
 "cells": [
  {
   "cell_type": "code",
   "execution_count": 1,
   "metadata": {},
   "outputs": [],
   "source": [
    "import pandas as pd\n",
    "import geopandas as gpd\n",
    "import maup\n",
    "import time\n",
    "from maup import smart_repair\n",
    "from gerrychain import Graph\n",
    "\n",
    "maup.progress.enabled = True"
   ]
  },
  {
   "cell_type": "code",
   "execution_count": 2,
   "metadata": {},
   "outputs": [],
   "source": [
    "import warnings\n",
    "warnings.filterwarnings(\"ignore\")"
   ]
  },
  {
   "cell_type": "code",
   "execution_count": 3,
   "metadata": {},
   "outputs": [],
   "source": [
    "# Florida\n",
    "state_ab = \"fl\""
   ]
  },
  {
   "cell_type": "markdown",
   "metadata": {},
   "source": [
    "## Data\n",
    "1. Download all the data in directory \"tn_data\"\n",
    "2. Extract them all"
   ]
  },
  {
   "cell_type": "code",
   "execution_count": 4,
   "metadata": {},
   "outputs": [],
   "source": [
    "data_folder = state_ab + \"_data/\"\n",
    "population1_data = \"./{}{}_pl2020_b/{}_pl2020_p1_b.shp\".format(data_folder, state_ab, state_ab)\n",
    "population2_data = \"./{}{}_pl2020_b/{}_pl2020_p2_b.shp\".format(data_folder, state_ab, state_ab)\n",
    "vap_data =  \"./{}{}_pl2020_b/{}_pl2020_p4_b.shp\".format(data_folder, state_ab, state_ab)\n",
    "vest20_data = \"./{}{}_vest_20/{}_vest_20.shp\".format(data_folder, state_ab, state_ab)\n",
    "vest18_data = \"./{}{}_vest_18/{}_vest_18.shp\".format(data_folder, state_ab, state_ab)\n",
    "vest16_data = \"./{}{}_vest_16/{}_vest_16.shp\".format(data_folder, state_ab, state_ab)\n",
    "cong_data = \"./{}{}_cong_adopted_2022/P000C0109.shp\".format(data_folder, state_ab)\n",
    "send_data = \"./{}{}_sldu_adopted_2022/S027S8058.shp\".format(data_folder, state_ab)\n",
    "hdist_data = \"./{}{}_sldl_adopted_2022/H000H8013.shp\".format(data_folder, state_ab)\n",
    "county_data = \"./{}{}_pl2020_cnty/{}_pl2020_cnty.shp\".format(data_folder, state_ab, state_ab)"
   ]
  },
  {
   "cell_type": "code",
   "execution_count": 5,
   "metadata": {},
   "outputs": [],
   "source": [
    "def do_smart_repair(df, min_rook_length = None, snap_precision = 8):\n",
    "    # change it to the UTM it needs for smart_repair\n",
    "    df = df.to_crs(df.estimate_utm_crs())\n",
    "    df = smart_repair(df, min_rook_length = min_rook_length, snap_precision=snap_precision)\n",
    "\n",
    "    if maup.doctor(df) == False:\n",
    "        raise Exception('maup.doctor failed')\n",
    "    \n",
    "    return df"
   ]
  },
  {
   "cell_type": "code",
   "execution_count": 6,
   "metadata": {},
   "outputs": [],
   "source": [
    "def add_district(dist_df, dist_name, election_df, col_name):\n",
    "    election_df = election_df.to_crs(election_df.estimate_utm_crs())\n",
    "    dist_df = dist_df.to_crs(dist_df.estimate_utm_crs())\n",
    "    # check if it needs to be smart_repair\n",
    "    if maup.doctor(dist_df) != True:\n",
    "        dist_df = do_smart_repair(dist_df)\n",
    "\n",
    "    # assign the pricincts\n",
    "    precincts_to_district_assignment = maup.assign(election_df.geometry, dist_df.geometry)\n",
    "    election_df[dist_name] = precincts_to_district_assignment\n",
    "    for precinct_index in range(len(election_df)):\n",
    "        election_df.at[precinct_index, dist_name] = dist_df.at[election_df.at[precinct_index, dist_name], col_name]\n",
    "\n",
    "    return election_df"
   ]
  },
  {
   "cell_type": "code",
   "execution_count": 7,
   "metadata": {},
   "outputs": [],
   "source": [
    "def rename(original, year):\n",
    "    party = original[6]\n",
    "    if party == 'R' or party == 'D':\n",
    "        return original[3:6] + year + original[6]\n",
    "    else:\n",
    "        return original[3:6] + year + 'O'"
   ]
  },
  {
   "cell_type": "code",
   "execution_count": 8,
   "metadata": {},
   "outputs": [],
   "source": [
    "pop_col = ['TOTPOP', 'HISP', 'NH_WHITE', 'NH_BLACK', 'NH_AMIN', 'NH_ASIAN', 'NH_NHPI', 'NH_OTHER', 'NH_2MORE', 'H_WHITE', 'H_BLACK', 'H_AMIN', 'H_ASIAN', 'H_NHPI', 'H_OTHER', 'H_2MORE', 'VAP', 'HVAP', 'WVAP', 'BVAP', 'AMINVAP', 'ASIANVAP', 'NHPIVAP', 'OTHERVAP', '2MOREVAP']"
   ]
  },
  {
   "cell_type": "code",
   "execution_count": 9,
   "metadata": {},
   "outputs": [],
   "source": [
    "def check_population(population, df):\n",
    "    pop_check = pd.DataFrame({\n",
    "        'pop_col': pop_col,\n",
    "        'population_df': population[pop_col].sum(), \n",
    "        'vest_base': df[pop_col].sum(),\n",
    "        'equal': [x == y for x, y in zip(population[pop_col].sum(), df[pop_col].sum())]\n",
    "    })\n",
    "    if pop_check['equal'].mean() < 1:\n",
    "        print(pop_check)\n",
    "        raise Exception(\"population doesn't agree\")\n",
    "\n",
    "    else:\n",
    "        print(\"population agrees\")"
   ]
  },
  {
   "cell_type": "code",
   "execution_count": 10,
   "metadata": {},
   "outputs": [],
   "source": [
    "def add_vest(vest, df, year, population, start_col, snap_precision = 8):\n",
    "    df = df.to_crs(df.estimate_utm_crs())\n",
    "    vest = vest.to_crs(vest.estimate_utm_crs())\n",
    "    population = population.to_crs(population.estimate_utm_crs())\n",
    "    df_crs = df.crs\n",
    "    vest_crs = vest.crs\n",
    "    \n",
    "     # check if it needs to be smart_repair\n",
    "    if maup.doctor(vest) != True:\n",
    "        vest = do_smart_repair(vest, snap_precision = snap_precision)\n",
    "    \n",
    "    # rename the columns\n",
    "    original_col = vest.columns[start_col:-1]\n",
    "    new_col = [rename(i, year) for i in original_col]\n",
    "    rename_dict = dict(zip(original_col, new_col))\n",
    "    vest = vest.rename(columns=rename_dict)\n",
    "    vest = vest.groupby(level=0, axis=1).sum() # combine all the other party's vote into columns with sufix \"O\"\n",
    "    col_name = list(set(new_col))\n",
    "    col_name.sort()\n",
    "    \n",
    "    # make the blocks from precincts by weight\n",
    "    vest = gpd.GeoDataFrame(vest, crs=vest_crs)\n",
    "    election_in_block = population[[\"VAP\", 'geometry']] # population_df is in block scale\n",
    "    blocks_to_precincts_assignment = maup.assign(election_in_block.geometry, vest.geometry)\n",
    "    weights = election_in_block[\"VAP\"] / blocks_to_precincts_assignment.map(election_in_block[\"VAP\"].groupby(blocks_to_precincts_assignment).sum())\n",
    "    weights = weights.fillna(0)\n",
    "    prorated = maup.prorate(blocks_to_precincts_assignment, vest[col_name], weights)\n",
    "    election_in_block[col_name] = prorated\n",
    "    \n",
    "    # assign blocks to precincts\n",
    "    election_in_block = gpd.GeoDataFrame(election_in_block, crs=vest_crs)\n",
    "    df = gpd.GeoDataFrame(df, crs=df_crs)\n",
    "    block_to_pricinct_assginment = maup.assign(election_in_block.geometry, df.geometry)\n",
    "    df[col_name] = election_in_block[col_name].groupby(block_to_pricinct_assginment).sum()\n",
    "    df = df.groupby(level=0, axis=1).sum()\n",
    "    df = gpd.GeoDataFrame(df, crs = df_crs)\n",
    "    # check if population agrees\n",
    "    check_population(population, df)\n",
    "    \n",
    "    return df"
   ]
  },
  {
   "cell_type": "code",
   "execution_count": 11,
   "metadata": {},
   "outputs": [],
   "source": [
    "def add_vest_base(vest, start_col, year, county = None, min_rook_length = None, snap_precision = 8):\n",
    "    vest = vest.to_crs(vest.estimate_utm_crs())\n",
    "    vest_crs = vest.crs\n",
    "    original_col = vest.columns[start_col:-1]\n",
    "    new_col = [rename(i, year) for i in original_col]\n",
    "    rename_dict = dict(zip(original_col, new_col))\n",
    "    vest = vest.rename(columns=rename_dict)\n",
    "    vest = vest.groupby(level=0, axis=1).sum()\n",
    "    vest = gpd.GeoDataFrame(vest, crs=vest_crs)\n",
    "\n",
    "    if county is not None:\n",
    "        county = county.to_crs(county.estimate_utm_crs())\n",
    "        vest = smart_repair(vest, nest_within_regions = county, min_rook_length = min_rook_length, snap_precision = snap_precision) # nest precincts within counties\n",
    "\n",
    "    else:\n",
    "        vest = smart_repair(vest, min_rook_length = min_rook_length, snap_precision = snap_precision) \n",
    "    \n",
    "    return vest"
   ]
  },
  {
   "cell_type": "code",
   "execution_count": 12,
   "metadata": {},
   "outputs": [],
   "source": [
    "def check_small_boundary_lengths(vest_base):\n",
    "    import copy\n",
    "    vest_base = vest_base.to_crs(vest_base.estimate_utm_crs())\n",
    "\n",
    "    boundaries = copy.deepcopy(vest_base)\n",
    "    boundaries[\"geometry\"] = boundaries.geometry.boundary  # get boundaries\n",
    "    neighbors = gpd.sjoin(boundaries, vest_base, predicate=\"intersects\") # find boundaries that intersect\n",
    "    neighbors = neighbors[neighbors.index != neighbors.index_right] # remove boundaries of a region with itself\n",
    "\n",
    "    # compute shared border length using intersection\n",
    "    borders = list(neighbors.apply(\n",
    "        lambda row: row.geometry.intersection(vest_base.loc[row.index_right, \"geometry\"]).length, axis=1\n",
    "    ))\n",
    "\n",
    "    borders.sort()\n",
    "    \n",
    "    return borders"
   ]
  },
  {
   "cell_type": "markdown",
   "metadata": {},
   "source": [
    "### Read the census data"
   ]
  },
  {
   "cell_type": "code",
   "execution_count": 13,
   "metadata": {},
   "outputs": [],
   "source": [
    "population1_df = gpd.read_file(population1_data)\n",
    "population2_df = gpd.read_file(population2_data)\n",
    "vap_df = gpd.read_file(vap_data)\n",
    "county_df = gpd.read_file(county_data)"
   ]
  },
  {
   "cell_type": "code",
   "execution_count": 14,
   "metadata": {},
   "outputs": [],
   "source": [
    "population2_df = population2_df.drop(columns=['SUMLEV', 'LOGRECNO', 'GEOID', 'COUNTY', 'geometry'])\n",
    "vap_df = vap_df.drop(columns=['SUMLEV', 'LOGRECNO', 'GEOID', 'COUNTY', 'geometry'])"
   ]
  },
  {
   "cell_type": "code",
   "execution_count": 15,
   "metadata": {},
   "outputs": [],
   "source": [
    "population_df = pd.merge(population1_df, population2_df, on='GEOID20')\n",
    "population_df = pd.merge(population_df, vap_df, on='GEOID20')\n",
    "population_df = population_df.to_crs(population_df.estimate_utm_crs())"
   ]
  },
  {
   "cell_type": "code",
   "execution_count": 16,
   "metadata": {},
   "outputs": [
    {
     "name": "stderr",
     "output_type": "stream",
     "text": [
      "100%|█████████████████████████████████| 390066/390066 [02:31<00:00, 2580.84it/s]\n"
     ]
    },
    {
     "data": {
      "text/plain": [
       "True"
      ]
     },
     "execution_count": 16,
     "metadata": {},
     "output_type": "execute_result"
    }
   ],
   "source": [
    "maup.doctor(population_df)"
   ]
  },
  {
   "cell_type": "code",
   "execution_count": 17,
   "metadata": {},
   "outputs": [],
   "source": [
    "population_df['H_WHITE'] = population_df.apply(lambda t: t['P0010003'] - t['P0020005'], 1)\n",
    "population_df['H_BLACK'] = population_df.apply(lambda t: t['P0010004'] - t['P0020006'], 1)\n",
    "population_df['H_AMIN'] = population_df.apply(lambda t: t['P0010005'] - t['P0020007'], 1)\n",
    "population_df['H_ASIAN'] = population_df.apply(lambda t: t['P0010006'] - t['P0020008'], 1)\n",
    "population_df['H_NHPI'] = population_df.apply(lambda t: t['P0010007'] - t['P0020009'], 1)\n",
    "population_df['H_OTHER'] = population_df.apply(lambda t: t['P0010008'] - t['P0020010'], 1)\n",
    "population_df['H_2MORE'] = population_df.apply(lambda t: t['P0010009'] - t['P0020011'], 1)"
   ]
  },
  {
   "cell_type": "code",
   "execution_count": 18,
   "metadata": {},
   "outputs": [],
   "source": [
    "rename_dict = {'P0020001': 'TOTPOP', 'P0020002': 'HISP', 'P0020005': 'NH_WHITE', 'P0020006': 'NH_BLACK', 'P0020007': 'NH_AMIN',\n",
    "                    'P0020008': 'NH_ASIAN', 'P0020009': 'NH_NHPI', 'P0020010': 'NH_OTHER', 'P0020011': 'NH_2MORE',\n",
    "                    'P0040001': 'VAP', 'P0040002': 'HVAP', 'P0040005': 'WVAP', 'P0040006': 'BVAP', 'P0040007': 'AMINVAP',\n",
    "                                        'P0040008': 'ASIANVAP', 'P0040009': 'NHPIVAP', 'P0040010': 'OTHERVAP', 'P0040011': '2MOREVAP'}"
   ]
  },
  {
   "cell_type": "code",
   "execution_count": 19,
   "metadata": {},
   "outputs": [],
   "source": [
    "population_df.rename(columns=rename_dict, inplace = True)"
   ]
  },
  {
   "cell_type": "markdown",
   "metadata": {},
   "source": [
    "Make sure that the County shapefile is clean:"
   ]
  },
  {
   "cell_type": "code",
   "execution_count": 20,
   "metadata": {},
   "outputs": [
    {
     "name": "stderr",
     "output_type": "stream",
     "text": [
      "100%|██████████████████████████████████████████| 67/67 [00:00<00:00, 242.69it/s]\n"
     ]
    },
    {
     "data": {
      "text/plain": [
       "True"
      ]
     },
     "execution_count": 20,
     "metadata": {},
     "output_type": "execute_result"
    }
   ],
   "source": [
    "maup.doctor(county_df)"
   ]
  },
  {
   "cell_type": "markdown",
   "metadata": {},
   "source": [
    "## Read the vest 20 data\n",
    "\n",
    "Now using it as a \"base pricinct\""
   ]
  },
  {
   "cell_type": "markdown",
   "metadata": {},
   "source": [
    "## Check if vest20 can be used as base"
   ]
  },
  {
   "cell_type": "code",
   "execution_count": 21,
   "metadata": {},
   "outputs": [],
   "source": [
    "vest20 = gpd.read_file(vest20_data)"
   ]
  },
  {
   "cell_type": "code",
   "execution_count": 22,
   "metadata": {},
   "outputs": [
    {
     "data": {
      "text/plain": [
       "Index(['COUNTY', 'PRECINCT', 'PCT_STD', 'G20PRERTRU', 'G20PREDBID',\n",
       "       'G20PRELJOR', 'G20PREODEL', 'G20PRESLAR', 'G20PREGHAW', 'G20PRECBLA',\n",
       "       'G20PREOWRI', 'geometry'],\n",
       "      dtype='object')"
      ]
     },
     "execution_count": 22,
     "metadata": {},
     "output_type": "execute_result"
    }
   ],
   "source": [
    "vest20.columns"
   ]
  },
  {
   "cell_type": "code",
   "execution_count": 23,
   "metadata": {},
   "outputs": [],
   "source": [
    "start_col = 3\n",
    "vest_base_data = vest20\n",
    "year = '20'"
   ]
  },
  {
   "cell_type": "code",
   "execution_count": 24,
   "metadata": {},
   "outputs": [
    {
     "name": "stderr",
     "output_type": "stream",
     "text": [
      "100%|██████████████████████████████████████████| 67/67 [00:00<00:00, 219.95it/s]\n"
     ]
    },
    {
     "name": "stdout",
     "output_type": "stream",
     "text": [
      "Snapping all geometries to a grid with precision 10^( -3 ) to avoid GEOS errors.\n"
     ]
    },
    {
     "name": "stderr",
     "output_type": "stream",
     "text": [
      "100%|██████████████████████████████████████████| 67/67 [00:00<00:00, 182.91it/s]\n",
      "100%|███████████████████████████████████████████| 67/67 [00:00<00:00, 81.97it/s]\n"
     ]
    },
    {
     "name": "stdout",
     "output_type": "stream",
     "text": [
      "Identifying overlaps...\n"
     ]
    },
    {
     "name": "stderr",
     "output_type": "stream",
     "text": [
      "100%|████████████████████████████████████| 36936/36936 [00:38<00:00, 970.59it/s]\n"
     ]
    },
    {
     "name": "stdout",
     "output_type": "stream",
     "text": [
      "Resolving overlaps and filling gaps...\n"
     ]
    },
    {
     "name": "stderr",
     "output_type": "stream",
     "text": [
      "100%|██████████████████████████████████████████| 67/67 [00:00<00:00, 199.99it/s]\n",
      "100%|███████████████████████████████████████████| 67/67 [00:00<00:00, 82.56it/s]\n",
      "Gaps to simplify in region 0: 100%|████████████| 41/41 [00:00<00:00, 100.54it/s]\n",
      "Gaps to fill: 0it [00:00, ?it/s]\n"
     ]
    },
    {
     "name": "stdout",
     "output_type": "stream",
     "text": [
      "1 gaps in region 1 will remain unfilled, because they either are not simply connected or exceed the area threshold.\n"
     ]
    },
    {
     "name": "stderr",
     "output_type": "stream",
     "text": [
      "Gaps to simplify in region 1: 100%|█████████████| 86/86 [00:01<00:00, 85.05it/s]\n",
      "Gaps to fill in region 1: 100%|███████████████████| 2/2 [00:00<00:00, 32.68it/s]\n"
     ]
    },
    {
     "name": "stdout",
     "output_type": "stream",
     "text": [
      "1 gaps in region 2 will remain unfilled, because they either are not simply connected or exceed the area threshold.\n"
     ]
    },
    {
     "name": "stderr",
     "output_type": "stream",
     "text": [
      "Gaps to simplify in region 2: 100%|██████████████| 9/9 [00:00<00:00, 134.74it/s]\n",
      "Gaps to fill: 0it [00:00, ?it/s]\n",
      "Gaps to simplify in region 3: 100%|███████████| 177/177 [00:05<00:00, 31.75it/s]\n",
      "Gaps to fill in region 3: 100%|█████████████████| 15/15 [00:00<00:00, 27.32it/s]\n",
      "Gaps to simplify: 0it [00:00, ?it/s]\n",
      "Gaps to fill: 0it [00:00, ?it/s]\n",
      "Gaps to simplify: 0it [00:00, ?it/s]\n",
      "Gaps to fill: 0it [00:00, ?it/s]\n",
      "Gaps to simplify: 0it [00:00, ?it/s]\n",
      "Gaps to fill: 0it [00:00, ?it/s]\n"
     ]
    },
    {
     "name": "stdout",
     "output_type": "stream",
     "text": [
      "1 gaps in region 7 will remain unfilled, because they either are not simply connected or exceed the area threshold.\n"
     ]
    },
    {
     "name": "stderr",
     "output_type": "stream",
     "text": [
      "Gaps to simplify in region 7: 100%|███████████| 119/119 [00:02<00:00, 47.91it/s]\n",
      "Gaps to fill in region 7: 100%|███████████████████| 2/2 [00:00<00:00, 45.81it/s]\n",
      "Gaps to simplify in region 8: 100%|███████████| 966/966 [00:18<00:00, 51.31it/s]\n",
      "Gaps to fill in region 8: 100%|█████████████████| 11/11 [00:00<00:00, 33.28it/s]\n"
     ]
    },
    {
     "name": "stdout",
     "output_type": "stream",
     "text": [
      "1 gaps in region 9 will remain unfilled, because they either are not simply connected or exceed the area threshold.\n"
     ]
    },
    {
     "name": "stderr",
     "output_type": "stream",
     "text": [
      "Gaps to simplify in region 9: 100%|█████████████| 88/88 [00:01<00:00, 54.63it/s]\n",
      "Gaps to fill in region 9: 100%|███████████████████| 6/6 [00:00<00:00, 10.75it/s]\n"
     ]
    },
    {
     "name": "stdout",
     "output_type": "stream",
     "text": [
      "1 gaps in region 10 will remain unfilled, because they either are not simply connected or exceed the area threshold.\n"
     ]
    },
    {
     "name": "stderr",
     "output_type": "stream",
     "text": [
      "Gaps to simplify in region 10: 100%|██████████| 141/141 [00:07<00:00, 19.63it/s]\n",
      "Gaps to fill in region 10: 100%|██████████████████| 5/5 [00:02<00:00,  1.89it/s]\n",
      "Gaps to simplify in region 11: 100%|██████████| 180/180 [00:03<00:00, 51.12it/s]\n",
      "Gaps to fill in region 11: 100%|██████████████████| 3/3 [00:00<00:00, 21.92it/s]\n",
      "Gaps to simplify in region 12: 100%|██████████████| 2/2 [00:00<00:00, 73.32it/s]\n",
      "Gaps to fill: 0it [00:00, ?it/s]\n"
     ]
    },
    {
     "name": "stdout",
     "output_type": "stream",
     "text": [
      "1 gaps in region 13 will remain unfilled, because they either are not simply connected or exceed the area threshold.\n"
     ]
    },
    {
     "name": "stderr",
     "output_type": "stream",
     "text": [
      "Gaps to simplify in region 13: 100%|████████████| 39/39 [00:00<00:00, 69.55it/s]\n",
      "Gaps to fill in region 13: 100%|██████████████████| 1/1 [00:00<00:00, 30.78it/s]\n",
      "Gaps to simplify: 0it [00:00, ?it/s]\n",
      "Gaps to fill: 0it [00:00, ?it/s]\n"
     ]
    },
    {
     "name": "stdout",
     "output_type": "stream",
     "text": [
      "2 gaps in region 15 will remain unfilled, because they either are not simply connected or exceed the area threshold.\n"
     ]
    },
    {
     "name": "stderr",
     "output_type": "stream",
     "text": [
      "Gaps to simplify in region 15: 100%|████████████| 60/60 [00:01<00:00, 59.35it/s]\n",
      "Gaps to fill in region 15: 100%|██████████████████| 3/3 [00:00<00:00, 23.08it/s]\n",
      "Gaps to simplify in region 16: 100%|██████████| 227/227 [00:03<00:00, 71.91it/s]\n",
      "Gaps to fill in region 16: 100%|██████████████████| 1/1 [00:00<00:00, 24.19it/s]\n"
     ]
    },
    {
     "name": "stdout",
     "output_type": "stream",
     "text": [
      "1 gaps in region 17 will remain unfilled, because they either are not simply connected or exceed the area threshold.\n"
     ]
    },
    {
     "name": "stderr",
     "output_type": "stream",
     "text": [
      "Gaps to simplify in region 17: 100%|██████████| 246/246 [00:11<00:00, 21.58it/s]\n",
      "Gaps to fill in region 17: 100%|██████████████████| 5/5 [00:00<00:00, 14.30it/s]\n",
      "Gaps to simplify in region 18: 100%|██████████| 300/300 [00:04<00:00, 69.76it/s]\n",
      "Gaps to fill in region 18: 100%|████████████████| 12/12 [00:00<00:00, 36.02it/s]\n",
      "Gaps to simplify in region 19: 100%|██████████| 116/116 [00:01<00:00, 68.29it/s]\n",
      "Gaps to fill in region 19: 100%|██████████████████| 8/8 [00:00<00:00, 24.45it/s]\n",
      "Gaps to simplify in region 20: 100%|██████████| 165/165 [00:02<00:00, 66.87it/s]\n",
      "Gaps to fill in region 20: 100%|████████████████| 11/11 [00:00<00:00, 47.76it/s]\n"
     ]
    },
    {
     "name": "stdout",
     "output_type": "stream",
     "text": [
      "1 gaps in region 21 will remain unfilled, because they either are not simply connected or exceed the area threshold.\n"
     ]
    },
    {
     "name": "stderr",
     "output_type": "stream",
     "text": [
      "Gaps to simplify in region 21: 758it [01:11, 10.60it/s]                         \n",
      "Gaps to fill in region 21: 100%|████████████████| 80/80 [00:04<00:00, 19.15it/s]\n",
      "Gaps to simplify in region 22: 100%|██████████| 358/358 [05:28<00:00,  1.09it/s]\n",
      "Gaps to fill in region 22: 100%|████████████████| 33/33 [00:01<00:00, 31.53it/s]\n",
      "Gaps to simplify in region 23: 100%|██████████████| 1/1 [00:00<00:00, 74.75it/s]\n",
      "Gaps to fill in region 23: 100%|██████████████████| 1/1 [00:00<00:00, 69.84it/s]\n",
      "Gaps to simplify in region 24: 100%|██████████| 687/687 [00:12<00:00, 55.74it/s]\n",
      "Gaps to fill in region 24: 100%|██████████████████| 7/7 [00:00<00:00, 33.01it/s]\n",
      "Gaps to simplify in region 25: 100%|████████████| 28/28 [00:01<00:00, 27.82it/s]\n",
      "Gaps to fill in region 25: 100%|██████████████████| 8/8 [00:00<00:00, 31.25it/s]\n"
     ]
    },
    {
     "name": "stdout",
     "output_type": "stream",
     "text": [
      "1 gaps in region 26 will remain unfilled, because they either are not simply connected or exceed the area threshold.\n"
     ]
    },
    {
     "name": "stderr",
     "output_type": "stream",
     "text": [
      "Gaps to simplify in region 26: 100%|████████| 1514/1514 [01:02<00:00, 24.32it/s]\n",
      "Gaps to fill in region 26: 100%|██████████████████| 6/6 [00:00<00:00, 28.61it/s]\n",
      "Gaps to simplify: 0it [00:00, ?it/s]\n",
      "Gaps to fill: 0it [00:00, ?it/s]\n"
     ]
    },
    {
     "name": "stdout",
     "output_type": "stream",
     "text": [
      "1 gaps in region 28 will remain unfilled, because they either are not simply connected or exceed the area threshold.\n"
     ]
    },
    {
     "name": "stderr",
     "output_type": "stream",
     "text": [
      "Gaps to simplify in region 28: 100%|██████████| 297/297 [01:21<00:00,  3.64it/s]\n",
      "Gaps to fill in region 28: 100%|████████████████| 38/38 [00:01<00:00, 23.96it/s]\n"
     ]
    },
    {
     "name": "stdout",
     "output_type": "stream",
     "text": [
      "1 gaps in region 29 will remain unfilled, because they either are not simply connected or exceed the area threshold.\n"
     ]
    },
    {
     "name": "stderr",
     "output_type": "stream",
     "text": [
      "Gaps to simplify in region 29: 100%|██████████| 166/166 [00:06<00:00, 27.14it/s]\n",
      "Gaps to fill in region 29: 100%|████████████████| 14/14 [00:00<00:00, 29.68it/s]\n",
      "Gaps to simplify: 0it [00:00, ?it/s]\n",
      "Gaps to fill: 0it [00:00, ?it/s]\n"
     ]
    },
    {
     "name": "stdout",
     "output_type": "stream",
     "text": [
      "1 gaps in region 31 will remain unfilled, because they either are not simply connected or exceed the area threshold.\n"
     ]
    },
    {
     "name": "stderr",
     "output_type": "stream",
     "text": [
      "Gaps to simplify in region 31: 100%|███████████| 23/23 [00:00<00:00, 116.02it/s]\n",
      "Gaps to fill: 0it [00:00, ?it/s]\n"
     ]
    },
    {
     "name": "stdout",
     "output_type": "stream",
     "text": [
      "1 gaps in region 32 will remain unfilled, because they either are not simply connected or exceed the area threshold.\n"
     ]
    },
    {
     "name": "stderr",
     "output_type": "stream",
     "text": [
      "Gaps to simplify in region 32: 100%|██████████| 669/669 [00:27<00:00, 24.54it/s]\n",
      "Gaps to fill in region 32: 100%|████████████████| 84/84 [00:01<00:00, 65.02it/s]\n"
     ]
    },
    {
     "name": "stdout",
     "output_type": "stream",
     "text": [
      "1 gaps in region 33 will remain unfilled, because they either are not simply connected or exceed the area threshold.\n"
     ]
    },
    {
     "name": "stderr",
     "output_type": "stream",
     "text": [
      "Gaps to simplify in region 33: 100%|████████████| 27/27 [00:00<00:00, 89.97it/s]\n",
      "Gaps to fill in region 33: 100%|██████████████████| 3/3 [00:00<00:00, 47.24it/s]\n",
      "Gaps to simplify in region 34: 100%|██████████| 558/558 [00:27<00:00, 20.23it/s]\n",
      "Gaps to fill in region 34: 100%|████████████████| 60/60 [00:01<00:00, 30.47it/s]\n"
     ]
    },
    {
     "name": "stdout",
     "output_type": "stream",
     "text": [
      "3 gaps in region 35 will remain unfilled, because they either are not simply connected or exceed the area threshold.\n"
     ]
    },
    {
     "name": "stderr",
     "output_type": "stream",
     "text": [
      "Gaps to simplify in region 35: 100%|██████████| 111/111 [00:13<00:00,  8.07it/s]\n",
      "Gaps to fill in region 35: 100%|████████████████| 60/60 [00:04<00:00, 13.47it/s]\n"
     ]
    },
    {
     "name": "stdout",
     "output_type": "stream",
     "text": [
      "1 gaps in region 36 will remain unfilled, because they either are not simply connected or exceed the area threshold.\n"
     ]
    },
    {
     "name": "stderr",
     "output_type": "stream",
     "text": [
      "Gaps to simplify in region 36: 100%|█████████████| 6/6 [00:00<00:00, 132.94it/s]\n",
      "Gaps to fill: 0it [00:00, ?it/s]\n"
     ]
    },
    {
     "name": "stdout",
     "output_type": "stream",
     "text": [
      "1 gaps in region 37 will remain unfilled, because they either are not simply connected or exceed the area threshold.\n"
     ]
    },
    {
     "name": "stderr",
     "output_type": "stream",
     "text": [
      "Gaps to simplify in region 37: 100%|██████████| 167/167 [00:06<00:00, 26.44it/s]\n",
      "Gaps to fill in region 37: 100%|████████████████| 12/12 [00:00<00:00, 14.22it/s]\n"
     ]
    },
    {
     "name": "stdout",
     "output_type": "stream",
     "text": [
      "1 gaps in region 38 will remain unfilled, because they either are not simply connected or exceed the area threshold.\n"
     ]
    },
    {
     "name": "stderr",
     "output_type": "stream",
     "text": [
      "Gaps to simplify: 0it [00:00, ?it/s]\n",
      "Gaps to fill: 0it [00:00, ?it/s]\n"
     ]
    },
    {
     "name": "stdout",
     "output_type": "stream",
     "text": [
      "1 gaps in region 39 will remain unfilled, because they either are not simply connected or exceed the area threshold.\n"
     ]
    },
    {
     "name": "stderr",
     "output_type": "stream",
     "text": [
      "Gaps to simplify: 0it [00:00, ?it/s]\n",
      "Gaps to fill: 0it [00:00, ?it/s]\n"
     ]
    },
    {
     "name": "stdout",
     "output_type": "stream",
     "text": [
      "1 gaps in region 40 will remain unfilled, because they either are not simply connected or exceed the area threshold.\n"
     ]
    },
    {
     "name": "stderr",
     "output_type": "stream",
     "text": [
      "Gaps to simplify in region 40: 100%|████████| 1226/1226 [02:22<00:00,  8.58it/s]\n",
      "Gaps to fill in region 40: 100%|████████████████| 78/78 [00:07<00:00, 10.10it/s]\n",
      "Gaps to simplify in region 41: 100%|████████████| 39/39 [00:01<00:00, 21.86it/s]\n",
      "Gaps to fill in region 41: 100%|██████████████████| 7/7 [00:00<00:00, 25.69it/s]\n",
      "Gaps to simplify in region 42: 100%|██████████| 244/244 [00:06<00:00, 35.33it/s]\n",
      "Gaps to fill in region 42: 100%|██████████████████| 8/8 [00:00<00:00, 21.16it/s]\n"
     ]
    },
    {
     "name": "stdout",
     "output_type": "stream",
     "text": [
      "1 gaps in region 43 will remain unfilled, because they either are not simply connected or exceed the area threshold.\n"
     ]
    },
    {
     "name": "stderr",
     "output_type": "stream",
     "text": [
      "Gaps to simplify in region 43: 100%|████████████| 57/57 [00:01<00:00, 30.27it/s]\n",
      "Gaps to fill in region 43: 100%|████████████████| 11/11 [00:00<00:00, 14.76it/s]\n",
      "Gaps to simplify in region 44: 100%|████████████| 46/46 [00:06<00:00,  6.58it/s]\n",
      "Gaps to fill in region 44: 100%|████████████████| 19/19 [00:09<00:00,  1.94it/s]\n",
      "Gaps to simplify: 0it [00:00, ?it/s]\n",
      "Gaps to fill: 0it [00:00, ?it/s]\n"
     ]
    },
    {
     "name": "stdout",
     "output_type": "stream",
     "text": [
      "1 gaps in region 46 will remain unfilled, because they either are not simply connected or exceed the area threshold.\n"
     ]
    },
    {
     "name": "stderr",
     "output_type": "stream",
     "text": [
      "Gaps to simplify in region 46: 100%|██████████| 198/198 [00:13<00:00, 14.92it/s]\n",
      "Gaps to fill in region 46: 100%|██████████████████| 6/6 [00:03<00:00,  1.92it/s]\n",
      "Gaps to simplify in region 47: 100%|██████████| 341/341 [00:13<00:00, 24.59it/s]\n",
      "Gaps to fill in region 47: 100%|██████████████████| 8/8 [00:00<00:00, 14.81it/s]\n"
     ]
    },
    {
     "name": "stdout",
     "output_type": "stream",
     "text": [
      "1 gaps in region 48 will remain unfilled, because they either are not simply connected or exceed the area threshold.\n"
     ]
    },
    {
     "name": "stderr",
     "output_type": "stream",
     "text": [
      "Gaps to simplify in region 48: 100%|███████████| 56/56 [00:00<00:00, 100.53it/s]\n",
      "Gaps to fill in region 48: 100%|██████████████████| 1/1 [00:00<00:00, 43.32it/s]\n",
      "Gaps to simplify: 0it [00:00, ?it/s]\n",
      "Gaps to fill: 0it [00:00, ?it/s]\n",
      "Gaps to simplify in region 50: 100%|██████████| 122/122 [00:01<00:00, 86.86it/s]\n",
      "Gaps to fill in region 50: 100%|██████████████████| 7/7 [00:00<00:00, 31.40it/s]\n",
      "Gaps to simplify in region 51: 100%|████████████| 35/35 [00:01<00:00, 20.71it/s]\n",
      "Gaps to fill in region 51: 100%|██████████████████| 8/8 [00:00<00:00, 19.91it/s]\n",
      "Gaps to simplify in region 52: 100%|████████████| 88/88 [00:01<00:00, 55.09it/s]\n",
      "Gaps to fill in region 52: 100%|██████████████████| 2/2 [00:00<00:00, 17.82it/s]\n"
     ]
    },
    {
     "name": "stdout",
     "output_type": "stream",
     "text": [
      "1 gaps in region 53 will remain unfilled, because they either are not simply connected or exceed the area threshold.\n"
     ]
    },
    {
     "name": "stderr",
     "output_type": "stream",
     "text": [
      "Gaps to simplify in region 53: 100%|████████████| 61/61 [00:00<00:00, 90.24it/s]\n",
      "Gaps to fill in region 53: 100%|██████████████████| 7/7 [00:00<00:00, 58.15it/s]\n",
      "Gaps to simplify in region 54: 100%|████████████| 43/43 [00:00<00:00, 98.60it/s]\n",
      "Gaps to fill: 0it [00:00, ?it/s]\n",
      "Gaps to simplify in region 55: 100%|██████████| 390/390 [00:36<00:00, 10.67it/s]\n",
      "Gaps to fill in region 55: 100%|████████████████| 41/41 [00:02<00:00, 15.47it/s]\n"
     ]
    },
    {
     "name": "stdout",
     "output_type": "stream",
     "text": [
      "3 gaps in region 56 will remain unfilled, because they either are not simply connected or exceed the area threshold.\n"
     ]
    },
    {
     "name": "stderr",
     "output_type": "stream",
     "text": [
      "Gaps to simplify in region 56: 100%|████████████| 16/16 [00:00<00:00, 66.52it/s]\n",
      "Gaps to fill: 0it [00:00, ?it/s]\n"
     ]
    },
    {
     "name": "stdout",
     "output_type": "stream",
     "text": [
      "1 gaps in region 57 will remain unfilled, because they either are not simply connected or exceed the area threshold.\n"
     ]
    },
    {
     "name": "stderr",
     "output_type": "stream",
     "text": [
      "Gaps to simplify in region 57: 100%|██████████████| 2/2 [00:00<00:00, 62.11it/s]\n",
      "Gaps to fill: 0it [00:00, ?it/s]\n"
     ]
    },
    {
     "name": "stdout",
     "output_type": "stream",
     "text": [
      "1 gaps in region 58 will remain unfilled, because they either are not simply connected or exceed the area threshold.\n"
     ]
    },
    {
     "name": "stderr",
     "output_type": "stream",
     "text": [
      "Gaps to simplify in region 58: 100%|████████████| 34/34 [00:03<00:00,  8.64it/s]\n",
      "Gaps to fill in region 58: 100%|████████████████| 13/13 [00:05<00:00,  2.51it/s]\n",
      "Gaps to simplify in region 59: 100%|██████████| 359/359 [00:04<00:00, 82.57it/s]\n",
      "Gaps to fill in region 59: 100%|██████████████████| 4/4 [00:00<00:00, 34.16it/s]\n",
      "Gaps to simplify: 0it [00:00, ?it/s]\n",
      "Gaps to fill: 0it [00:00, ?it/s]\n",
      "Gaps to simplify in region 61: 100%|██████████| 115/115 [00:01<00:00, 78.81it/s]\n",
      "Gaps to fill: 0it [00:00, ?it/s]\n"
     ]
    },
    {
     "name": "stdout",
     "output_type": "stream",
     "text": [
      "1 gaps in region 62 will remain unfilled, because they either are not simply connected or exceed the area threshold.\n"
     ]
    },
    {
     "name": "stderr",
     "output_type": "stream",
     "text": [
      "Gaps to simplify in region 62: 100%|██████████| 192/192 [00:02<00:00, 87.42it/s]\n",
      "Gaps to fill in region 62: 100%|████████████████| 13/13 [00:00<00:00, 35.56it/s]\n",
      "Gaps to simplify in region 63: 100%|██████████| 390/390 [00:09<00:00, 39.74it/s]\n",
      "Gaps to fill in region 63: 100%|██████████████████| 7/7 [00:00<00:00, 43.34it/s]\n"
     ]
    },
    {
     "name": "stdout",
     "output_type": "stream",
     "text": [
      "1 gaps in region 64 will remain unfilled, because they either are not simply connected or exceed the area threshold.\n"
     ]
    },
    {
     "name": "stderr",
     "output_type": "stream",
     "text": [
      "Gaps to simplify in region 64: 100%|████████████| 64/64 [00:00<00:00, 95.76it/s]\n",
      "Gaps to fill: 0it [00:00, ?it/s]\n"
     ]
    },
    {
     "name": "stdout",
     "output_type": "stream",
     "text": [
      "1 gaps in region 65 will remain unfilled, because they either are not simply connected or exceed the area threshold.\n"
     ]
    },
    {
     "name": "stderr",
     "output_type": "stream",
     "text": [
      "Gaps to simplify in region 65: 100%|████████████| 54/54 [00:00<00:00, 69.36it/s]\n",
      "Gaps to fill: 0it [00:00, ?it/s]\n",
      "Gaps to simplify: 0it [00:00, ?it/s]\n",
      "Gaps to fill: 0it [00:00, ?it/s]\n"
     ]
    }
   ],
   "source": [
    "vest_base = add_vest_base(vest_base_data, start_col, year, county = county_df)"
   ]
  },
  {
   "cell_type": "code",
   "execution_count": 25,
   "metadata": {},
   "outputs": [
    {
     "name": "stdout",
     "output_type": "stream",
     "text": [
      "[0.0, 0.0, 0.0, 0.0, 0.0, 0.0, 0.0, 0.0, 0.0, 0.0, 0.0, 0.0, 0.0, 0.0, 0.0, 0.0, 0.0, 0.0, 0.0, 0.0, 0.0, 0.0, 0.0, 0.0, 0.0, 0.0, 0.0, 0.0, 0.0, 0.0, 0.0, 0.0, 0.0, 0.0, 0.0, 0.0, 0.0, 0.0, 0.0, 0.0, 0.0, 0.0, 0.0, 0.0, 0.0, 0.0, 0.0, 0.0, 0.0, 0.0, 0.0, 0.0, 0.0, 0.0, 0.0, 0.0, 0.0, 0.0, 0.0, 0.0, 0.0, 0.0, 0.0, 0.0, 0.0, 0.0, 0.0, 0.0, 0.0, 0.0, 0.0, 0.0, 0.0, 0.0, 0.0, 0.0, 0.0, 0.0, 0.0, 0.0, 0.0, 0.0, 0.0, 0.0, 0.0, 0.0, 0.0, 0.0, 0.0, 0.0, 0.0, 0.0, 0.0, 0.0, 0.0, 0.0, 0.0, 0.0, 0.0, 0.0, 0.0, 0.0, 0.0, 0.0, 0.0, 0.0, 0.0, 0.0, 0.0, 0.0, 0.0, 0.0, 0.0, 0.0, 0.0, 0.0, 0.0, 0.0, 0.0, 0.0, 0.0, 0.0, 0.0, 0.0, 0.0, 0.0, 0.0, 0.0, 0.0, 0.0, 0.0, 0.0, 0.0, 0.0, 0.0, 0.0, 0.0, 0.0, 0.0, 0.0, 0.0, 0.0, 0.0, 0.0, 0.0, 0.0, 0.0, 0.0, 0.0, 0.0, 0.0, 0.0, 0.0, 0.0, 0.0, 0.0, 0.0, 0.0, 0.0, 0.0, 0.0, 0.0, 0.0, 0.0, 0.0, 0.0, 0.0, 0.0, 0.0, 0.0, 0.0, 0.0, 0.0, 0.0, 0.0, 0.0, 0.0, 0.0, 0.0, 0.0, 0.0, 0.0, 0.0, 0.0, 0.0, 0.0, 0.0, 0.0, 0.0, 0.0, 0.0, 0.0, 0.0, 0.0, 0.0, 0.0, 0.0, 0.0, 0.0, 0.0, 0.0, 0.0, 0.0, 0.0, 0.0, 0.0, 0.0, 0.0, 0.0, 0.0, 0.0, 0.0, 0.0, 0.0, 0.0, 0.0, 0.0, 0.0, 0.0, 0.0, 0.0, 0.0, 0.0, 0.0, 0.0, 0.0, 0.0, 0.0, 0.0, 0.0, 0.0, 0.0, 0.0, 0.0, 0.0, 0.0, 0.0, 0.0, 0.0, 0.0, 0.0, 0.0, 0.0, 0.0, 0.0, 0.0, 0.0, 0.0, 0.0, 0.0, 0.0, 0.0, 0.0, 0.0, 0.0, 0.0, 0.0, 0.0, 0.0, 0.0, 0.0, 0.0, 0.0, 0.0, 0.0, 0.0, 0.0, 0.0, 0.0, 0.0, 0.0, 0.0, 0.0, 0.0, 0.0, 0.0, 0.0, 0.0, 0.0, 0.0, 0.0, 0.0, 0.0, 0.0, 0.0, 0.0, 0.0, 0.0, 0.0, 0.0, 0.0, 0.0, 0.0, 0.0, 0.0, 0.0, 0.0, 0.0, 0.0, 0.0, 0.0, 0.0, 0.0, 0.0, 0.0, 0.0, 0.0, 0.0, 0.0, 0.0, 0.0, 0.0, 0.0, 0.0, 0.0, 0.0, 0.0, 0.0, 0.0, 0.0, 0.0, 0.0, 0.0, 0.0, 0.0, 0.0, 0.0, 0.0, 0.0, 0.0, 0.0, 0.0, 0.0, 0.0, 0.0, 0.0, 0.0, 0.0, 0.0, 0.0, 0.0, 0.0, 0.0, 0.0, 0.0, 0.0, 0.0, 0.0, 0.0, 0.0, 0.0, 0.0, 0.0, 0.0, 0.0, 0.0, 0.0, 0.0, 0.0, 0.0, 0.0, 0.0, 0.0, 0.0, 0.0, 0.0, 0.0, 0.0, 0.0, 0.0, 0.0, 0.0, 0.0, 0.0, 0.0, 0.0, 0.0, 0.0, 0.0, 0.0, 0.0, 0.0, 0.0, 0.0, 0.0, 0.0, 0.0, 0.0, 0.0, 0.0, 0.0, 0.0, 0.0, 0.0, 0.0, 0.0, 0.0, 0.0, 0.0, 0.0, 0.0, 0.0, 0.0, 0.0, 0.0, 0.0, 0.0, 0.0, 0.0, 0.0, 0.0, 0.0, 0.0, 0.0, 0.0, 0.0, 0.0, 0.0, 0.0, 0.0, 0.0, 0.0, 0.0, 0.0, 0.0, 0.0, 0.0, 0.0, 0.0, 0.0, 0.0, 0.0, 0.0, 0.0, 0.0, 0.0, 0.0, 0.0, 0.0, 0.0, 0.0, 0.0, 0.0, 0.0, 0.0, 0.0, 0.0, 0.0, 0.0, 0.0, 0.0, 0.0, 0.0, 0.0, 0.0, 0.0, 0.0, 0.0, 0.0, 0.0, 0.0, 0.0, 0.0, 0.0, 0.0, 0.0, 0.0, 0.0, 0.0, 0.0, 0.0, 0.0, 0.0, 0.0, 0.0, 0.0, 0.0, 0.0, 0.0, 0.0, 0.0, 0.0, 0.0, 0.0, 0.0, 0.0, 0.0, 0.0, 0.0, 0.0, 0.0, 0.0, 0.0, 0.0, 0.0, 0.0, 0.0, 0.0, 0.0, 0.0, 0.0, 0.0, 0.0, 0.0, 0.0, 0.0, 0.0, 0.0, 0.0, 0.0, 0.0, 0.0, 0.0, 0.0, 0.0, 0.0, 0.0, 0.0, 0.0, 0.0, 0.0, 0.0, 0.0, 0.0, 0.0, 0.0, 0.0, 0.0, 0.0, 0.0, 0.0, 0.0, 0.0, 0.0, 0.0, 0.0, 0.0, 0.0, 0.0, 0.0, 0.0, 0.0, 0.0, 0.0, 0.0, 0.0, 0.0, 0.0, 0.0, 0.0, 0.0, 0.0, 0.0, 0.0, 0.0, 0.0, 0.0, 0.0, 0.0, 0.0, 0.0, 0.0, 0.0, 0.0, 0.0, 0.0, 0.0, 0.0, 0.0, 0.0, 0.0, 0.0, 0.0, 0.0, 0.0, 0.0, 0.0, 0.0, 0.0, 0.0, 0.0, 0.0, 0.0, 0.0, 0.0, 0.0, 0.0, 0.0, 0.0, 0.0, 0.0, 0.0, 0.0, 0.0, 0.0, 0.0, 0.0, 0.0, 0.0, 0.0, 0.0, 0.0, 0.0, 0.0, 0.0, 0.0, 0.0, 0.0, 0.0, 0.0, 0.0, 0.0, 0.0, 0.0, 0.0, 0.0, 0.0, 0.0, 0.0, 0.0, 0.0, 0.0, 0.0, 0.0, 0.0, 0.0, 0.0, 0.0, 0.0, 0.0, 0.0, 0.0, 0.0, 0.0, 0.0, 0.0, 0.0, 0.0, 0.0, 0.0, 0.0, 0.0, 0.0, 0.0, 0.0, 0.0, 0.0, 0.0, 0.0, 0.0, 0.0, 0.0, 0.0, 0.0, 0.0, 0.0, 0.0, 0.0, 0.0, 0.0, 0.0, 0.0, 0.0, 0.0, 0.0, 0.0, 0.0, 0.0, 0.0, 0.0, 0.0, 0.0, 0.0, 0.0, 0.0, 0.0, 0.0, 0.0, 0.0, 0.0, 0.0, 0.0, 0.0, 0.0, 0.0, 0.0, 0.0, 0.0, 0.0, 0.0, 0.0, 0.0, 0.0, 0.0, 0.0, 0.0, 0.0, 0.0, 0.0, 0.0, 0.0, 0.0, 0.0, 0.0, 0.0, 0.0, 0.0, 0.0, 0.0, 0.0, 0.0, 0.0, 0.0, 0.0, 0.0, 0.0, 0.0, 0.0, 0.0, 0.0, 0.0, 0.0, 0.0, 0.0, 0.0, 0.0, 0.0, 0.0, 0.0, 0.0, 0.0, 0.0, 0.0, 0.0, 0.0, 0.0, 0.0, 0.0, 0.0, 0.0, 0.0, 0.0, 0.0, 0.0, 0.0, 0.0, 0.0, 0.0, 0.0, 0.0, 0.0, 0.0, 0.0, 0.0, 0.0, 0.0, 0.0, 0.0, 0.0, 0.0, 0.0, 0.0, 0.0, 0.0, 0.0, 0.0, 0.0, 0.0, 0.0, 0.0, 0.0, 0.0, 0.0, 0.0, 0.0, 0.0, 0.0, 0.0, 0.0, 0.0, 0.0, 0.0, 0.0, 0.0, 0.0, 0.0, 0.0, 0.0, 0.0, 0.0, 0.0, 0.0, 0.0, 0.0, 0.0, 0.0, 0.0, 0.0, 0.0, 0.0, 0.0, 0.0, 0.0, 0.0, 0.0, 0.0, 0.0, 0.0, 0.0, 0.0, 0.0, 0.0, 0.0, 0.0, 0.0, 0.0, 0.0, 0.0, 0.0, 0.0, 0.0, 0.0, 0.0, 0.0, 0.0, 0.0, 0.0, 0.0, 0.0, 0.0, 0.0, 0.0, 0.0, 0.0, 0.0, 0.0, 0.0, 0.0, 0.0, 0.0, 0.0, 0.0, 0.0, 0.0, 0.0, 0.0, 0.0, 0.0, 0.0, 0.0, 0.0, 0.0, 0.0, 0.0, 0.0, 0.0, 0.0, 0.0, 0.0, 0.0, 0.0, 0.0, 0.0, 0.0, 0.0, 0.0, 0.0, 0.0, 0.0, 0.0, 0.0, 0.0, 0.0, 0.0, 0.0, 0.0, 0.0, 0.0, 0.0, 0.0, 0.0, 0.0, 0.0, 0.0, 0.0, 0.0, 0.0, 0.0, 0.0, 0.0, 0.0, 0.0, 0.0, 0.0, 0.0, 0.0, 0.0, 0.0, 0.0, 0.0, 0.0, 0.0, 0.0, 0.0, 0.0, 0.0, 0.0, 0.0, 0.0, 0.0, 0.0, 0.0, 0.0, 0.0, 0.0, 0.0, 0.0, 0.0, 0.0, 0.0, 0.0, 0.0, 0.0, 0.0, 0.0, 0.0, 0.0, 0.0, 0.0, 0.0, 0.0, 0.0, 0.0, 0.0, 0.0, 0.0, 0.0, 0.0, 0.0, 0.0, 0.0, 0.0, 0.0, 0.0, 0.0, 0.0, 0.0, 0.0, 0.0, 0.0, 0.0, 0.0, 0.0, 0.0, 0.0, 0.0, 0.0, 0.0, 0.0, 0.0, 0.0, 0.0, 0.0, 0.0, 0.0, 0.0, 0.0, 0.0, 0.0, 0.0, 0.0, 0.0, 0.0, 0.0, 0.0, 0.0, 0.0, 0.0, 0.0, 0.0, 0.0, 0.0, 0.0, 0.0, 0.0, 0.0, 0.0, 0.0, 0.0, 0.0, 0.0, 0.0, 0.0, 0.0, 0.0, 0.0, 0.0, 0.0, 0.0, 0.0, 0.0, 0.0, 0.0, 0.0, 0.0, 0.0, 0.0, 0.0, 0.0, 0.0, 0.0, 0.0, 0.0, 0.0, 0.0, 0.0, 0.0, 0.0, 0.0, 0.0, 0.0, 0.0, 0.0, 0.0, 0.0, 0.0, 0.0, 0.0, 0.0, 0.0, 0.0, 0.0, 0.0, 0.0, 0.0, 0.0, 0.0, 0.0, 0.0, 0.0, 0.0, 0.0, 0.0, 0.0, 0.0, 0.0, 0.0, 0.0, 0.0, 0.0, 0.0, 0.0, 0.0, 0.0, 0.0, 0.0, 0.0, 0.0, 0.0, 0.0, 0.0, 0.0, 0.0, 0.0, 0.0, 0.0, 0.0, 0.0, 0.0, 0.0, 0.0, 0.0, 0.0, 0.0, 0.0, 0.0, 0.0, 0.0, 0.0, 0.0, 0.0, 0.0, 0.0, 0.0, 0.0, 0.0, 0.0, 0.0, 0.0, 0.0, 0.0, 0.0, 0.0, 0.0, 0.0, 0.0, 0.0, 0.0, 0.0, 0.0, 0.0, 0.0, 0.0, 0.0, 0.0, 0.0, 0.0, 0.0, 0.0, 0.0, 0.0, 0.0, 0.0, 0.0, 0.0, 0.0, 0.0, 0.0, 0.0, 0.0, 0.0, 0.0, 0.0, 0.0, 0.0, 0.0, 0.0, 0.0, 0.0, 0.0, 0.0, 0.0, 0.0, 0.0, 0.0, 0.0, 0.0, 0.0, 0.0, 0.0, 0.0, 0.0, 0.0, 0.0, 0.0, 0.0, 0.0, 0.0, 0.0, 0.0, 0.0, 0.0, 0.0, 0.0, 0.0, 0.0, 0.0, 0.0, 0.0, 0.0, 0.0, 0.0, 0.0, 0.0, 0.0, 0.0, 0.0, 0.0, 0.0, 0.0, 0.0, 0.0, 0.0, 0.0, 0.0, 0.0, 0.0, 0.0, 0.0, 0.0, 0.0, 0.0, 0.0, 0.0, 0.0, 0.0, 0.0, 0.0, 0.0, 0.0, 0.0, 0.0, 0.0, 0.0, 0.0, 0.0, 0.0, 0.0, 0.0, 0.0, 0.0, 0.0, 0.0, 0.0, 0.0, 0.0, 0.0, 0.0, 0.0, 0.0, 0.0, 0.0, 0.0, 0.0, 0.0, 0.0, 0.0, 0.0, 0.0, 0.0, 0.0, 0.0, 0.0, 0.0, 0.0, 0.0, 0.0, 0.0, 0.0, 0.0, 0.0, 0.0, 0.0, 0.0, 0.0, 0.0, 0.0, 0.0, 0.0, 0.0, 0.0, 0.0, 0.0, 0.0, 0.0, 0.0, 0.0, 0.0, 0.0, 0.0, 0.0, 0.0, 0.0, 0.0, 0.0, 0.0, 0.0, 0.0, 0.0, 0.0, 0.0, 0.0, 0.0, 0.0, 0.0, 0.0, 0.0, 0.0, 0.0, 0.0, 0.0, 0.0, 0.0, 0.0, 0.0, 0.0, 0.0, 0.0, 0.0, 0.0, 0.0, 0.0, 0.0, 0.0, 0.0, 0.0, 0.0, 0.0, 0.0, 0.0, 0.0, 0.0, 0.0, 0.0, 0.0, 0.0, 0.0, 0.0, 0.0, 0.0, 0.0, 0.0, 0.0, 0.0, 0.0, 0.0, 0.0, 0.0, 0.0, 0.0, 0.0, 0.0, 0.0, 0.0, 0.0, 0.0, 0.0, 0.0, 0.0, 0.0, 0.0, 0.0, 0.0, 0.0, 0.0, 0.0, 0.0, 0.0, 0.0, 0.0, 0.0, 0.0, 0.0, 0.0, 0.0, 0.0, 0.0, 0.0, 0.0, 0.0, 0.0, 0.0, 0.0, 0.0, 0.0, 0.0, 0.0, 0.0, 0.0, 0.0, 0.0, 0.0, 0.0, 0.0, 0.0, 0.0, 0.0, 0.0, 0.0, 0.0, 0.0, 0.0, 0.0, 0.0, 0.0, 0.0, 0.0, 0.0, 0.0, 0.0, 0.0, 0.0, 0.0, 0.0, 0.0, 0.0, 0.0, 0.0, 0.0, 0.0, 0.0, 0.0, 0.0, 0.0, 0.0, 0.0, 0.0, 0.0, 0.0, 0.0, 0.0, 0.0, 0.0, 0.0, 0.0, 0.0, 0.0, 0.0, 0.0, 0.0, 0.0, 0.0, 0.0, 0.0, 0.0, 0.0, 0.0, 0.0, 0.0, 0.0, 0.0, 0.0, 0.0, 0.0, 0.0, 0.0, 0.0, 0.0, 0.0, 0.0, 0.0, 0.0, 0.0, 0.0, 0.0, 0.0, 0.0, 0.0, 0.0, 0.0, 0.0, 0.0, 0.0, 0.0, 0.0, 0.0, 0.0, 0.0, 0.0, 0.0, 0.0, 0.0, 0.0, 0.0, 0.0, 0.0, 0.0, 0.0, 0.0, 0.0, 0.0, 0.0, 0.0, 0.0, 0.0, 0.0, 0.0, 0.0, 0.0, 0.0, 0.0, 0.0, 0.0, 0.0, 0.0, 0.0, 0.0, 0.0, 0.0, 0.0, 0.0, 0.0, 0.0, 0.0, 0.0, 0.0, 0.0, 0.0, 0.0, 0.0, 0.0, 0.0, 0.0, 0.0, 0.0, 0.0, 0.0, 0.0, 0.0, 0.0, 0.0, 0.0, 0.0, 0.0, 0.0, 0.0, 0.0, 0.0, 0.0, 0.0, 0.0, 0.0, 0.0, 0.0, 0.0, 0.0, 0.0, 0.0, 0.0, 0.0, 0.0, 0.0, 0.0, 0.0, 0.0, 0.0, 0.0, 0.0, 0.0, 0.0, 0.0, 0.0, 0.0, 0.0, 0.0, 0.0, 0.0, 0.0, 0.0, 0.0, 0.0, 0.0, 0.0, 0.0, 0.0, 0.0, 0.0, 0.0, 0.0, 0.0, 0.0, 0.0, 0.0, 0.0, 0.0, 0.0, 0.0, 0.0, 0.0, 0.0, 0.0, 0.0, 0.0, 0.0, 0.0, 0.0, 0.0, 0.0, 0.0, 0.0, 0.0, 0.0, 0.0, 0.0, 0.0, 0.0, 0.0, 0.0, 0.0, 0.0, 0.0, 0.0, 0.0, 0.0, 0.0, 0.0, 0.0, 0.0, 0.0, 0.0, 0.0, 0.0, 0.0, 0.0, 0.0, 0.0, 0.0, 0.0, 0.0, 0.0, 0.0, 0.0, 0.0, 0.0, 0.0, 0.0, 0.0, 0.0, 0.0, 0.0, 0.0, 0.0, 0.0, 0.0, 0.0, 0.0, 0.0, 0.0, 0.0, 0.0, 0.0, 0.0, 0.0, 0.0, 0.0, 0.0, 0.0, 0.0, 0.0, 0.0, 0.0, 0.0, 0.0, 0.0, 0.0, 0.0, 0.0, 0.0, 0.0, 0.0, 0.0, 0.0, 0.0, 0.0, 0.0, 0.0, 0.0, 0.0, 0.0, 0.0, 0.0, 0.0, 0.0, 0.0, 0.0, 0.0, 0.0, 0.0, 0.0, 0.0, 0.0, 0.0, 0.0, 0.0, 0.0, 0.0, 0.0, 0.0, 0.0, 0.0, 0.0, 0.0, 0.0, 0.0, 0.0, 0.0, 0.0, 0.0, 0.0, 0.0, 0.0, 0.0, 0.0, 0.0, 0.0, 0.0, 0.0, 0.0, 0.0, 0.0, 0.0, 0.0, 0.0, 0.0, 0.0, 0.0, 0.0, 0.0, 0.0, 0.0, 0.0, 0.0, 0.0, 0.0, 0.0, 0.0, 0.0, 0.0, 0.0, 0.0]\n"
     ]
    }
   ],
   "source": [
    "borders = check_small_boundary_lengths(vest_base)\n",
    "print(borders[:1700])"
   ]
  },
  {
   "cell_type": "code",
   "execution_count": 28,
   "metadata": {},
   "outputs": [
    {
     "name": "stdout",
     "output_type": "stream",
     "text": [
      "Snapping all geometries to a grid with precision 10^( -5 ) to avoid GEOS errors.\n",
      "Identifying overlaps...\n"
     ]
    },
    {
     "name": "stderr",
     "output_type": "stream",
     "text": [
      "100%|█████████████████████████████████████| 8192/8192 [00:04<00:00, 1640.36it/s]\n"
     ]
    },
    {
     "name": "stdout",
     "output_type": "stream",
     "text": [
      "Resolving overlaps...\n",
      "4 gaps will remain unfilled, because they either are not simply connected or exceed the area threshold.\n",
      "Filling gaps...\n"
     ]
    },
    {
     "name": "stderr",
     "output_type": "stream",
     "text": [
      "Gaps to simplify: 0it [00:00, ?it/s]\n",
      "Gaps to fill: 0it [00:00, ?it/s]"
     ]
    },
    {
     "name": "stdout",
     "output_type": "stream",
     "text": [
      "Converting small rook adjacencies to queen...\n"
     ]
    },
    {
     "name": "stderr",
     "output_type": "stream",
     "text": [
      "\n",
      "100%|█████████████████████████████████████| 6162/6162 [00:04<00:00, 1324.70it/s]\n",
      "100%|███████████████████████████████████████████| 4/4 [00:00<00:00, 2125.31it/s]\n",
      "100%|███████████████████████████████████████████| 4/4 [00:00<00:00, 2474.15it/s]\n",
      "100%|███████████████████████████████████████████| 4/4 [00:00<00:00, 2138.86it/s]\n",
      "100%|███████████████████████████████████████████| 4/4 [00:00<00:00, 1646.76it/s]\n",
      "100%|███████████████████████████████████████████| 4/4 [00:00<00:00, 1318.45it/s]\n",
      "100%|███████████████████████████████████████████| 4/4 [00:00<00:00, 2214.81it/s]\n",
      "100%|███████████████████████████████████████████| 4/4 [00:00<00:00, 2267.50it/s]\n",
      "100%|███████████████████████████████████████████| 4/4 [00:00<00:00, 2097.41it/s]\n",
      "100%|███████████████████████████████████████████| 4/4 [00:00<00:00, 2301.09it/s]\n",
      "100%|███████████████████████████████████████████| 4/4 [00:00<00:00, 1289.96it/s]\n",
      "100%|███████████████████████████████████████████| 4/4 [00:00<00:00, 1919.37it/s]\n",
      "100%|███████████████████████████████████████████| 4/4 [00:00<00:00, 2073.57it/s]\n",
      "100%|███████████████████████████████████████████| 4/4 [00:00<00:00, 2220.97it/s]\n",
      "100%|███████████████████████████████████████████| 4/4 [00:00<00:00, 2317.62it/s]\n",
      "100%|███████████████████████████████████████████| 4/4 [00:00<00:00, 1263.82it/s]\n",
      "100%|███████████████████████████████████████████| 4/4 [00:00<00:00, 2665.17it/s]\n",
      "100%|███████████████████████████████████████████| 4/4 [00:00<00:00, 1587.25it/s]\n",
      "100%|███████████████████████████████████████████| 5/5 [00:00<00:00, 2162.46it/s]\n",
      "100%|███████████████████████████████████████████| 4/4 [00:00<00:00, 2156.45it/s]\n",
      "100%|███████████████████████████████████████████| 4/4 [00:00<00:00, 1650.81it/s]\n",
      "100%|███████████████████████████████████████████| 4/4 [00:00<00:00, 2338.94it/s]\n",
      "100%|███████████████████████████████████████████| 4/4 [00:00<00:00, 2192.81it/s]\n",
      "100%|███████████████████████████████████████████| 4/4 [00:00<00:00, 2077.16it/s]\n",
      "100%|███████████████████████████████████████████| 4/4 [00:00<00:00, 1992.78it/s]\n",
      "100%|███████████████████████████████████████████| 4/4 [00:00<00:00, 1257.19it/s]\n",
      "100%|███████████████████████████████████████████| 4/4 [00:00<00:00, 2254.70it/s]\n",
      "100%|███████████████████████████████████████████| 4/4 [00:00<00:00, 2182.26it/s]\n",
      "100%|███████████████████████████████████████████| 5/5 [00:00<00:00, 2663.73it/s]\n",
      "100%|███████████████████████████████████████████| 4/4 [00:00<00:00, 2117.53it/s]\n",
      "100%|███████████████████████████████████████████| 4/4 [00:00<00:00, 2055.53it/s]\n",
      "100%|███████████████████████████████████████████| 5/5 [00:00<00:00, 2170.29it/s]\n",
      "100%|███████████████████████████████████████████| 4/4 [00:00<00:00, 2190.52it/s]\n",
      "100%|███████████████████████████████████████████| 4/4 [00:00<00:00, 2177.45it/s]\n",
      "100%|███████████████████████████████████████████| 4/4 [00:00<00:00, 2089.06it/s]\n",
      "100%|███████████████████████████████████████████| 6/6 [00:00<00:00, 1769.38it/s]\n",
      "100%|███████████████████████████████████████████| 4/4 [00:00<00:00, 2134.51it/s]\n",
      "100%|███████████████████████████████████████████| 4/4 [00:00<00:00, 2734.23it/s]\n",
      "100%|███████████████████████████████████████████| 6/6 [00:00<00:00, 1748.84it/s]\n",
      "100%|███████████████████████████████████████████| 4/4 [00:00<00:00, 2599.10it/s]\n",
      "100%|███████████████████████████████████████████| 4/4 [00:00<00:00, 1030.35it/s]\n",
      "100%|███████████████████████████████████████████| 4/4 [00:00<00:00, 2560.63it/s]\n",
      "100%|███████████████████████████████████████████| 5/5 [00:00<00:00, 2526.38it/s]\n",
      "100%|███████████████████████████████████████████| 3/3 [00:00<00:00, 2252.18it/s]\n",
      "100%|███████████████████████████████████████████| 5/5 [00:00<00:00, 1590.92it/s]\n",
      "100%|███████████████████████████████████████████| 4/4 [00:00<00:00, 1727.83it/s]\n",
      "100%|███████████████████████████████████████████| 5/5 [00:00<00:00, 2689.69it/s]\n",
      "100%|███████████████████████████████████████████| 4/4 [00:00<00:00, 1444.07it/s]\n",
      "100%|███████████████████████████████████████████| 4/4 [00:00<00:00, 2156.45it/s]\n",
      "100%|███████████████████████████████████████████| 5/5 [00:00<00:00, 2631.31it/s]\n",
      "100%|███████████████████████████████████████████| 4/4 [00:00<00:00, 2591.88it/s]\n",
      "100%|███████████████████████████████████████████| 4/4 [00:00<00:00, 2215.11it/s]\n",
      "100%|███████████████████████████████████████████| 4/4 [00:00<00:00, 1810.04it/s]\n",
      "100%|███████████████████████████████████████████| 4/4 [00:00<00:00, 2284.17it/s]\n",
      "100%|███████████████████████████████████████████| 4/4 [00:00<00:00, 2120.75it/s]\n",
      "100%|███████████████████████████████████████████| 4/4 [00:00<00:00, 2562.19it/s]\n",
      "100%|███████████████████████████████████████████| 4/4 [00:00<00:00, 2289.78it/s]\n",
      "100%|███████████████████████████████████████████| 4/4 [00:00<00:00, 2360.00it/s]\n",
      "100%|███████████████████████████████████████████| 4/4 [00:00<00:00, 2894.62it/s]\n",
      "100%|███████████████████████████████████████████| 5/5 [00:00<00:00, 2083.40it/s]\n",
      "100%|███████████████████████████████████████████| 4/4 [00:00<00:00, 1412.82it/s]\n",
      "100%|███████████████████████████████████████████| 4/4 [00:00<00:00, 2267.50it/s]\n",
      "100%|███████████████████████████████████████████| 6/6 [00:00<00:00, 1537.31it/s]\n",
      "100%|███████████████████████████████████████████| 4/4 [00:00<00:00, 2261.08it/s]\n",
      "100%|████████████████████████████████████████████| 4/4 [00:00<00:00, 117.72it/s]\n",
      "100%|███████████████████████████████████████████| 4/4 [00:00<00:00, 2306.78it/s]\n",
      "100%|███████████████████████████████████████████| 4/4 [00:00<00:00, 2068.45it/s]\n",
      "100%|███████████████████████████████████████████| 4/4 [00:00<00:00, 2233.39it/s]\n",
      "100%|███████████████████████████████████████████| 4/4 [00:00<00:00, 2116.73it/s]\n",
      "100%|███████████████████████████████████████████| 4/4 [00:00<00:00, 2511.18it/s]\n",
      "100%|███████████████████████████████████████████| 4/4 [00:00<00:00, 2570.43it/s]\n",
      "100%|███████████████████████████████████████████| 4/4 [00:00<00:00, 2314.74it/s]\n",
      "100%|███████████████████████████████████████████| 4/4 [00:00<00:00, 2888.14it/s]\n",
      "100%|███████████████████████████████████████████| 4/4 [00:00<00:00, 2077.67it/s]\n",
      "100%|███████████████████████████████████████████| 4/4 [00:00<00:00, 2446.37it/s]\n",
      "100%|███████████████████████████████████████████| 5/5 [00:00<00:00, 1912.76it/s]\n",
      "100%|███████████████████████████████████████████| 4/4 [00:00<00:00, 1965.47it/s]\n",
      "100%|███████████████████████████████████████████| 4/4 [00:00<00:00, 1407.13it/s]\n",
      "100%|███████████████████████████████████████████| 4/4 [00:00<00:00, 1697.07it/s]\n",
      "100%|███████████████████████████████████████████| 5/5 [00:00<00:00, 2342.92it/s]\n",
      "100%|████████████████████████████████████████████| 4/4 [00:00<00:00, 886.14it/s]\n",
      "100%|███████████████████████████████████████████| 5/5 [00:00<00:00, 2526.69it/s]\n",
      "100%|███████████████████████████████████████████| 4/4 [00:00<00:00, 2363.99it/s]\n",
      "100%|███████████████████████████████████████████| 4/4 [00:00<00:00, 2481.47it/s]\n",
      "100%|███████████████████████████████████████████| 4/4 [00:00<00:00, 2401.20it/s]\n",
      "100%|███████████████████████████████████████████| 4/4 [00:00<00:00, 1740.56it/s]\n",
      "100%|███████████████████████████████████████████| 5/5 [00:00<00:00, 2350.80it/s]\n",
      "100%|███████████████████████████████████████████| 4/4 [00:00<00:00, 2228.35it/s]\n",
      "100%|███████████████████████████████████████████| 4/4 [00:00<00:00, 2329.85it/s]\n",
      "100%|███████████████████████████████████████████| 4/4 [00:00<00:00, 1622.71it/s]\n",
      "100%|███████████████████████████████████████████| 4/4 [00:00<00:00, 2280.75it/s]\n",
      "100%|███████████████████████████████████████████| 4/4 [00:00<00:00, 2193.10it/s]\n",
      "100%|███████████████████████████████████████████| 5/5 [00:00<00:00, 2713.00it/s]\n",
      "100%|███████████████████████████████████████████| 4/4 [00:00<00:00, 2567.29it/s]\n",
      "100%|███████████████████████████████████████████| 4/4 [00:00<00:00, 2336.01it/s]\n",
      "100%|███████████████████████████████████████████| 4/4 [00:00<00:00, 2530.12it/s]\n",
      "100%|███████████████████████████████████████████| 4/4 [00:00<00:00, 2083.35it/s]\n",
      "100%|███████████████████████████████████████████| 5/5 [00:00<00:00, 2069.63it/s]\n",
      "100%|████████████████████████████████████████████| 4/4 [00:00<00:00, 945.67it/s]\n",
      "100%|███████████████████████████████████████████| 5/5 [00:00<00:00, 2004.93it/s]\n",
      "100%|███████████████████████████████████████████| 5/5 [00:00<00:00, 2372.08it/s]\n",
      "100%|███████████████████████████████████████████| 4/4 [00:00<00:00, 2367.99it/s]\n",
      "100%|███████████████████████████████████████████| 4/4 [00:00<00:00, 2068.20it/s]\n",
      "100%|███████████████████████████████████████████| 4/4 [00:00<00:00, 1477.52it/s]\n",
      "100%|███████████████████████████████████████████| 4/4 [00:00<00:00, 1763.05it/s]\n",
      "100%|███████████████████████████████████████████| 5/5 [00:00<00:00, 2460.58it/s]\n",
      "100%|███████████████████████████████████████████| 4/4 [00:00<00:00, 1383.69it/s]\n",
      "100%|███████████████████████████████████████████| 4/4 [00:00<00:00, 2047.00it/s]\n",
      "100%|███████████████████████████████████████████| 4/4 [00:00<00:00, 2211.02it/s]\n",
      "100%|███████████████████████████████████████████| 4/4 [00:00<00:00, 2081.02it/s]\n",
      "100%|███████████████████████████████████████████| 4/4 [00:00<00:00, 2093.23it/s]\n",
      "100%|███████████████████████████████████████████| 4/4 [00:00<00:00, 2240.85it/s]\n",
      "100%|███████████████████████████████████████████| 4/4 [00:00<00:00, 2310.59it/s]\n",
      "100%|███████████████████████████████████████████| 6/6 [00:00<00:00, 2758.50it/s]\n",
      "100%|███████████████████████████████████████████| 4/4 [00:00<00:00, 2172.65it/s]\n",
      "100%|███████████████████████████████████████████| 4/4 [00:00<00:00, 1433.71it/s]\n",
      "100%|███████████████████████████████████████████| 4/4 [00:00<00:00, 2655.88it/s]\n",
      "100%|███████████████████████████████████████████| 4/4 [00:00<00:00, 2091.92it/s]\n",
      "100%|███████████████████████████████████████████| 4/4 [00:00<00:00, 2307.10it/s]\n",
      "100%|███████████████████████████████████████████| 4/4 [00:00<00:00, 1259.93it/s]\n",
      "100%|███████████████████████████████████████████| 5/5 [00:00<00:00, 2504.06it/s]\n",
      "100%|███████████████████████████████████████████| 4/4 [00:00<00:00, 2066.16it/s]\n",
      "100%|███████████████████████████████████████████| 4/4 [00:00<00:00, 1467.95it/s]\n",
      "100%|███████████████████████████████████████████| 4/4 [00:00<00:00, 2201.16it/s]\n",
      "100%|███████████████████████████████████████████| 4/4 [00:00<00:00, 2195.11it/s]\n",
      "100%|███████████████████████████████████████████| 4/4 [00:00<00:00, 1279.14it/s]\n",
      "100%|███████████████████████████████████████████| 4/4 [00:00<00:00, 2347.78it/s]\n",
      "100%|███████████████████████████████████████████| 4/4 [00:00<00:00, 1293.64it/s]\n",
      "100%|████████████████████████████████████████████| 4/4 [00:00<00:00, 887.92it/s]\n",
      "100%|███████████████████████████████████████████| 5/5 [00:00<00:00, 1614.56it/s]\n",
      "100%|███████████████████████████████████████████| 4/4 [00:00<00:00, 1539.19it/s]\n",
      "100%|███████████████████████████████████████████| 4/4 [00:00<00:00, 2561.02it/s]\n",
      "100%|███████████████████████████████████████████| 4/4 [00:00<00:00, 1463.09it/s]\n",
      "100%|███████████████████████████████████████████| 6/6 [00:00<00:00, 2582.96it/s]\n",
      "100%|███████████████████████████████████████████| 4/4 [00:00<00:00, 2169.00it/s]\n",
      "100%|███████████████████████████████████████████| 4/4 [00:00<00:00, 2402.58it/s]\n",
      "100%|███████████████████████████████████████████| 5/5 [00:00<00:00, 2275.80it/s]\n",
      "100%|███████████████████████████████████████████| 4/4 [00:00<00:00, 2325.65it/s]\n",
      "100%|███████████████████████████████████████████| 4/4 [00:00<00:00, 1968.46it/s]\n",
      "100%|███████████████████████████████████████████| 4/4 [00:00<00:00, 2474.88it/s]\n",
      "100%|███████████████████████████████████████████| 4/4 [00:00<00:00, 2049.25it/s]\n",
      "100%|███████████████████████████████████████████| 5/5 [00:00<00:00, 2084.23it/s]\n",
      "100%|███████████████████████████████████████████| 4/4 [00:00<00:00, 2186.81it/s]\n",
      "100%|███████████████████████████████████████████| 5/5 [00:00<00:00, 2374.22it/s]\n",
      "100%|███████████████████████████████████████████| 4/4 [00:00<00:00, 2258.65it/s]\n",
      "100%|███████████████████████████████████████████| 6/6 [00:00<00:00, 2657.99it/s]\n",
      "100%|███████████████████████████████████████████| 4/4 [00:00<00:00, 2223.62it/s]\n",
      "100%|███████████████████████████████████████████| 5/5 [00:00<00:00, 2159.79it/s]\n",
      "100%|███████████████████████████████████████████| 5/5 [00:00<00:00, 2334.32it/s]\n",
      "100%|███████████████████████████████████████████| 4/4 [00:00<00:00, 1938.89it/s]\n",
      "100%|███████████████████████████████████████████| 4/4 [00:00<00:00, 1492.63it/s]\n",
      "100%|███████████████████████████████████████████| 4/4 [00:00<00:00, 2170.40it/s]\n",
      "100%|███████████████████████████████████████████| 4/4 [00:00<00:00, 2293.85it/s]\n",
      "100%|███████████████████████████████████████████| 4/4 [00:00<00:00, 1920.25it/s]\n",
      "100%|███████████████████████████████████████████| 4/4 [00:00<00:00, 2283.24it/s]\n",
      "100%|███████████████████████████████████████████| 4/4 [00:00<00:00, 2213.65it/s]\n",
      "100%|███████████████████████████████████████████| 4/4 [00:00<00:00, 2361.66it/s]\n",
      "100%|███████████████████████████████████████████| 4/4 [00:00<00:00, 2052.51it/s]\n",
      "100%|███████████████████████████████████████████| 4/4 [00:00<00:00, 1881.28it/s]\n",
      "100%|████████████████████████████████████████████| 5/5 [00:00<00:00, 105.75it/s]\n",
      "100%|████████████████████████████████████████████| 5/5 [00:00<00:00, 592.68it/s]\n",
      "100%|███████████████████████████████████████████| 6/6 [00:00<00:00, 2790.62it/s]\n",
      "100%|███████████████████████████████████████████| 5/5 [00:00<00:00, 2122.41it/s]\n",
      "100%|███████████████████████████████████████████| 6/6 [00:00<00:00, 2288.43it/s]\n",
      "100%|███████████████████████████████████████████| 6/6 [00:00<00:00, 2407.98it/s]\n",
      "100%|███████████████████████████████████████████| 6/6 [00:00<00:00, 2552.31it/s]\n",
      "100%|███████████████████████████████████████████| 6/6 [00:00<00:00, 2221.36it/s]\n",
      "100%|███████████████████████████████████████████| 6/6 [00:00<00:00, 2915.41it/s]\n",
      "100%|███████████████████████████████████████████| 6/6 [00:00<00:00, 2448.99it/s]\n",
      "100%|███████████████████████████████████████████| 6/6 [00:00<00:00, 2415.38it/s]\n",
      "100%|███████████████████████████████████████████| 6/6 [00:00<00:00, 2901.29it/s]\n",
      "100%|███████████████████████████████████████████| 6/6 [00:00<00:00, 2454.96it/s]\n",
      "100%|███████████████████████████████████████████| 6/6 [00:00<00:00, 2857.16it/s]\n",
      "100%|███████████████████████████████████████████| 6/6 [00:00<00:00, 2445.66it/s]\n",
      "100%|███████████████████████████████████████████| 6/6 [00:00<00:00, 2472.08it/s]\n",
      "100%|███████████████████████████████████████████| 6/6 [00:00<00:00, 2238.16it/s]\n",
      "100%|███████████████████████████████████████████| 6/6 [00:00<00:00, 2741.38it/s]\n",
      "100%|███████████████████████████████████████████| 6/6 [00:00<00:00, 2703.68it/s]\n",
      "100%|███████████████████████████████████████████| 6/6 [00:00<00:00, 2724.75it/s]\n",
      "100%|███████████████████████████████████████████| 7/7 [00:00<00:00, 2674.70it/s]\n",
      "100%|███████████████████████████████████████████| 6/6 [00:00<00:00, 2703.97it/s]\n",
      "100%|███████████████████████████████████████████| 5/5 [00:00<00:00, 2061.89it/s]\n",
      "100%|███████████████████████████████████████████| 6/6 [00:00<00:00, 2722.40it/s]\n",
      "100%|███████████████████████████████████████████| 5/5 [00:00<00:00, 2508.86it/s]\n",
      "100%|███████████████████████████████████████████| 5/5 [00:00<00:00, 2334.06it/s]\n",
      "100%|███████████████████████████████████████████| 6/6 [00:00<00:00, 2608.67it/s]\n",
      "100%|███████████████████████████████████████████| 5/5 [00:00<00:00, 2571.93it/s]\n",
      "100%|███████████████████████████████████████████| 5/5 [00:00<00:00, 1645.73it/s]\n",
      "100%|███████████████████████████████████████████| 5/5 [00:00<00:00, 1227.27it/s]\n",
      "100%|███████████████████████████████████████████| 5/5 [00:00<00:00, 1595.40it/s]\n",
      "100%|███████████████████████████████████████████| 5/5 [00:00<00:00, 1998.24it/s]\n",
      "100%|███████████████████████████████████████████| 5/5 [00:00<00:00, 2160.68it/s]\n",
      "100%|███████████████████████████████████████████| 5/5 [00:00<00:00, 2727.83it/s]\n",
      "100%|███████████████████████████████████████████| 5/5 [00:00<00:00, 2159.79it/s]\n",
      "100%|███████████████████████████████████████████| 5/5 [00:00<00:00, 2313.72it/s]\n",
      "100%|███████████████████████████████████████████| 5/5 [00:00<00:00, 2555.94it/s]\n",
      "100%|███████████████████████████████████████████| 4/4 [00:00<00:00, 2079.99it/s]\n",
      "100%|███████████████████████████████████████████| 4/4 [00:00<00:00, 2203.76it/s]\n",
      "100%|███████████████████████████████████████████| 5/5 [00:00<00:00, 1344.41it/s]\n",
      "100%|███████████████████████████████████████████| 4/4 [00:00<00:00, 2289.78it/s]\n",
      "100%|████████████████████████████████████████████| 6/6 [00:00<00:00, 466.20it/s]\n",
      "100%|███████████████████████████████████████████| 4/4 [00:00<00:00, 2043.01it/s]\n",
      "100%|███████████████████████████████████████████| 4/4 [00:00<00:00, 2652.52it/s]\n",
      "100%|███████████████████████████████████████████| 4/4 [00:00<00:00, 1294.54it/s]\n",
      "100%|███████████████████████████████████████████| 4/4 [00:00<00:00, 2375.37it/s]\n",
      "100%|███████████████████████████████████████████| 5/5 [00:00<00:00, 2312.70it/s]\n",
      "100%|███████████████████████████████████████████| 5/5 [00:00<00:00, 1231.52it/s]\n",
      "100%|███████████████████████████████████████████| 6/6 [00:00<00:00, 2253.19it/s]\n",
      "100%|███████████████████████████████████████████| 6/6 [00:00<00:00, 2562.19it/s]\n",
      "100%|████████████████████████████████████████████| 4/4 [00:00<00:00, 263.31it/s]\n",
      "100%|███████████████████████████████████████████| 4/4 [00:00<00:00, 1994.91it/s]\n",
      "100%|███████████████████████████████████████████| 4/4 [00:00<00:00, 2112.20it/s]\n",
      "100%|███████████████████████████████████████████| 4/4 [00:00<00:00, 1346.92it/s]\n",
      "100%|███████████████████████████████████████████| 7/7 [00:00<00:00, 2293.58it/s]\n",
      "100%|███████████████████████████████████████████| 6/6 [00:00<00:00, 2468.93it/s]\n",
      "100%|███████████████████████████████████████████| 5/5 [00:00<00:00, 2270.87it/s]\n",
      "100%|███████████████████████████████████████████| 5/5 [00:00<00:00, 2289.47it/s]\n",
      "100%|███████████████████████████████████████████| 5/5 [00:00<00:00, 2394.56it/s]\n",
      "100%|███████████████████████████████████████████| 4/4 [00:00<00:00, 2139.13it/s]\n",
      "100%|███████████████████████████████████████████| 5/5 [00:00<00:00, 2126.71it/s]\n",
      "100%|███████████████████████████████████████████| 5/5 [00:00<00:00, 2252.58it/s]\n",
      "100%|███████████████████████████████████████████| 4/4 [00:00<00:00, 2482.94it/s]\n",
      "100%|███████████████████████████████████████████| 4/4 [00:00<00:00, 1445.07it/s]\n",
      "100%|███████████████████████████████████████████| 4/4 [00:00<00:00, 2191.67it/s]\n",
      "100%|███████████████████████████████████████████| 5/5 [00:00<00:00, 2435.72it/s]\n",
      "100%|███████████████████████████████████████████| 5/5 [00:00<00:00, 2099.88it/s]\n",
      "100%|███████████████████████████████████████████| 6/6 [00:00<00:00, 2480.12it/s]\n",
      "100%|███████████████████████████████████████████| 5/5 [00:00<00:00, 1924.70it/s]\n",
      "100%|███████████████████████████████████████████| 4/4 [00:00<00:00, 2565.72it/s]\n",
      "100%|███████████████████████████████████████████| 5/5 [00:00<00:00, 2696.95it/s]\n",
      "100%|███████████████████████████████████████████| 4/4 [00:00<00:00, 1709.52it/s]\n",
      "100%|███████████████████████████████████████████| 4/4 [00:00<00:00, 1978.45it/s]\n",
      "100%|███████████████████████████████████████████| 4/4 [00:00<00:00, 1567.96it/s]\n",
      "100%|███████████████████████████████████████████| 4/4 [00:00<00:00, 2109.55it/s]\n",
      "100%|███████████████████████████████████████████| 5/5 [00:00<00:00, 2451.09it/s]\n",
      "100%|███████████████████████████████████████████| 5/5 [00:00<00:00, 2455.97it/s]\n",
      "100%|███████████████████████████████████████████| 8/8 [00:00<00:00, 2699.04it/s]\n",
      "100%|███████████████████████████████████████████| 6/6 [00:00<00:00, 2604.08it/s]\n",
      "100%|███████████████████████████████████████████| 5/5 [00:00<00:00, 2482.72it/s]\n",
      "100%|███████████████████████████████████████████| 4/4 [00:00<00:00, 2432.89it/s]\n",
      "100%|███████████████████████████████████████████| 6/6 [00:00<00:00, 2746.16it/s]\n",
      "100%|███████████████████████████████████████████| 6/6 [00:00<00:00, 2544.57it/s]\n",
      "100%|███████████████████████████████████████████| 4/4 [00:00<00:00, 2624.72it/s]\n",
      "100%|███████████████████████████████████████████| 4/4 [00:00<00:00, 2529.74it/s]\n",
      "100%|███████████████████████████████████████████| 4/4 [00:00<00:00, 2270.26it/s]\n",
      "100%|███████████████████████████████████████████| 5/5 [00:00<00:00, 1700.58it/s]\n",
      "100%|███████████████████████████████████████████| 4/4 [00:00<00:00, 2346.14it/s]\n",
      "100%|███████████████████████████████████████████| 5/5 [00:00<00:00, 2248.96it/s]\n",
      "100%|███████████████████████████████████████████| 5/5 [00:00<00:00, 2448.51it/s]\n",
      "100%|███████████████████████████████████████████| 5/5 [00:00<00:00, 2357.41it/s]\n",
      "100%|███████████████████████████████████████████| 6/6 [00:00<00:00, 2320.29it/s]\n",
      "100%|███████████████████████████████████████████| 5/5 [00:00<00:00, 2439.12it/s]\n",
      "100%|███████████████████████████████████████████| 5/5 [00:00<00:00, 2260.59it/s]\n",
      "100%|███████████████████████████████████████████| 4/4 [00:00<00:00, 1805.17it/s]\n",
      "100%|███████████████████████████████████████████| 4/4 [00:00<00:00, 2351.73it/s]\n",
      "100%|███████████████████████████████████████████| 4/4 [00:00<00:00, 2358.34it/s]\n",
      "100%|███████████████████████████████████████████| 5/5 [00:00<00:00, 1131.70it/s]\n",
      "100%|███████████████████████████████████████████| 4/4 [00:00<00:00, 1980.31it/s]\n",
      "100%|███████████████████████████████████████████| 5/5 [00:00<00:00, 2661.02it/s]\n",
      "100%|███████████████████████████████████████████| 5/5 [00:00<00:00, 2473.06it/s]\n",
      "100%|███████████████████████████████████████████| 4/4 [00:00<00:00, 2104.25it/s]\n",
      "100%|███████████████████████████████████████████| 4/4 [00:00<00:00, 2242.04it/s]\n",
      "100%|███████████████████████████████████████████| 4/4 [00:00<00:00, 1971.24it/s]\n",
      "100%|███████████████████████████████████████████| 5/5 [00:00<00:00, 2227.22it/s]\n",
      "100%|███████████████████████████████████████████| 4/4 [00:00<00:00, 2585.88it/s]\n",
      "100%|███████████████████████████████████████████| 5/5 [00:00<00:00, 2116.20it/s]\n",
      "100%|███████████████████████████████████████████| 4/4 [00:00<00:00, 1505.49it/s]\n",
      "100%|███████████████████████████████████████████| 4/4 [00:00<00:00, 1746.72it/s]\n",
      "100%|███████████████████████████████████████████| 5/5 [00:00<00:00, 2480.08it/s]\n",
      "100%|███████████████████████████████████████████| 6/6 [00:00<00:00, 2570.83it/s]\n",
      "100%|███████████████████████████████████████████| 5/5 [00:00<00:00, 2268.42it/s]\n",
      "100%|███████████████████████████████████████████| 6/6 [00:00<00:00, 2277.04it/s]\n",
      "100%|███████████████████████████████████████████| 4/4 [00:00<00:00, 1378.35it/s]\n",
      "100%|███████████████████████████████████████████| 4/4 [00:00<00:00, 2232.20it/s]\n",
      "100%|███████████████████████████████████████████| 4/4 [00:00<00:00, 2943.37it/s]\n",
      "100%|███████████████████████████████████████████| 4/4 [00:00<00:00, 1823.02it/s]\n",
      "100%|███████████████████████████████████████████| 4/4 [00:00<00:00, 1717.57it/s]\n",
      "100%|███████████████████████████████████████████| 4/4 [00:00<00:00, 1853.43it/s]\n",
      "100%|███████████████████████████████████████████| 4/4 [00:00<00:00, 2136.68it/s]\n",
      "100%|███████████████████████████████████████████| 4/4 [00:00<00:00, 2543.16it/s]\n",
      "100%|███████████████████████████████████████████| 4/4 [00:00<00:00, 1079.34it/s]\n",
      "100%|███████████████████████████████████████████| 4/4 [00:00<00:00, 1078.23it/s]\n",
      "100%|███████████████████████████████████████████| 4/4 [00:00<00:00, 2478.90it/s]\n",
      "100%|███████████████████████████████████████████| 4/4 [00:00<00:00, 2204.05it/s]\n",
      "100%|███████████████████████████████████████████| 4/4 [00:00<00:00, 2007.08it/s]\n",
      "100%|███████████████████████████████████████████| 4/4 [00:00<00:00, 2506.68it/s]\n",
      "100%|███████████████████████████████████████████| 4/4 [00:00<00:00, 2340.90it/s]\n",
      "100%|███████████████████████████████████████████| 4/4 [00:00<00:00, 2141.32it/s]\n",
      "100%|███████████████████████████████████████████| 4/4 [00:00<00:00, 2529.74it/s]\n",
      "100%|███████████████████████████████████████████| 4/4 [00:00<00:00, 2495.50it/s]\n",
      "100%|███████████████████████████████████████████| 4/4 [00:00<00:00, 1906.29it/s]\n",
      "100%|███████████████████████████████████████████| 4/4 [00:00<00:00, 2573.98it/s]\n",
      "100%|███████████████████████████████████████████| 5/5 [00:00<00:00, 2008.00it/s]\n",
      "100%|███████████████████████████████████████████| 5/5 [00:00<00:00, 2672.21it/s]\n",
      "100%|███████████████████████████████████████████| 4/4 [00:00<00:00, 1939.79it/s]\n",
      "100%|███████████████████████████████████████████| 4/4 [00:00<00:00, 2270.26it/s]\n",
      "100%|███████████████████████████████████████████| 4/4 [00:00<00:00, 2169.28it/s]\n",
      "100%|███████████████████████████████████████████| 4/4 [00:00<00:00, 2312.19it/s]\n",
      "100%|███████████████████████████████████████████| 4/4 [00:00<00:00, 2170.40it/s]\n",
      "100%|███████████████████████████████████████████| 5/5 [00:00<00:00, 2523.95it/s]\n",
      "100%|███████████████████████████████████████████| 4/4 [00:00<00:00, 2543.16it/s]\n",
      "100%|███████████████████████████████████████████| 5/5 [00:00<00:00, 2744.60it/s]\n",
      "100%|███████████████████████████████████████████| 4/4 [00:00<00:00, 1592.37it/s]\n",
      "100%|███████████████████████████████████████████| 4/4 [00:00<00:00, 2528.21it/s]\n",
      "100%|███████████████████████████████████████████| 4/4 [00:00<00:00, 1285.31it/s]\n",
      "100%|███████████████████████████████████████████| 4/4 [00:00<00:00, 2506.31it/s]\n",
      "100%|███████████████████████████████████████████| 4/4 [00:00<00:00, 2317.62it/s]\n",
      "100%|███████████████████████████████████████████| 6/6 [00:00<00:00, 2826.35it/s]\n",
      "100%|███████████████████████████████████████████| 4/4 [00:00<00:00, 2322.75it/s]\n",
      "100%|███████████████████████████████████████████| 4/4 [00:00<00:00, 2238.45it/s]\n",
      "100%|███████████████████████████████████████████| 4/4 [00:00<00:00, 2381.10it/s]\n",
      "100%|███████████████████████████████████████████| 4/4 [00:00<00:00, 2318.90it/s]\n",
      "100%|███████████████████████████████████████████| 4/4 [00:00<00:00, 1480.91it/s]\n",
      "100%|███████████████████████████████████████████| 4/4 [00:00<00:00, 1891.46it/s]\n",
      "100%|███████████████████████████████████████████| 5/5 [00:00<00:00, 2138.42it/s]\n",
      "100%|███████████████████████████████████████████| 4/4 [00:00<00:00, 2138.04it/s]\n",
      "100%|███████████████████████████████████████████| 5/5 [00:00<00:00, 1156.03it/s]\n",
      "100%|███████████████████████████████████████████| 5/5 [00:00<00:00, 1219.77it/s]\n",
      "100%|███████████████████████████████████████████| 4/4 [00:00<00:00, 1109.24it/s]\n",
      "100%|███████████████████████████████████████████| 4/4 [00:00<00:00, 1200.86it/s]\n",
      "100%|███████████████████████████████████████████| 4/4 [00:00<00:00, 1286.60it/s]\n",
      "100%|███████████████████████████████████████████| 4/4 [00:00<00:00, 1275.93it/s]\n",
      "100%|███████████████████████████████████████████| 4/4 [00:00<00:00, 1522.57it/s]\n",
      "100%|███████████████████████████████████████████| 4/4 [00:00<00:00, 1851.18it/s]\n",
      "100%|███████████████████████████████████████████| 4/4 [00:00<00:00, 1750.73it/s]\n",
      "100%|███████████████████████████████████████████| 4/4 [00:00<00:00, 1562.42it/s]\n",
      "100%|███████████████████████████████████████████| 4/4 [00:00<00:00, 1148.34it/s]\n",
      "100%|███████████████████████████████████████████| 4/4 [00:00<00:00, 1088.65it/s]\n",
      "100%|███████████████████████████████████████████| 5/5 [00:00<00:00, 1199.06it/s]\n",
      "100%|███████████████████████████████████████████| 5/5 [00:00<00:00, 1165.54it/s]\n",
      "100%|███████████████████████████████████████████| 5/5 [00:00<00:00, 1324.88it/s]\n",
      "100%|███████████████████████████████████████████| 5/5 [00:00<00:00, 1284.39it/s]\n",
      "100%|███████████████████████████████████████████| 5/5 [00:00<00:00, 2349.75it/s]\n",
      "100%|███████████████████████████████████████████| 4/4 [00:00<00:00, 2382.79it/s]\n",
      "100%|███████████████████████████████████████████| 5/5 [00:00<00:00, 2491.57it/s]\n",
      "100%|███████████████████████████████████████████| 5/5 [00:00<00:00, 2007.80it/s]\n",
      "100%|███████████████████████████████████████████| 4/4 [00:00<00:00, 2272.72it/s]\n",
      "100%|███████████████████████████████████████████| 4/4 [00:00<00:00, 2437.49it/s]\n",
      "100%|███████████████████████████████████████████| 6/6 [00:00<00:00, 2505.31it/s]\n",
      "100%|███████████████████████████████████████████| 5/5 [00:00<00:00, 2364.32it/s]\n",
      "100%|███████████████████████████████████████████| 4/4 [00:00<00:00, 2347.45it/s]\n",
      "100%|███████████████████████████████████████████| 5/5 [00:00<00:00, 2430.64it/s]\n",
      "100%|███████████████████████████████████████████| 4/4 [00:00<00:00, 2598.70it/s]\n",
      "100%|███████████████████████████████████████████| 6/6 [00:00<00:00, 2336.66it/s]\n",
      "100%|███████████████████████████████████████████| 4/4 [00:00<00:00, 2520.24it/s]\n",
      "100%|███████████████████████████████████████████| 4/4 [00:00<00:00, 2702.52it/s]\n",
      "100%|███████████████████████████████████████████| 4/4 [00:00<00:00, 2533.17it/s]\n",
      "100%|███████████████████████████████████████████| 4/4 [00:00<00:00, 2045.25it/s]\n",
      "100%|███████████████████████████████████████████| 4/4 [00:00<00:00, 1672.20it/s]\n",
      "100%|███████████████████████████████████████████| 5/5 [00:00<00:00, 2507.66it/s]\n",
      "100%|███████████████████████████████████████████| 5/5 [00:00<00:00, 2511.56it/s]\n",
      "100%|███████████████████████████████████████████| 4/4 [00:00<00:00, 2409.83it/s]\n",
      "100%|███████████████████████████████████████████| 5/5 [00:00<00:00, 2487.72it/s]\n",
      "100%|███████████████████████████████████████████| 6/6 [00:00<00:00, 2707.46it/s]\n",
      "100%|███████████████████████████████████████████| 6/6 [00:00<00:00, 2517.09it/s]\n",
      "100%|███████████████████████████████████████████| 4/4 [00:00<00:00, 2291.03it/s]\n",
      "100%|███████████████████████████████████████████| 6/6 [00:00<00:00, 2545.60it/s]\n",
      "100%|███████████████████████████████████████████| 5/5 [00:00<00:00, 2318.06it/s]\n",
      "100%|███████████████████████████████████████████| 7/7 [00:00<00:00, 1697.80it/s]\n",
      "100%|███████████████████████████████████████████| 6/6 [00:00<00:00, 2619.80it/s]\n",
      "100%|███████████████████████████████████████████| 5/5 [00:00<00:00, 2676.65it/s]\n",
      "100%|███████████████████████████████████████████| 5/5 [00:00<00:00, 2861.83it/s]\n",
      "100%|███████████████████████████████████████████| 7/7 [00:00<00:00, 3085.34it/s]\n",
      "100%|███████████████████████████████████████████| 5/5 [00:00<00:00, 2453.38it/s]\n",
      "100%|███████████████████████████████████████████| 6/6 [00:00<00:00, 3133.20it/s]\n",
      "100%|███████████████████████████████████████████| 4/4 [00:00<00:00, 2956.34it/s]\n",
      "100%|███████████████████████████████████████████| 4/4 [00:00<00:00, 3036.60it/s]\n",
      "100%|███████████████████████████████████████████| 5/5 [00:00<00:00, 2379.88it/s]\n",
      "100%|█████████████████████████████████████| 6162/6162 [00:04<00:00, 1286.93it/s]\n"
     ]
    },
    {
     "name": "stdout",
     "output_type": "stream",
     "text": [
      "There are 4 holes.\n"
     ]
    },
    {
     "ename": "Exception",
     "evalue": "maup.doctor failed",
     "output_type": "error",
     "traceback": [
      "\u001b[0;31m---------------------------------------------------------------------------\u001b[0m",
      "\u001b[0;31mException\u001b[0m                                 Traceback (most recent call last)",
      "Cell \u001b[0;32mIn[28], line 1\u001b[0m\n\u001b[0;32m----> 1\u001b[0m vest_base \u001b[38;5;241m=\u001b[39m \u001b[43mdo_smart_repair\u001b[49m\u001b[43m(\u001b[49m\u001b[43mvest_base\u001b[49m\u001b[43m,\u001b[49m\u001b[43m \u001b[49m\u001b[43mmin_rook_length\u001b[49m\u001b[43m \u001b[49m\u001b[38;5;241;43m=\u001b[39;49m\u001b[43m \u001b[49m\u001b[38;5;241;43m30.5\u001b[39;49m\u001b[43m,\u001b[49m\u001b[43m \u001b[49m\u001b[43msnap_precision\u001b[49m\u001b[38;5;241;43m=\u001b[39;49m\u001b[38;5;241;43m10\u001b[39;49m\u001b[43m)\u001b[49m\n",
      "Cell \u001b[0;32mIn[5], line 7\u001b[0m, in \u001b[0;36mdo_smart_repair\u001b[0;34m(df, min_rook_length, snap_precision)\u001b[0m\n\u001b[1;32m      4\u001b[0m df \u001b[38;5;241m=\u001b[39m smart_repair(df, min_rook_length \u001b[38;5;241m=\u001b[39m min_rook_length, snap_precision\u001b[38;5;241m=\u001b[39msnap_precision)\n\u001b[1;32m      6\u001b[0m \u001b[38;5;28;01mif\u001b[39;00m maup\u001b[38;5;241m.\u001b[39mdoctor(df) \u001b[38;5;241m==\u001b[39m \u001b[38;5;28;01mFalse\u001b[39;00m:\n\u001b[0;32m----> 7\u001b[0m     \u001b[38;5;28;01mraise\u001b[39;00m \u001b[38;5;167;01mException\u001b[39;00m(\u001b[38;5;124m'\u001b[39m\u001b[38;5;124mmaup.doctor failed\u001b[39m\u001b[38;5;124m'\u001b[39m)\n\u001b[1;32m      9\u001b[0m \u001b[38;5;28;01mreturn\u001b[39;00m df\n",
      "\u001b[0;31mException\u001b[0m: maup.doctor failed"
     ]
    }
   ],
   "source": [
    "vest_base = do_smart_repair(vest_base, min_rook_length = 30.5, snap_precision=10)"
   ]
  },
  {
   "cell_type": "code",
   "execution_count": null,
   "metadata": {},
   "outputs": [],
   "source": [
    "maup.doctor(vest_base)"
   ]
  },
  {
   "cell_type": "markdown",
   "metadata": {},
   "source": [
    "## If it is true for maup doctor, we will use it as the base vest data."
   ]
  },
  {
   "cell_type": "code",
   "execution_count": 29,
   "metadata": {},
   "outputs": [
    {
     "name": "stderr",
     "output_type": "stream",
     "text": [
      "100%|██████████████████████████████████████| 6162/6162 [00:08<00:00, 727.05it/s]\n",
      "100%|██████████████████████████████████████| 6162/6162 [00:21<00:00, 281.31it/s]\n"
     ]
    }
   ],
   "source": [
    "# vap and population have the same GEOID20\n",
    "blocks_to_precincts_assignment = maup.assign(population_df.geometry, vest_base.geometry)"
   ]
  },
  {
   "cell_type": "code",
   "execution_count": 30,
   "metadata": {},
   "outputs": [],
   "source": [
    "vest_base[pop_col] = population_df[pop_col].groupby(blocks_to_precincts_assignment).sum()"
   ]
  },
  {
   "cell_type": "code",
   "execution_count": 31,
   "metadata": {},
   "outputs": [],
   "source": [
    "election_df = gpd.GeoDataFrame(vest_base)"
   ]
  },
  {
   "cell_type": "code",
   "execution_count": 32,
   "metadata": {},
   "outputs": [
    {
     "data": {
      "text/plain": [
       "Index(['COUNTY', 'PCT_STD', 'PRE20D', 'PRE20O', 'PRE20R', 'PRECINCT',\n",
       "       'geometry', 'TOTPOP', 'HISP', 'NH_WHITE', 'NH_BLACK', 'NH_AMIN',\n",
       "       'NH_ASIAN', 'NH_NHPI', 'NH_OTHER', 'NH_2MORE', 'H_WHITE', 'H_BLACK',\n",
       "       'H_AMIN', 'H_ASIAN', 'H_NHPI', 'H_OTHER', 'H_2MORE', 'VAP', 'HVAP',\n",
       "       'WVAP', 'BVAP', 'AMINVAP', 'ASIANVAP', 'NHPIVAP', 'OTHERVAP',\n",
       "       '2MOREVAP'],\n",
       "      dtype='object')"
      ]
     },
     "execution_count": 32,
     "metadata": {},
     "output_type": "execute_result"
    }
   ],
   "source": [
    "election_df.columns"
   ]
  },
  {
   "cell_type": "markdown",
   "metadata": {},
   "source": [
    "## Check if population agrees"
   ]
  },
  {
   "cell_type": "code",
   "execution_count": 33,
   "metadata": {},
   "outputs": [
    {
     "name": "stdout",
     "output_type": "stream",
     "text": [
      "population agrees\n"
     ]
    }
   ],
   "source": [
    "check_population(population_df, vest_base)"
   ]
  },
  {
   "cell_type": "markdown",
   "metadata": {},
   "source": [
    "## Add more vest data"
   ]
  },
  {
   "cell_type": "code",
   "execution_count": 34,
   "metadata": {},
   "outputs": [],
   "source": [
    "vest18 = gpd.read_file(vest18_data)\n",
    "vest16 = gpd.read_file(vest16_data)"
   ]
  },
  {
   "cell_type": "code",
   "execution_count": 35,
   "metadata": {},
   "outputs": [
    {
     "data": {
      "text/plain": [
       "Index(['COUNTY', 'PRECINCT', 'PCT_STD', 'G18USSRSCO', 'G18USSDNEL',\n",
       "       'G18USSOWRI', 'G18GOVRDES', 'G18GOVDGIL', 'G18GOVORIC', 'G18GOVNGIB',\n",
       "       'G18GOVNFOL', 'G18GOVNSTA', 'G18GOVOWRI', 'G18ATGRMOO', 'G18ATGDSHA',\n",
       "       'G18ATGNSIS', 'G18CFORPAT', 'G18CFODRIN', 'G18CFOOWRI', 'G18AGRRCAL',\n",
       "       'G18AGRDFRI', 'geometry'],\n",
       "      dtype='object')"
      ]
     },
     "execution_count": 35,
     "metadata": {},
     "output_type": "execute_result"
    }
   ],
   "source": [
    "vest18.columns"
   ]
  },
  {
   "cell_type": "code",
   "execution_count": 36,
   "metadata": {},
   "outputs": [
    {
     "data": {
      "text/plain": [
       "Index(['COUNTY', 'PRECINCT', 'PCT_STD', 'G16PRERTRU', 'G16PREDCLI',\n",
       "       'G16PRELJOH', 'G16PRECCAS', 'G16PREGSTE', 'G16PREODEL', 'G16PREOWRI',\n",
       "       'G16USSRRUB', 'G16USSDMUR', 'G16USSLSTA', 'G16USSNKHO', 'G16USSNNAT',\n",
       "       'G16USSNMAC', 'G16USSNDAL', 'G16USSOWRI', 'geometry'],\n",
       "      dtype='object')"
      ]
     },
     "execution_count": 36,
     "metadata": {},
     "output_type": "execute_result"
    }
   ],
   "source": [
    "vest16.columns"
   ]
  },
  {
   "cell_type": "code",
   "execution_count": 39,
   "metadata": {
    "collapsed": true,
    "jupyter": {
     "outputs_hidden": true
    }
   },
   "outputs": [
    {
     "name": "stdout",
     "output_type": "stream",
     "text": [
      "Snapping all geometries to a grid with precision 10^( -3 ) to avoid GEOS errors.\n",
      "Identifying overlaps...\n"
     ]
    },
    {
     "name": "stderr",
     "output_type": "stream",
     "text": [
      "100%|█████████████████████████████████████| 8199/8199 [00:04<00:00, 1644.82it/s]\n"
     ]
    },
    {
     "name": "stdout",
     "output_type": "stream",
     "text": [
      "Resolving overlaps...\n",
      "Assigning order 2 pieces...\n",
      "Assigning order 3 pieces...\n",
      "4 gaps will remain unfilled, because they either are not simply connected or exceed the area threshold.\n",
      "Filling gaps...\n"
     ]
    },
    {
     "name": "stderr",
     "output_type": "stream",
     "text": [
      "Gaps to simplify: 100%|███████████████████████████| 1/1 [00:01<00:00,  1.16s/it]\n",
      "Gaps to fill: 0it [00:00, ?it/s]\n"
     ]
    },
    {
     "name": "stdout",
     "output_type": "stream",
     "text": [
      "Converting small rook adjacencies to queen...\n"
     ]
    },
    {
     "name": "stderr",
     "output_type": "stream",
     "text": [
      "100%|█████████████████████████████████████| 6162/6162 [00:05<00:00, 1170.67it/s]\n",
      "100%|███████████████████████████████████████████| 4/4 [00:00<00:00, 2132.06it/s]\n",
      "100%|███████████████████████████████████████████| 4/4 [00:00<00:00, 1871.00it/s]\n",
      "100%|███████████████████████████████████████████| 4/4 [00:00<00:00, 1675.54it/s]\n",
      "100%|███████████████████████████████████████████| 4/4 [00:00<00:00, 1546.14it/s]\n",
      "100%|███████████████████████████████████████████| 4/4 [00:00<00:00, 1789.00it/s]\n",
      "100%|███████████████████████████████████████████| 4/4 [00:00<00:00, 1336.51it/s]\n",
      "100%|███████████████████████████████████████████| 4/4 [00:00<00:00, 1038.39it/s]\n",
      "100%|███████████████████████████████████████████| 4/4 [00:00<00:00, 1129.63it/s]\n",
      "100%|████████████████████████████████████████████| 4/4 [00:00<00:00, 937.85it/s]\n",
      "100%|███████████████████████████████████████████| 4/4 [00:00<00:00, 1306.84it/s]\n",
      "100%|███████████████████████████████████████████| 4/4 [00:00<00:00, 1376.54it/s]\n",
      "100%|███████████████████████████████████████████| 4/4 [00:00<00:00, 1343.68it/s]\n",
      "100%|███████████████████████████████████████████| 4/4 [00:00<00:00, 1252.03it/s]\n",
      "100%|███████████████████████████████████████████| 4/4 [00:00<00:00, 1331.53it/s]\n",
      "100%|███████████████████████████████████████████| 4/4 [00:00<00:00, 1066.10it/s]\n",
      "100%|████████████████████████████████████████████| 4/4 [00:00<00:00, 872.99it/s]\n",
      "100%|███████████████████████████████████████████| 5/5 [00:00<00:00, 1230.36it/s]\n",
      "100%|███████████████████████████████████████████| 4/4 [00:00<00:00, 1257.85it/s]\n",
      "100%|███████████████████████████████████████████| 4/4 [00:00<00:00, 1543.87it/s]\n",
      "100%|███████████████████████████████████████████| 4/4 [00:00<00:00, 1752.01it/s]\n",
      "100%|███████████████████████████████████████████| 4/4 [00:00<00:00, 1480.39it/s]\n",
      "100%|████████████████████████████████████████████| 4/4 [00:00<00:00, 822.21it/s]\n",
      "100%|███████████████████████████████████████████| 4/4 [00:00<00:00, 1273.61it/s]\n",
      "100%|███████████████████████████████████████████| 4/4 [00:00<00:00, 1351.37it/s]\n",
      "100%|███████████████████████████████████████████| 4/4 [00:00<00:00, 1601.95it/s]\n",
      "100%|███████████████████████████████████████████| 4/4 [00:00<00:00, 1213.19it/s]\n",
      "100%|███████████████████████████████████████████| 5/5 [00:00<00:00, 1474.89it/s]\n",
      "100%|███████████████████████████████████████████| 4/4 [00:00<00:00, 1597.53it/s]\n",
      "100%|███████████████████████████████████████████| 4/4 [00:00<00:00, 1508.88it/s]\n",
      "100%|███████████████████████████████████████████| 5/5 [00:00<00:00, 1730.75it/s]\n",
      "100%|███████████████████████████████████████████| 4/4 [00:00<00:00, 2058.81it/s]\n",
      "100%|███████████████████████████████████████████| 4/4 [00:00<00:00, 1924.88it/s]\n",
      "100%|███████████████████████████████████████████| 4/4 [00:00<00:00, 2027.46it/s]\n",
      "100%|███████████████████████████████████████████| 6/6 [00:00<00:00, 1774.12it/s]\n",
      "100%|███████████████████████████████████████████| 4/4 [00:00<00:00, 1015.75it/s]\n",
      "100%|███████████████████████████████████████████| 4/4 [00:00<00:00, 1981.01it/s]\n",
      "100%|███████████████████████████████████████████| 6/6 [00:00<00:00, 2073.14it/s]\n",
      "100%|███████████████████████████████████████████| 4/4 [00:00<00:00, 1984.06it/s]\n",
      "100%|███████████████████████████████████████████| 4/4 [00:00<00:00, 1708.65it/s]\n",
      "100%|███████████████████████████████████████████| 4/4 [00:00<00:00, 2253.49it/s]\n",
      "100%|███████████████████████████████████████████| 5/5 [00:00<00:00, 1064.92it/s]\n",
      "100%|███████████████████████████████████████████| 3/3 [00:00<00:00, 1040.17it/s]\n",
      "100%|███████████████████████████████████████████| 5/5 [00:00<00:00, 1810.23it/s]\n",
      "100%|███████████████████████████████████████████| 4/4 [00:00<00:00, 2095.32it/s]\n",
      "100%|███████████████████████████████████████████| 5/5 [00:00<00:00, 1834.94it/s]\n",
      "100%|███████████████████████████████████████████| 4/4 [00:00<00:00, 2939.25it/s]\n",
      "100%|███████████████████████████████████████████| 4/4 [00:00<00:00, 1515.56it/s]\n",
      "100%|███████████████████████████████████████████| 5/5 [00:00<00:00, 1742.25it/s]\n",
      "100%|███████████████████████████████████████████| 4/4 [00:00<00:00, 1818.08it/s]\n",
      "100%|████████████████████████████████████████████| 4/4 [00:00<00:00, 932.38it/s]\n",
      "100%|███████████████████████████████████████████| 4/4 [00:00<00:00, 1585.60it/s]\n",
      "100%|███████████████████████████████████████████| 4/4 [00:00<00:00, 1321.87it/s]\n",
      "100%|████████████████████████████████████████████| 4/4 [00:00<00:00, 978.49it/s]\n",
      "100%|███████████████████████████████████████████| 4/4 [00:00<00:00, 1951.97it/s]\n",
      "100%|███████████████████████████████████████████| 4/4 [00:00<00:00, 1276.32it/s]\n",
      "100%|███████████████████████████████████████████| 4/4 [00:00<00:00, 1226.23it/s]\n",
      "100%|███████████████████████████████████████████| 4/4 [00:00<00:00, 1015.02it/s]\n",
      "100%|███████████████████████████████████████████| 5/5 [00:00<00:00, 1427.41it/s]\n",
      "100%|███████████████████████████████████████████| 4/4 [00:00<00:00, 1200.95it/s]\n",
      "100%|███████████████████████████████████████████| 4/4 [00:00<00:00, 1419.39it/s]\n",
      "100%|███████████████████████████████████████████| 6/6 [00:00<00:00, 1576.90it/s]\n",
      "100%|███████████████████████████████████████████| 4/4 [00:00<00:00, 1234.25it/s]\n",
      "100%|███████████████████████████████████████████| 4/4 [00:00<00:00, 1246.91it/s]\n",
      "100%|███████████████████████████████████████████| 4/4 [00:00<00:00, 1490.38it/s]\n",
      "100%|███████████████████████████████████████████| 4/4 [00:00<00:00, 1327.73it/s]\n",
      "100%|███████████████████████████████████████████| 4/4 [00:00<00:00, 1976.35it/s]\n",
      "100%|███████████████████████████████████████████| 4/4 [00:00<00:00, 1261.07it/s]\n",
      "100%|███████████████████████████████████████████| 4/4 [00:00<00:00, 1656.35it/s]\n",
      "100%|███████████████████████████████████████████| 4/4 [00:00<00:00, 1062.39it/s]\n",
      "100%|███████████████████████████████████████████| 4/4 [00:00<00:00, 2577.54it/s]\n",
      "100%|███████████████████████████████████████████| 4/4 [00:00<00:00, 1380.39it/s]\n",
      "100%|████████████████████████████████████████████| 4/4 [00:00<00:00, 988.58it/s]\n",
      "100%|███████████████████████████████████████████| 4/4 [00:00<00:00, 2324.36it/s]\n",
      "100%|███████████████████████████████████████████| 5/5 [00:00<00:00, 1412.03it/s]\n",
      "100%|███████████████████████████████████████████| 4/4 [00:00<00:00, 2470.87it/s]\n",
      "100%|███████████████████████████████████████████| 4/4 [00:00<00:00, 1135.05it/s]\n",
      "100%|███████████████████████████████████████████| 4/4 [00:00<00:00, 1182.33it/s]\n",
      "100%|███████████████████████████████████████████| 4/4 [00:00<00:00, 1406.89it/s]\n",
      "100%|███████████████████████████████████████████| 5/5 [00:00<00:00, 1201.88it/s]\n",
      "100%|███████████████████████████████████████████| 4/4 [00:00<00:00, 1360.13it/s]\n",
      "100%|███████████████████████████████████████████| 5/5 [00:00<00:00, 1427.70it/s]\n",
      "100%|███████████████████████████████████████████| 4/4 [00:00<00:00, 1208.82it/s]\n",
      "100%|███████████████████████████████████████████| 4/4 [00:00<00:00, 1243.77it/s]\n",
      "100%|███████████████████████████████████████████| 4/4 [00:00<00:00, 1128.94it/s]\n",
      "100%|███████████████████████████████████████████| 4/4 [00:00<00:00, 1288.67it/s]\n",
      "100%|███████████████████████████████████████████| 5/5 [00:00<00:00, 1340.55it/s]\n",
      "100%|███████████████████████████████████████████| 4/4 [00:00<00:00, 1090.70it/s]\n",
      "100%|███████████████████████████████████████████| 4/4 [00:00<00:00, 1114.62it/s]\n",
      "100%|███████████████████████████████████████████| 4/4 [00:00<00:00, 1201.89it/s]\n",
      "100%|████████████████████████████████████████████| 4/4 [00:00<00:00, 595.40it/s]\n",
      "100%|███████████████████████████████████████████| 4/4 [00:00<00:00, 1357.71it/s]\n",
      "100%|███████████████████████████████████████████| 5/5 [00:00<00:00, 1208.59it/s]\n",
      "100%|███████████████████████████████████████████| 4/4 [00:00<00:00, 1076.70it/s]\n",
      "100%|████████████████████████████████████████████| 4/4 [00:00<00:00, 500.89it/s]\n",
      "100%|███████████████████████████████████████████| 4/4 [00:00<00:00, 1496.50it/s]\n",
      "100%|███████████████████████████████████████████| 4/4 [00:00<00:00, 1901.96it/s]\n",
      "100%|███████████████████████████████████████████| 5/5 [00:00<00:00, 1676.25it/s]\n",
      "100%|███████████████████████████████████████████| 4/4 [00:00<00:00, 1238.35it/s]\n",
      "100%|███████████████████████████████████████████| 5/5 [00:00<00:00, 1020.36it/s]\n",
      "100%|███████████████████████████████████████████| 5/5 [00:00<00:00, 1443.03it/s]\n",
      "100%|███████████████████████████████████████████| 4/4 [00:00<00:00, 1357.27it/s]\n",
      "100%|███████████████████████████████████████████| 4/4 [00:00<00:00, 1342.39it/s]\n",
      "100%|███████████████████████████████████████████| 4/4 [00:00<00:00, 3122.50it/s]\n",
      "100%|███████████████████████████████████████████| 4/4 [00:00<00:00, 1088.79it/s]\n",
      "100%|███████████████████████████████████████████| 4/4 [00:00<00:00, 2488.83it/s]\n",
      "100%|███████████████████████████████████████████| 4/4 [00:00<00:00, 1183.16it/s]\n",
      "100%|███████████████████████████████████████████| 4/4 [00:00<00:00, 1187.35it/s]\n",
      "100%|███████████████████████████████████████████| 4/4 [00:00<00:00, 1181.00it/s]\n",
      "100%|███████████████████████████████████████████| 4/4 [00:00<00:00, 1050.15it/s]\n",
      "100%|███████████████████████████████████████████| 4/4 [00:00<00:00, 1790.52it/s]\n",
      "100%|███████████████████████████████████████████| 6/6 [00:00<00:00, 1988.14it/s]\n",
      "100%|███████████████████████████████████████████| 4/4 [00:00<00:00, 1402.07it/s]\n",
      "100%|████████████████████████████████████████████| 4/4 [00:00<00:00, 809.36it/s]\n",
      "100%|███████████████████████████████████████████| 4/4 [00:00<00:00, 1164.84it/s]\n",
      "100%|████████████████████████████████████████████| 4/4 [00:00<00:00, 507.03it/s]\n",
      "100%|████████████████████████████████████████████| 4/4 [00:00<00:00, 964.60it/s]\n",
      "100%|███████████████████████████████████████████| 4/4 [00:00<00:00, 1084.01it/s]\n",
      "100%|███████████████████████████████████████████| 5/5 [00:00<00:00, 1531.89it/s]\n",
      "100%|███████████████████████████████████████████| 4/4 [00:00<00:00, 1142.47it/s]\n",
      "100%|███████████████████████████████████████████| 4/4 [00:00<00:00, 1112.03it/s]\n",
      "100%|████████████████████████████████████████████| 4/4 [00:00<00:00, 807.26it/s]\n",
      "100%|███████████████████████████████████████████| 4/4 [00:00<00:00, 1232.98it/s]\n",
      "100%|███████████████████████████████████████████| 4/4 [00:00<00:00, 1130.84it/s]\n",
      "100%|███████████████████████████████████████████| 4/4 [00:00<00:00, 1136.05it/s]\n",
      "100%|███████████████████████████████████████████| 4/4 [00:00<00:00, 1223.54it/s]\n",
      "100%|███████████████████████████████████████████| 4/4 [00:00<00:00, 1230.72it/s]\n",
      "100%|███████████████████████████████████████████| 5/5 [00:00<00:00, 1355.71it/s]\n",
      "100%|███████████████████████████████████████████| 4/4 [00:00<00:00, 1200.86it/s]\n",
      "100%|████████████████████████████████████████████| 4/4 [00:00<00:00, 944.29it/s]\n",
      "100%|███████████████████████████████████████████| 4/4 [00:00<00:00, 1010.37it/s]\n",
      "100%|███████████████████████████████████████████| 6/6 [00:00<00:00, 1760.59it/s]\n",
      "100%|███████████████████████████████████████████| 4/4 [00:00<00:00, 1405.01it/s]\n",
      "100%|███████████████████████████████████████████| 4/4 [00:00<00:00, 1260.31it/s]\n",
      "100%|███████████████████████████████████████████| 5/5 [00:00<00:00, 1378.89it/s]\n",
      "100%|███████████████████████████████████████████| 4/4 [00:00<00:00, 1100.94it/s]\n",
      "100%|███████████████████████████████████████████| 4/4 [00:00<00:00, 1222.03it/s]\n",
      "100%|████████████████████████████████████████████| 4/4 [00:00<00:00, 904.92it/s]\n",
      "100%|███████████████████████████████████████████| 5/5 [00:00<00:00, 1183.16it/s]\n",
      "100%|███████████████████████████████████████████| 4/4 [00:00<00:00, 1083.10it/s]\n",
      "100%|███████████████████████████████████████████| 6/6 [00:00<00:00, 1310.31it/s]\n",
      "100%|███████████████████████████████████████████| 4/4 [00:00<00:00, 1369.90it/s]\n",
      "100%|███████████████████████████████████████████| 5/5 [00:00<00:00, 1335.17it/s]\n",
      "100%|███████████████████████████████████████████| 5/5 [00:00<00:00, 1270.92it/s]\n",
      "100%|████████████████████████████████████████████| 4/4 [00:00<00:00, 630.22it/s]\n",
      "100%|███████████████████████████████████████████| 4/4 [00:00<00:00, 1285.31it/s]\n",
      "100%|███████████████████████████████████████████| 4/4 [00:00<00:00, 1212.84it/s]\n",
      "100%|███████████████████████████████████████████| 4/4 [00:00<00:00, 1121.10it/s]\n",
      "100%|███████████████████████████████████████████| 5/5 [00:00<00:00, 1225.76it/s]\n",
      "100%|███████████████████████████████████████████| 4/4 [00:00<00:00, 1187.68it/s]\n",
      "100%|████████████████████████████████████████████| 4/4 [00:00<00:00, 454.14it/s]\n",
      "100%|███████████████████████████████████████████| 4/4 [00:00<00:00, 1471.69it/s]\n",
      "100%|███████████████████████████████████████████| 4/4 [00:00<00:00, 1410.92it/s]\n",
      "100%|███████████████████████████████████████████| 4/4 [00:00<00:00, 1176.52it/s]\n",
      "100%|███████████████████████████████████████████| 4/4 [00:00<00:00, 1215.83it/s]\n",
      "100%|███████████████████████████████████████████| 4/4 [00:00<00:00, 1275.54it/s]\n",
      "100%|███████████████████████████████████████████| 5/5 [00:00<00:00, 1113.85it/s]\n",
      "100%|███████████████████████████████████████████| 5/5 [00:00<00:00, 1766.17it/s]\n",
      "100%|███████████████████████████████████████████| 6/6 [00:00<00:00, 1177.40it/s]\n",
      "100%|███████████████████████████████████████████| 5/5 [00:00<00:00, 1370.96it/s]\n",
      "100%|███████████████████████████████████████████| 6/6 [00:00<00:00, 1310.58it/s]\n",
      "100%|███████████████████████████████████████████| 6/6 [00:00<00:00, 1930.49it/s]\n",
      "100%|███████████████████████████████████████████| 6/6 [00:00<00:00, 1412.78it/s]\n",
      "100%|███████████████████████████████████████████| 6/6 [00:00<00:00, 1880.29it/s]\n",
      "100%|███████████████████████████████████████████| 6/6 [00:00<00:00, 1602.61it/s]\n",
      "100%|███████████████████████████████████████████| 6/6 [00:00<00:00, 1869.26it/s]\n",
      "100%|███████████████████████████████████████████| 6/6 [00:00<00:00, 1479.65it/s]\n",
      "100%|████████████████████████████████████████████| 6/6 [00:00<00:00, 860.61it/s]\n",
      "100%|███████████████████████████████████████████| 6/6 [00:00<00:00, 1866.21it/s]\n",
      "100%|███████████████████████████████████████████| 6/6 [00:00<00:00, 1063.24it/s]\n",
      "100%|███████████████████████████████████████████| 6/6 [00:00<00:00, 1656.52it/s]\n",
      "100%|███████████████████████████████████████████| 6/6 [00:00<00:00, 1216.56it/s]\n",
      "100%|███████████████████████████████████████████| 6/6 [00:00<00:00, 1587.25it/s]\n",
      "100%|███████████████████████████████████████████| 6/6 [00:00<00:00, 1844.46it/s]\n",
      "100%|███████████████████████████████████████████| 7/7 [00:00<00:00, 1481.19it/s]\n",
      "100%|███████████████████████████████████████████| 6/6 [00:00<00:00, 1485.06it/s]\n",
      "100%|███████████████████████████████████████████| 5/5 [00:00<00:00, 1412.03it/s]\n",
      "100%|███████████████████████████████████████████| 6/6 [00:00<00:00, 1299.02it/s]\n",
      "100%|███████████████████████████████████████████| 5/5 [00:00<00:00, 1296.70it/s]\n",
      "100%|███████████████████████████████████████████| 5/5 [00:00<00:00, 1431.41it/s]\n",
      "100%|███████████████████████████████████████████| 6/6 [00:00<00:00, 1464.49it/s]\n",
      "100%|███████████████████████████████████████████| 5/5 [00:00<00:00, 1369.88it/s]\n",
      "100%|███████████████████████████████████████████| 5/5 [00:00<00:00, 1105.16it/s]\n",
      "100%|███████████████████████████████████████████| 5/5 [00:00<00:00, 1085.76it/s]\n",
      "100%|███████████████████████████████████████████| 5/5 [00:00<00:00, 1375.90it/s]\n",
      "100%|███████████████████████████████████████████| 5/5 [00:00<00:00, 1299.43it/s]\n",
      "100%|███████████████████████████████████████████| 5/5 [00:00<00:00, 1279.77it/s]\n",
      "100%|███████████████████████████████████████████| 5/5 [00:00<00:00, 1494.34it/s]\n",
      "100%|███████████████████████████████████████████| 5/5 [00:00<00:00, 1408.05it/s]\n",
      "100%|███████████████████████████████████████████| 5/5 [00:00<00:00, 1773.79it/s]\n",
      "100%|███████████████████████████████████████████| 4/4 [00:00<00:00, 1242.66it/s]\n",
      "100%|███████████████████████████████████████████| 4/4 [00:00<00:00, 1058.30it/s]\n",
      "100%|███████████████████████████████████████████| 5/5 [00:00<00:00, 1189.33it/s]\n",
      "100%|███████████████████████████████████████████| 4/4 [00:00<00:00, 1233.80it/s]\n",
      "100%|████████████████████████████████████████████| 4/4 [00:00<00:00, 986.43it/s]\n",
      "100%|███████████████████████████████████████████| 4/4 [00:00<00:00, 1050.15it/s]\n",
      "100%|████████████████████████████████████████████| 4/4 [00:00<00:00, 237.73it/s]\n",
      "100%|███████████████████████████████████████████| 4/4 [00:00<00:00, 1136.05it/s]\n",
      "100%|███████████████████████████████████████████| 5/5 [00:00<00:00, 1196.53it/s]\n",
      "100%|███████████████████████████████████████████| 5/5 [00:00<00:00, 1018.93it/s]\n",
      "100%|███████████████████████████████████████████| 6/6 [00:00<00:00, 1247.44it/s]\n",
      "100%|███████████████████████████████████████████| 6/6 [00:00<00:00, 1021.30it/s]\n",
      "100%|███████████████████████████████████████████| 4/4 [00:00<00:00, 1111.81it/s]\n",
      "100%|███████████████████████████████████████████| 4/4 [00:00<00:00, 1123.95it/s]\n",
      "100%|███████████████████████████████████████████| 4/4 [00:00<00:00, 1030.41it/s]\n",
      "100%|████████████████████████████████████████████| 4/4 [00:00<00:00, 745.85it/s]\n",
      "100%|███████████████████████████████████████████| 7/7 [00:00<00:00, 1987.55it/s]\n",
      "100%|███████████████████████████████████████████| 4/4 [00:00<00:00, 1444.20it/s]\n",
      "100%|███████████████████████████████████████████| 5/5 [00:00<00:00, 1102.55it/s]\n",
      "100%|████████████████████████████████████████████| 4/4 [00:00<00:00, 606.44it/s]\n",
      "100%|███████████████████████████████████████████| 6/6 [00:00<00:00, 1373.98it/s]\n",
      "100%|███████████████████████████████████████████| 6/6 [00:00<00:00, 1283.38it/s]\n",
      "100%|███████████████████████████████████████████| 6/6 [00:00<00:00, 1331.88it/s]\n",
      "100%|███████████████████████████████████████████| 5/5 [00:00<00:00, 1376.63it/s]\n",
      "100%|███████████████████████████████████████████| 5/5 [00:00<00:00, 1280.08it/s]\n",
      "100%|███████████████████████████████████████████| 5/5 [00:00<00:00, 2052.01it/s]\n",
      "100%|███████████████████████████████████████████| 5/5 [00:00<00:00, 1571.37it/s]\n",
      "100%|████████████████████████████████████████████| 4/4 [00:00<00:00, 774.61it/s]\n",
      "100%|████████████████████████████████████████████| 5/5 [00:00<00:00, 804.77it/s]\n",
      "100%|████████████████████████████████████████████| 5/5 [00:00<00:00, 930.58it/s]\n",
      "100%|███████████████████████████████████████████| 4/4 [00:00<00:00, 1439.73it/s]\n",
      "100%|███████████████████████████████████████████| 4/4 [00:00<00:00, 1299.85it/s]\n",
      "100%|███████████████████████████████████████████| 4/4 [00:00<00:00, 1350.93it/s]\n",
      "100%|███████████████████████████████████████████| 5/5 [00:00<00:00, 1911.19it/s]\n",
      "100%|███████████████████████████████████████████| 5/5 [00:00<00:00, 1763.50it/s]\n",
      "100%|███████████████████████████████████████████| 6/6 [00:00<00:00, 1629.17it/s]\n",
      "100%|███████████████████████████████████████████| 5/5 [00:00<00:00, 1623.43it/s]\n",
      "100%|████████████████████████████████████████████| 4/4 [00:00<00:00, 623.92it/s]\n",
      "100%|███████████████████████████████████████████| 4/4 [00:00<00:00, 1183.49it/s]\n",
      "100%|███████████████████████████████████████████| 4/4 [00:00<00:00, 1119.82it/s]\n",
      "100%|███████████████████████████████████████████| 5/5 [00:00<00:00, 1267.08it/s]\n",
      "100%|███████████████████████████████████████████| 5/5 [00:00<00:00, 1067.25it/s]\n",
      "100%|███████████████████████████████████████████| 8/8 [00:00<00:00, 1100.29it/s]\n",
      "100%|████████████████████████████████████████████| 6/6 [00:00<00:00, 641.12it/s]\n",
      "100%|███████████████████████████████████████████| 5/5 [00:00<00:00, 1334.07it/s]\n",
      "100%|███████████████████████████████████████████| 4/4 [00:00<00:00, 1086.33it/s]\n",
      "100%|████████████████████████████████████████████| 6/6 [00:00<00:00, 899.71it/s]\n",
      "100%|███████████████████████████████████████████| 6/6 [00:00<00:00, 1145.93it/s]\n",
      "100%|████████████████████████████████████████████| 4/4 [00:00<00:00, 979.92it/s]\n",
      "100%|████████████████████████████████████████████| 4/4 [00:00<00:00, 973.21it/s]\n",
      "100%|███████████████████████████████████████████| 4/4 [00:00<00:00, 1292.84it/s]\n",
      "100%|█████████████████████████████████████████████| 5/5 [00:00<00:00, 74.14it/s]\n",
      "100%|███████████████████████████████████████████| 4/4 [00:00<00:00, 1202.24it/s]\n",
      "100%|████████████████████████████████████████████| 5/5 [00:00<00:00, 971.80it/s]\n",
      "100%|███████████████████████████████████████████| 5/5 [00:00<00:00, 1751.86it/s]\n",
      "100%|███████████████████████████████████████████| 5/5 [00:00<00:00, 1507.33it/s]\n",
      "100%|███████████████████████████████████████████| 6/6 [00:00<00:00, 1151.39it/s]\n",
      "100%|███████████████████████████████████████████| 5/5 [00:00<00:00, 1380.34it/s]\n",
      "100%|███████████████████████████████████████████| 5/5 [00:00<00:00, 1642.51it/s]\n",
      "100%|████████████████████████████████████████████| 4/4 [00:00<00:00, 744.07it/s]\n",
      "100%|███████████████████████████████████████████| 4/4 [00:00<00:00, 1229.19it/s]\n",
      "100%|███████████████████████████████████████████| 5/5 [00:00<00:00, 1310.88it/s]\n",
      "100%|███████████████████████████████████████████| 4/4 [00:00<00:00, 1078.78it/s]\n",
      "100%|████████████████████████████████████████████| 5/5 [00:00<00:00, 665.51it/s]\n",
      "100%|███████████████████████████████████████████| 5/5 [00:00<00:00, 1541.80it/s]\n",
      "100%|███████████████████████████████████████████| 4/4 [00:00<00:00, 1150.39it/s]\n",
      "100%|███████████████████████████████████████████| 4/4 [00:00<00:00, 1218.83it/s]\n",
      "100%|███████████████████████████████████████████| 4/4 [00:00<00:00, 1157.77it/s]\n",
      "100%|████████████████████████████████████████████| 5/5 [00:00<00:00, 777.15it/s]\n",
      "100%|████████████████████████████████████████████| 4/4 [00:00<00:00, 692.04it/s]\n",
      "100%|███████████████████████████████████████████| 5/5 [00:00<00:00, 1176.46it/s]\n",
      "100%|███████████████████████████████████████████| 4/4 [00:00<00:00, 1218.39it/s]\n",
      "100%|███████████████████████████████████████████| 4/4 [00:00<00:00, 1384.14it/s]\n",
      "100%|████████████████████████████████████████████| 5/5 [00:00<00:00, 917.43it/s]\n",
      "100%|███████████████████████████████████████████| 6/6 [00:00<00:00, 1730.56it/s]\n",
      "100%|████████████████████████████████████████████| 5/5 [00:00<00:00, 490.09it/s]\n",
      "100%|███████████████████████████████████████████| 6/6 [00:00<00:00, 1470.22it/s]\n",
      "100%|███████████████████████████████████████████| 4/4 [00:00<00:00, 1358.70it/s]\n",
      "100%|███████████████████████████████████████████| 4/4 [00:00<00:00, 1131.53it/s]\n",
      "100%|███████████████████████████████████████████| 4/4 [00:00<00:00, 1069.23it/s]\n",
      "100%|███████████████████████████████████████████| 4/4 [00:00<00:00, 1092.98it/s]\n",
      "100%|███████████████████████████████████████████| 4/4 [00:00<00:00, 1271.00it/s]\n",
      "100%|███████████████████████████████████████████| 4/4 [00:00<00:00, 1359.14it/s]\n",
      "100%|█████████████████████████████████████████████| 5/5 [00:00<00:00, 88.21it/s]\n",
      "100%|███████████████████████████████████████████| 4/4 [00:00<00:00, 1528.40it/s]\n",
      "100%|████████████████████████████████████████████| 4/4 [00:00<00:00, 236.60it/s]\n",
      "100%|███████████████████████████████████████████| 4/4 [00:00<00:00, 1187.26it/s]\n",
      "100%|███████████████████████████████████████████| 4/4 [00:00<00:00, 1591.01it/s]\n",
      "100%|███████████████████████████████████████████| 4/4 [00:00<00:00, 1221.76it/s]\n",
      "100%|████████████████████████████████████████████| 4/4 [00:00<00:00, 603.87it/s]\n",
      "100%|███████████████████████████████████████████| 4/4 [00:00<00:00, 1196.15it/s]\n",
      "100%|███████████████████████████████████████████| 4/4 [00:00<00:00, 1082.61it/s]\n",
      "100%|███████████████████████████████████████████| 4/4 [00:00<00:00, 1137.36it/s]\n",
      "100%|███████████████████████████████████████████| 4/4 [00:00<00:00, 1266.97it/s]\n",
      "100%|███████████████████████████████████████████| 4/4 [00:00<00:00, 1168.98it/s]\n",
      "100%|███████████████████████████████████████████| 4/4 [00:00<00:00, 1507.79it/s]\n",
      "100%|███████████████████████████████████████████| 4/4 [00:00<00:00, 1325.32it/s]\n",
      "100%|███████████████████████████████████████████| 4/4 [00:00<00:00, 1407.37it/s]\n",
      "100%|████████████████████████████████████████████| 4/4 [00:00<00:00, 994.56it/s]\n",
      "100%|███████████████████████████████████████████| 5/5 [00:00<00:00, 1257.13it/s]\n",
      "100%|███████████████████████████████████████████| 5/5 [00:00<00:00, 1191.29it/s]\n",
      "100%|███████████████████████████████████████████| 4/4 [00:00<00:00, 1302.58it/s]\n",
      "100%|███████████████████████████████████████████| 4/4 [00:00<00:00, 1284.13it/s]\n",
      "100%|███████████████████████████████████████████| 4/4 [00:00<00:00, 1302.48it/s]\n",
      "100%|███████████████████████████████████████████| 4/4 [00:00<00:00, 1290.65it/s]\n",
      "100%|███████████████████████████████████████████| 5/5 [00:00<00:00, 1806.96it/s]\n",
      "100%|███████████████████████████████████████████| 4/4 [00:00<00:00, 1081.08it/s]\n",
      "100%|███████████████████████████████████████████| 5/5 [00:00<00:00, 1336.53it/s]\n",
      "100%|███████████████████████████████████████████| 4/4 [00:00<00:00, 1312.36it/s]\n",
      "100%|███████████████████████████████████████████| 4/4 [00:00<00:00, 1153.39it/s]\n",
      "100%|███████████████████████████████████████████| 4/4 [00:00<00:00, 1277.00it/s]\n",
      "100%|████████████████████████████████████████████| 4/4 [00:00<00:00, 521.31it/s]\n",
      "100%|████████████████████████████████████████████| 4/4 [00:00<00:00, 432.06it/s]\n",
      "100%|████████████████████████████████████████████| 6/6 [00:00<00:00, 794.48it/s]\n",
      "100%|███████████████████████████████████████████| 4/4 [00:00<00:00, 1074.91it/s]\n",
      "100%|███████████████████████████████████████████| 4/4 [00:00<00:00, 1195.38it/s]\n",
      "100%|███████████████████████████████████████████| 4/4 [00:00<00:00, 1166.22it/s]\n",
      "100%|███████████████████████████████████████████| 4/4 [00:00<00:00, 1201.89it/s]\n",
      "100%|███████████████████████████████████████████| 4/4 [00:00<00:00, 1137.75it/s]\n",
      "100%|███████████████████████████████████████████| 5/5 [00:00<00:00, 1552.30it/s]\n",
      "100%|████████████████████████████████████████████| 5/5 [00:00<00:00, 458.00it/s]\n",
      "100%|███████████████████████████████████████████| 5/5 [00:00<00:00, 1108.37it/s]\n",
      "100%|███████████████████████████████████████████| 4/4 [00:00<00:00, 1228.47it/s]\n",
      "100%|███████████████████████████████████████████| 4/4 [00:00<00:00, 1120.42it/s]\n",
      "100%|███████████████████████████████████████████| 4/4 [00:00<00:00, 1063.26it/s]\n",
      "100%|████████████████████████████████████████████| 4/4 [00:00<00:00, 561.09it/s]\n",
      "100%|███████████████████████████████████████████| 4/4 [00:00<00:00, 1423.61it/s]\n",
      "100%|███████████████████████████████████████████| 4/4 [00:00<00:00, 1648.70it/s]\n",
      "100%|███████████████████████████████████████████| 4/4 [00:00<00:00, 1236.80it/s]\n",
      "100%|████████████████████████████████████████████| 4/4 [00:00<00:00, 931.71it/s]\n",
      "100%|███████████████████████████████████████████| 4/4 [00:00<00:00, 1383.12it/s]\n",
      "100%|███████████████████████████████████████████| 4/4 [00:00<00:00, 1197.35it/s]\n",
      "100%|███████████████████████████████████████████| 4/4 [00:00<00:00, 1228.11it/s]\n",
      "100%|███████████████████████████████████████████| 4/4 [00:00<00:00, 1066.10it/s]\n",
      "100%|███████████████████████████████████████████| 4/4 [00:00<00:00, 1191.90it/s]\n",
      "100%|███████████████████████████████████████████| 5/5 [00:00<00:00, 1307.53it/s]\n",
      "100%|███████████████████████████████████████████| 5/5 [00:00<00:00, 1135.81it/s]\n",
      "100%|███████████████████████████████████████████| 5/5 [00:00<00:00, 1330.85it/s]\n",
      "100%|███████████████████████████████████████████| 5/5 [00:00<00:00, 1439.56it/s]\n",
      "100%|███████████████████████████████████████████| 5/5 [00:00<00:00, 1066.28it/s]\n",
      "100%|███████████████████████████████████████████| 4/4 [00:00<00:00, 1205.17it/s]\n",
      "100%|███████████████████████████████████████████| 4/4 [00:00<00:00, 1028.84it/s]\n",
      "100%|███████████████████████████████████████████| 5/5 [00:00<00:00, 1162.24it/s]\n",
      "100%|████████████████████████████████████████████| 5/5 [00:00<00:00, 356.56it/s]\n",
      "100%|███████████████████████████████████████████| 4/4 [00:00<00:00, 1324.90it/s]\n",
      "100%|███████████████████████████████████████████| 4/4 [00:00<00:00, 1335.55it/s]\n",
      "100%|███████████████████████████████████████████| 6/6 [00:00<00:00, 1444.73it/s]\n",
      "100%|███████████████████████████████████████████| 5/5 [00:00<00:00, 1278.75it/s]\n",
      "100%|███████████████████████████████████████████| 4/4 [00:00<00:00, 1165.17it/s]\n",
      "100%|███████████████████████████████████████████| 5/5 [00:00<00:00, 1397.08it/s]\n",
      "100%|███████████████████████████████████████████| 4/4 [00:00<00:00, 1078.16it/s]\n",
      "100%|███████████████████████████████████████████| 6/6 [00:00<00:00, 1453.08it/s]\n",
      "100%|███████████████████████████████████████████| 4/4 [00:00<00:00, 1175.78it/s]\n",
      "100%|███████████████████████████████████████████| 4/4 [00:00<00:00, 1205.52it/s]\n",
      "100%|███████████████████████████████████████████| 4/4 [00:00<00:00, 1139.29it/s]\n",
      "100%|███████████████████████████████████████████| 4/4 [00:00<00:00, 1198.03it/s]\n",
      "100%|███████████████████████████████████████████| 4/4 [00:00<00:00, 1320.21it/s]\n",
      "100%|████████████████████████████████████████████| 4/4 [00:00<00:00, 840.50it/s]\n",
      "100%|███████████████████████████████████████████| 5/5 [00:00<00:00, 1305.82it/s]\n",
      "100%|███████████████████████████████████████████| 5/5 [00:00<00:00, 1339.43it/s]\n",
      "100%|███████████████████████████████████████████| 4/4 [00:00<00:00, 1678.56it/s]\n",
      "100%|███████████████████████████████████████████| 5/5 [00:00<00:00, 1223.04it/s]\n",
      "100%|███████████████████████████████████████████| 6/6 [00:00<00:00, 1458.47it/s]\n",
      "100%|███████████████████████████████████████████| 6/6 [00:00<00:00, 1397.33it/s]\n",
      "100%|███████████████████████████████████████████| 4/4 [00:00<00:00, 1280.80it/s]\n",
      "100%|███████████████████████████████████████████| 6/6 [00:00<00:00, 1242.45it/s]\n",
      "100%|███████████████████████████████████████████| 5/5 [00:00<00:00, 1429.84it/s]\n",
      "100%|███████████████████████████████████████████| 7/7 [00:00<00:00, 1337.16it/s]\n",
      "100%|███████████████████████████████████████████| 6/6 [00:00<00:00, 1273.38it/s]\n",
      "100%|███████████████████████████████████████████| 5/5 [00:00<00:00, 1141.31it/s]\n",
      "100%|███████████████████████████████████████████| 5/5 [00:00<00:00, 1311.70it/s]\n",
      "100%|███████████████████████████████████████████| 7/7 [00:00<00:00, 1366.35it/s]\n",
      "100%|███████████████████████████████████████████| 5/5 [00:00<00:00, 1246.60it/s]\n",
      "100%|███████████████████████████████████████████| 6/6 [00:00<00:00, 1337.19it/s]\n",
      "100%|████████████████████████████████████████████| 4/4 [00:00<00:00, 687.99it/s]\n",
      "100%|███████████████████████████████████████████| 4/4 [00:00<00:00, 1177.84it/s]\n",
      "100%|████████████████████████████████████████████| 5/5 [00:00<00:00, 982.09it/s]\n"
     ]
    }
   ],
   "source": [
    "election_df = smart_repair(election_df, min_rook_length = 30.5, snap_precision=8)"
   ]
  },
  {
   "cell_type": "code",
   "execution_count": 44,
   "metadata": {},
   "outputs": [
    {
     "name": "stdout",
     "output_type": "stream",
     "text": [
      "Snapping all geometries to a grid with precision 10^( -3 ) to avoid GEOS errors.\n",
      "Identifying overlaps...\n"
     ]
    },
    {
     "name": "stderr",
     "output_type": "stream",
     "text": [
      "100%|█████████████████████████████████████| 8194/8194 [00:04<00:00, 1645.15it/s]\n"
     ]
    },
    {
     "name": "stdout",
     "output_type": "stream",
     "text": [
      "Resolving overlaps...\n",
      "4 gaps will remain unfilled, because they either are not simply connected or exceed the area threshold.\n",
      "Filling gaps...\n"
     ]
    },
    {
     "name": "stderr",
     "output_type": "stream",
     "text": [
      "Gaps to simplify: 0it [00:00, ?it/s]\n",
      "Gaps to fill: 0it [00:00, ?it/s]"
     ]
    },
    {
     "name": "stdout",
     "output_type": "stream",
     "text": [
      "Converting small rook adjacencies to queen...\n"
     ]
    },
    {
     "name": "stderr",
     "output_type": "stream",
     "text": [
      "\n",
      "100%|█████████████████████████████████████| 6162/6162 [00:04<00:00, 1335.70it/s]\n"
     ]
    }
   ],
   "source": [
    "election_df = smart_repair(election_df, min_rook_length = 30.5, snap_precision=8)"
   ]
  },
  {
   "cell_type": "code",
   "execution_count": 45,
   "metadata": {},
   "outputs": [
    {
     "name": "stderr",
     "output_type": "stream",
     "text": [
      "100%|█████████████████████████████████████| 6162/6162 [00:04<00:00, 1335.47it/s]\n"
     ]
    },
    {
     "name": "stdout",
     "output_type": "stream",
     "text": [
      "There are 4 holes.\n"
     ]
    },
    {
     "data": {
      "text/plain": [
       "False"
      ]
     },
     "execution_count": 45,
     "metadata": {},
     "output_type": "execute_result"
    }
   ],
   "source": [
    "maup.doctor(election_df)"
   ]
  },
  {
   "cell_type": "code",
   "execution_count": 43,
   "metadata": {},
   "outputs": [
    {
     "data": {
      "text/html": [
       "<div>\n",
       "<style scoped>\n",
       "    .dataframe tbody tr th:only-of-type {\n",
       "        vertical-align: middle;\n",
       "    }\n",
       "\n",
       "    .dataframe tbody tr th {\n",
       "        vertical-align: top;\n",
       "    }\n",
       "\n",
       "    .dataframe thead th {\n",
       "        text-align: right;\n",
       "    }\n",
       "</style>\n",
       "<table border=\"1\" class=\"dataframe\">\n",
       "  <thead>\n",
       "    <tr style=\"text-align: right;\">\n",
       "      <th></th>\n",
       "      <th>COUNTY</th>\n",
       "      <th>PCT_STD</th>\n",
       "      <th>PRE20D</th>\n",
       "      <th>PRE20O</th>\n",
       "      <th>PRE20R</th>\n",
       "      <th>PRECINCT</th>\n",
       "      <th>geometry</th>\n",
       "      <th>TOTPOP</th>\n",
       "      <th>HISP</th>\n",
       "      <th>NH_WHITE</th>\n",
       "      <th>...</th>\n",
       "      <th>H_2MORE</th>\n",
       "      <th>VAP</th>\n",
       "      <th>HVAP</th>\n",
       "      <th>WVAP</th>\n",
       "      <th>BVAP</th>\n",
       "      <th>AMINVAP</th>\n",
       "      <th>ASIANVAP</th>\n",
       "      <th>NHPIVAP</th>\n",
       "      <th>OTHERVAP</th>\n",
       "      <th>2MOREVAP</th>\n",
       "    </tr>\n",
       "  </thead>\n",
       "  <tbody>\n",
       "    <tr>\n",
       "      <th>0</th>\n",
       "      <td>BAY</td>\n",
       "      <td>BAY0001</td>\n",
       "      <td>220</td>\n",
       "      <td>15</td>\n",
       "      <td>1330</td>\n",
       "      <td>1</td>\n",
       "      <td>POLYGON ((68879.777 3376334.096, 68879.193 337...</td>\n",
       "      <td>4062.0</td>\n",
       "      <td>204.0</td>\n",
       "      <td>3447.0</td>\n",
       "      <td>...</td>\n",
       "      <td>90.0</td>\n",
       "      <td>3130.0</td>\n",
       "      <td>131.0</td>\n",
       "      <td>2683.0</td>\n",
       "      <td>26.0</td>\n",
       "      <td>51.0</td>\n",
       "      <td>19.0</td>\n",
       "      <td>0.0</td>\n",
       "      <td>9.0</td>\n",
       "      <td>211.0</td>\n",
       "    </tr>\n",
       "    <tr>\n",
       "      <th>1</th>\n",
       "      <td>BAY</td>\n",
       "      <td>BAY0002</td>\n",
       "      <td>132</td>\n",
       "      <td>11</td>\n",
       "      <td>859</td>\n",
       "      <td>2</td>\n",
       "      <td>POLYGON ((58819.221 3363308.854, 58807.518 336...</td>\n",
       "      <td>1923.0</td>\n",
       "      <td>86.0</td>\n",
       "      <td>1691.0</td>\n",
       "      <td>...</td>\n",
       "      <td>34.0</td>\n",
       "      <td>1547.0</td>\n",
       "      <td>56.0</td>\n",
       "      <td>1387.0</td>\n",
       "      <td>15.0</td>\n",
       "      <td>8.0</td>\n",
       "      <td>3.0</td>\n",
       "      <td>1.0</td>\n",
       "      <td>1.0</td>\n",
       "      <td>76.0</td>\n",
       "    </tr>\n",
       "    <tr>\n",
       "      <th>2</th>\n",
       "      <td>BAY</td>\n",
       "      <td>BAY0004</td>\n",
       "      <td>362</td>\n",
       "      <td>33</td>\n",
       "      <td>2130</td>\n",
       "      <td>4</td>\n",
       "      <td>POLYGON ((70055.737 3361695.181, 69778.679 336...</td>\n",
       "      <td>5282.0</td>\n",
       "      <td>202.0</td>\n",
       "      <td>4665.0</td>\n",
       "      <td>...</td>\n",
       "      <td>74.0</td>\n",
       "      <td>4163.0</td>\n",
       "      <td>151.0</td>\n",
       "      <td>3716.0</td>\n",
       "      <td>57.0</td>\n",
       "      <td>16.0</td>\n",
       "      <td>13.0</td>\n",
       "      <td>1.0</td>\n",
       "      <td>11.0</td>\n",
       "      <td>198.0</td>\n",
       "    </tr>\n",
       "    <tr>\n",
       "      <th>3</th>\n",
       "      <td>BAY</td>\n",
       "      <td>BAY0005</td>\n",
       "      <td>324</td>\n",
       "      <td>24</td>\n",
       "      <td>2286</td>\n",
       "      <td>5</td>\n",
       "      <td>POLYGON ((58819.221 3363308.854, 58803.795 336...</td>\n",
       "      <td>4863.0</td>\n",
       "      <td>230.0</td>\n",
       "      <td>4265.0</td>\n",
       "      <td>...</td>\n",
       "      <td>98.0</td>\n",
       "      <td>3639.0</td>\n",
       "      <td>153.0</td>\n",
       "      <td>3208.0</td>\n",
       "      <td>58.0</td>\n",
       "      <td>22.0</td>\n",
       "      <td>33.0</td>\n",
       "      <td>3.0</td>\n",
       "      <td>3.0</td>\n",
       "      <td>159.0</td>\n",
       "    </tr>\n",
       "    <tr>\n",
       "      <th>4</th>\n",
       "      <td>BAY</td>\n",
       "      <td>BAY0006</td>\n",
       "      <td>497</td>\n",
       "      <td>34</td>\n",
       "      <td>2799</td>\n",
       "      <td>6</td>\n",
       "      <td>POLYGON ((58669.183 3361193.624, 58472.415 336...</td>\n",
       "      <td>5770.0</td>\n",
       "      <td>210.0</td>\n",
       "      <td>5061.0</td>\n",
       "      <td>...</td>\n",
       "      <td>88.0</td>\n",
       "      <td>4579.0</td>\n",
       "      <td>155.0</td>\n",
       "      <td>4059.0</td>\n",
       "      <td>68.0</td>\n",
       "      <td>27.0</td>\n",
       "      <td>32.0</td>\n",
       "      <td>6.0</td>\n",
       "      <td>4.0</td>\n",
       "      <td>228.0</td>\n",
       "    </tr>\n",
       "    <tr>\n",
       "      <th>...</th>\n",
       "      <td>...</td>\n",
       "      <td>...</td>\n",
       "      <td>...</td>\n",
       "      <td>...</td>\n",
       "      <td>...</td>\n",
       "      <td>...</td>\n",
       "      <td>...</td>\n",
       "      <td>...</td>\n",
       "      <td>...</td>\n",
       "      <td>...</td>\n",
       "      <td>...</td>\n",
       "      <td>...</td>\n",
       "      <td>...</td>\n",
       "      <td>...</td>\n",
       "      <td>...</td>\n",
       "      <td>...</td>\n",
       "      <td>...</td>\n",
       "      <td>...</td>\n",
       "      <td>...</td>\n",
       "      <td>...</td>\n",
       "      <td>...</td>\n",
       "    </tr>\n",
       "    <tr>\n",
       "      <th>6157</th>\n",
       "      <td>OSC</td>\n",
       "      <td>OSC0999</td>\n",
       "      <td>3</td>\n",
       "      <td>0</td>\n",
       "      <td>4</td>\n",
       "      <td>999</td>\n",
       "      <td>POLYGON ((466692.971 3127956.516, 466662.504 3...</td>\n",
       "      <td>NaN</td>\n",
       "      <td>NaN</td>\n",
       "      <td>NaN</td>\n",
       "      <td>...</td>\n",
       "      <td>NaN</td>\n",
       "      <td>NaN</td>\n",
       "      <td>NaN</td>\n",
       "      <td>NaN</td>\n",
       "      <td>NaN</td>\n",
       "      <td>NaN</td>\n",
       "      <td>NaN</td>\n",
       "      <td>NaN</td>\n",
       "      <td>NaN</td>\n",
       "      <td>NaN</td>\n",
       "    </tr>\n",
       "    <tr>\n",
       "      <th>6158</th>\n",
       "      <td>MON</td>\n",
       "      <td>MON0005</td>\n",
       "      <td>1705</td>\n",
       "      <td>52</td>\n",
       "      <td>999</td>\n",
       "      <td>5</td>\n",
       "      <td>MULTIPOLYGON (((420022.297 2709301.768, 419954...</td>\n",
       "      <td>2408.0</td>\n",
       "      <td>273.0</td>\n",
       "      <td>1909.0</td>\n",
       "      <td>...</td>\n",
       "      <td>136.0</td>\n",
       "      <td>2220.0</td>\n",
       "      <td>215.0</td>\n",
       "      <td>1822.0</td>\n",
       "      <td>84.0</td>\n",
       "      <td>1.0</td>\n",
       "      <td>29.0</td>\n",
       "      <td>1.0</td>\n",
       "      <td>7.0</td>\n",
       "      <td>61.0</td>\n",
       "    </tr>\n",
       "    <tr>\n",
       "      <th>6159</th>\n",
       "      <td>MON</td>\n",
       "      <td>MON0999</td>\n",
       "      <td>5</td>\n",
       "      <td>1</td>\n",
       "      <td>10</td>\n",
       "      <td>999</td>\n",
       "      <td>POLYGON ((418629.172 2715807.767, 418597.168 2...</td>\n",
       "      <td>NaN</td>\n",
       "      <td>NaN</td>\n",
       "      <td>NaN</td>\n",
       "      <td>...</td>\n",
       "      <td>NaN</td>\n",
       "      <td>NaN</td>\n",
       "      <td>NaN</td>\n",
       "      <td>NaN</td>\n",
       "      <td>NaN</td>\n",
       "      <td>NaN</td>\n",
       "      <td>NaN</td>\n",
       "      <td>NaN</td>\n",
       "      <td>NaN</td>\n",
       "      <td>NaN</td>\n",
       "    </tr>\n",
       "    <tr>\n",
       "      <th>6160</th>\n",
       "      <td>FLA</td>\n",
       "      <td>FLA0009</td>\n",
       "      <td>1025</td>\n",
       "      <td>23</td>\n",
       "      <td>1569</td>\n",
       "      <td>9</td>\n",
       "      <td>POLYGON ((478402.651 3255324.547, 478348.409 3...</td>\n",
       "      <td>5091.0</td>\n",
       "      <td>556.0</td>\n",
       "      <td>3661.0</td>\n",
       "      <td>...</td>\n",
       "      <td>200.0</td>\n",
       "      <td>4059.0</td>\n",
       "      <td>396.0</td>\n",
       "      <td>3008.0</td>\n",
       "      <td>395.0</td>\n",
       "      <td>12.0</td>\n",
       "      <td>61.0</td>\n",
       "      <td>1.0</td>\n",
       "      <td>27.0</td>\n",
       "      <td>159.0</td>\n",
       "    </tr>\n",
       "    <tr>\n",
       "      <th>6161</th>\n",
       "      <td>FLA</td>\n",
       "      <td>FLA0999</td>\n",
       "      <td>12</td>\n",
       "      <td>2</td>\n",
       "      <td>8</td>\n",
       "      <td>999</td>\n",
       "      <td>POLYGON ((476279.880 3260387.453, 476145.234 3...</td>\n",
       "      <td>NaN</td>\n",
       "      <td>NaN</td>\n",
       "      <td>NaN</td>\n",
       "      <td>...</td>\n",
       "      <td>NaN</td>\n",
       "      <td>NaN</td>\n",
       "      <td>NaN</td>\n",
       "      <td>NaN</td>\n",
       "      <td>NaN</td>\n",
       "      <td>NaN</td>\n",
       "      <td>NaN</td>\n",
       "      <td>NaN</td>\n",
       "      <td>NaN</td>\n",
       "      <td>NaN</td>\n",
       "    </tr>\n",
       "  </tbody>\n",
       "</table>\n",
       "<p>6162 rows × 32 columns</p>\n",
       "</div>"
      ],
      "text/plain": [
       "     COUNTY  PCT_STD  PRE20D  PRE20O  PRE20R PRECINCT  \\\n",
       "0       BAY  BAY0001     220      15    1330        1   \n",
       "1       BAY  BAY0002     132      11     859        2   \n",
       "2       BAY  BAY0004     362      33    2130        4   \n",
       "3       BAY  BAY0005     324      24    2286        5   \n",
       "4       BAY  BAY0006     497      34    2799        6   \n",
       "...     ...      ...     ...     ...     ...      ...   \n",
       "6157    OSC  OSC0999       3       0       4      999   \n",
       "6158    MON  MON0005    1705      52     999        5   \n",
       "6159    MON  MON0999       5       1      10      999   \n",
       "6160    FLA  FLA0009    1025      23    1569        9   \n",
       "6161    FLA  FLA0999      12       2       8      999   \n",
       "\n",
       "                                               geometry  TOTPOP   HISP  \\\n",
       "0     POLYGON ((68879.777 3376334.096, 68879.193 337...  4062.0  204.0   \n",
       "1     POLYGON ((58819.221 3363308.854, 58807.518 336...  1923.0   86.0   \n",
       "2     POLYGON ((70055.737 3361695.181, 69778.679 336...  5282.0  202.0   \n",
       "3     POLYGON ((58819.221 3363308.854, 58803.795 336...  4863.0  230.0   \n",
       "4     POLYGON ((58669.183 3361193.624, 58472.415 336...  5770.0  210.0   \n",
       "...                                                 ...     ...    ...   \n",
       "6157  POLYGON ((466692.971 3127956.516, 466662.504 3...     NaN    NaN   \n",
       "6158  MULTIPOLYGON (((420022.297 2709301.768, 419954...  2408.0  273.0   \n",
       "6159  POLYGON ((418629.172 2715807.767, 418597.168 2...     NaN    NaN   \n",
       "6160  POLYGON ((478402.651 3255324.547, 478348.409 3...  5091.0  556.0   \n",
       "6161  POLYGON ((476279.880 3260387.453, 476145.234 3...     NaN    NaN   \n",
       "\n",
       "      NH_WHITE  ...  H_2MORE     VAP   HVAP    WVAP   BVAP  AMINVAP  ASIANVAP  \\\n",
       "0       3447.0  ...     90.0  3130.0  131.0  2683.0   26.0     51.0      19.0   \n",
       "1       1691.0  ...     34.0  1547.0   56.0  1387.0   15.0      8.0       3.0   \n",
       "2       4665.0  ...     74.0  4163.0  151.0  3716.0   57.0     16.0      13.0   \n",
       "3       4265.0  ...     98.0  3639.0  153.0  3208.0   58.0     22.0      33.0   \n",
       "4       5061.0  ...     88.0  4579.0  155.0  4059.0   68.0     27.0      32.0   \n",
       "...        ...  ...      ...     ...    ...     ...    ...      ...       ...   \n",
       "6157       NaN  ...      NaN     NaN    NaN     NaN    NaN      NaN       NaN   \n",
       "6158    1909.0  ...    136.0  2220.0  215.0  1822.0   84.0      1.0      29.0   \n",
       "6159       NaN  ...      NaN     NaN    NaN     NaN    NaN      NaN       NaN   \n",
       "6160    3661.0  ...    200.0  4059.0  396.0  3008.0  395.0     12.0      61.0   \n",
       "6161       NaN  ...      NaN     NaN    NaN     NaN    NaN      NaN       NaN   \n",
       "\n",
       "      NHPIVAP  OTHERVAP  2MOREVAP  \n",
       "0         0.0       9.0     211.0  \n",
       "1         1.0       1.0      76.0  \n",
       "2         1.0      11.0     198.0  \n",
       "3         3.0       3.0     159.0  \n",
       "4         6.0       4.0     228.0  \n",
       "...       ...       ...       ...  \n",
       "6157      NaN       NaN       NaN  \n",
       "6158      1.0       7.0      61.0  \n",
       "6159      NaN       NaN       NaN  \n",
       "6160      1.0      27.0     159.0  \n",
       "6161      NaN       NaN       NaN  \n",
       "\n",
       "[6162 rows x 32 columns]"
      ]
     },
     "execution_count": 43,
     "metadata": {},
     "output_type": "execute_result"
    }
   ],
   "source": [
    "election_df"
   ]
  },
  {
   "cell_type": "code",
   "execution_count": 37,
   "metadata": {},
   "outputs": [
    {
     "name": "stderr",
     "output_type": "stream",
     "text": [
      "100%|█████████████████████████████████████| 6152/6152 [00:05<00:00, 1224.25it/s]\n"
     ]
    },
    {
     "name": "stdout",
     "output_type": "stream",
     "text": [
      "There are 2683 overlaps.\n",
      "There are 13705 holes.\n",
      "There are some invalid geometries.\n",
      "Snapping all geometries to a grid with precision 10^( -3 ) to avoid GEOS errors.\n",
      "Identifying overlaps...\n"
     ]
    },
    {
     "name": "stderr",
     "output_type": "stream",
     "text": [
      "100%|███████████████████████████████████| 26504/26504 [00:15<00:00, 1697.80it/s]\n"
     ]
    },
    {
     "name": "stdout",
     "output_type": "stream",
     "text": [
      "Resolving overlaps...\n",
      "Assigning order 2 pieces...\n",
      "Assigning order 3 pieces...\n",
      "4 gaps will remain unfilled, because they either are not simply connected or exceed the area threshold.\n",
      "Filling gaps...\n"
     ]
    },
    {
     "name": "stderr",
     "output_type": "stream",
     "text": [
      "Gaps to simplify: 8658it [2:48:19,  1.17s/it]                                   \n",
      "Gaps to fill: 100%|███████████████████████████| 548/548 [24:22<00:00,  2.67s/it]\n",
      "100%|█████████████████████████████████████| 6152/6152 [00:04<00:00, 1337.28it/s]\n"
     ]
    },
    {
     "name": "stdout",
     "output_type": "stream",
     "text": [
      "There are 4 holes.\n"
     ]
    },
    {
     "ename": "Exception",
     "evalue": "maup.doctor failed",
     "output_type": "error",
     "traceback": [
      "\u001b[0;31m---------------------------------------------------------------------------\u001b[0m",
      "\u001b[0;31mException\u001b[0m                                 Traceback (most recent call last)",
      "Cell \u001b[0;32mIn[37], line 2\u001b[0m\n\u001b[1;32m      1\u001b[0m \u001b[38;5;66;03m# check the result here\u001b[39;00m\n\u001b[0;32m----> 2\u001b[0m election_df \u001b[38;5;241m=\u001b[39m \u001b[43madd_vest\u001b[49m\u001b[43m(\u001b[49m\u001b[43mvest18\u001b[49m\u001b[43m,\u001b[49m\u001b[43m \u001b[49m\u001b[43melection_df\u001b[49m\u001b[43m,\u001b[49m\u001b[43m \u001b[49m\u001b[38;5;124;43m'\u001b[39;49m\u001b[38;5;124;43m18\u001b[39;49m\u001b[38;5;124;43m'\u001b[39;49m\u001b[43m,\u001b[49m\u001b[43m \u001b[49m\u001b[43mpopulation_df\u001b[49m\u001b[43m,\u001b[49m\u001b[43m \u001b[49m\u001b[43mstart_col\u001b[49m\u001b[43m)\u001b[49m\n",
      "Cell \u001b[0;32mIn[10], line 10\u001b[0m, in \u001b[0;36madd_vest\u001b[0;34m(vest, df, year, population, start_col, snap_precision)\u001b[0m\n\u001b[1;32m      8\u001b[0m  \u001b[38;5;66;03m# check if it needs to be smart_repair\u001b[39;00m\n\u001b[1;32m      9\u001b[0m \u001b[38;5;28;01mif\u001b[39;00m maup\u001b[38;5;241m.\u001b[39mdoctor(vest) \u001b[38;5;241m!=\u001b[39m \u001b[38;5;28;01mTrue\u001b[39;00m:\n\u001b[0;32m---> 10\u001b[0m     vest \u001b[38;5;241m=\u001b[39m \u001b[43mdo_smart_repair\u001b[49m\u001b[43m(\u001b[49m\u001b[43mvest\u001b[49m\u001b[43m,\u001b[49m\u001b[43m \u001b[49m\u001b[43msnap_precision\u001b[49m\u001b[43m \u001b[49m\u001b[38;5;241;43m=\u001b[39;49m\u001b[43m \u001b[49m\u001b[43msnap_precision\u001b[49m\u001b[43m)\u001b[49m\n\u001b[1;32m     12\u001b[0m \u001b[38;5;66;03m# rename the columns\u001b[39;00m\n\u001b[1;32m     13\u001b[0m original_col \u001b[38;5;241m=\u001b[39m vest\u001b[38;5;241m.\u001b[39mcolumns[start_col:\u001b[38;5;241m-\u001b[39m\u001b[38;5;241m1\u001b[39m]\n",
      "Cell \u001b[0;32mIn[5], line 7\u001b[0m, in \u001b[0;36mdo_smart_repair\u001b[0;34m(df, min_rook_length, snap_precision)\u001b[0m\n\u001b[1;32m      4\u001b[0m df \u001b[38;5;241m=\u001b[39m smart_repair(df, min_rook_length \u001b[38;5;241m=\u001b[39m min_rook_length, snap_precision\u001b[38;5;241m=\u001b[39msnap_precision)\n\u001b[1;32m      6\u001b[0m \u001b[38;5;28;01mif\u001b[39;00m maup\u001b[38;5;241m.\u001b[39mdoctor(df) \u001b[38;5;241m==\u001b[39m \u001b[38;5;28;01mFalse\u001b[39;00m:\n\u001b[0;32m----> 7\u001b[0m     \u001b[38;5;28;01mraise\u001b[39;00m \u001b[38;5;167;01mException\u001b[39;00m(\u001b[38;5;124m'\u001b[39m\u001b[38;5;124mmaup.doctor failed\u001b[39m\u001b[38;5;124m'\u001b[39m)\n\u001b[1;32m      9\u001b[0m \u001b[38;5;28;01mreturn\u001b[39;00m df\n",
      "\u001b[0;31mException\u001b[0m: maup.doctor failed"
     ]
    }
   ],
   "source": [
    "# check the result here\n",
    "election_df = add_vest(vest18, election_df, '18', population_df, start_col)"
   ]
  },
  {
   "cell_type": "code",
   "execution_count": null,
   "metadata": {},
   "outputs": [],
   "source": [
    "election_df.columns"
   ]
  },
  {
   "cell_type": "code",
   "execution_count": null,
   "metadata": {},
   "outputs": [],
   "source": [
    "election_df = add_vest(vest16, election_df, '16', population_df, start_col)"
   ]
  },
  {
   "cell_type": "code",
   "execution_count": null,
   "metadata": {},
   "outputs": [],
   "source": [
    "election_df = smart_repair(election_df, min_rook_length = min_rook_length, snap_precision=8)"
   ]
  },
  {
   "cell_type": "markdown",
   "metadata": {},
   "source": [
    "##  Add the district data"
   ]
  },
  {
   "cell_type": "code",
   "execution_count": 48,
   "metadata": {},
   "outputs": [],
   "source": [
    "send = gpd.read_file(send_data)\n",
    "send = send.to_crs(send.estimate_utm_crs())\n",
    "hdist = gpd.read_file(hdist_data)\n",
    "hdist = hdist.to_crs(hdist.estimate_utm_crs())"
   ]
  },
  {
   "cell_type": "code",
   "execution_count": 49,
   "metadata": {},
   "outputs": [
    {
     "data": {
      "text/html": [
       "<div>\n",
       "<style scoped>\n",
       "    .dataframe tbody tr th:only-of-type {\n",
       "        vertical-align: middle;\n",
       "    }\n",
       "\n",
       "    .dataframe tbody tr th {\n",
       "        vertical-align: top;\n",
       "    }\n",
       "\n",
       "    .dataframe thead th {\n",
       "        text-align: right;\n",
       "    }\n",
       "</style>\n",
       "<table border=\"1\" class=\"dataframe\">\n",
       "  <thead>\n",
       "    <tr style=\"text-align: right;\">\n",
       "      <th></th>\n",
       "      <th>ID</th>\n",
       "      <th>AREA</th>\n",
       "      <th>DISTRICT</th>\n",
       "      <th>MEMBERS</th>\n",
       "      <th>LOCKED</th>\n",
       "      <th>NAME</th>\n",
       "      <th>POPULATION</th>\n",
       "      <th>WHITE</th>\n",
       "      <th>BLACK</th>\n",
       "      <th>AMINDIAN</th>\n",
       "      <th>...</th>\n",
       "      <th>F18_NP_HWN</th>\n",
       "      <th>F18_AP_OTH</th>\n",
       "      <th>F18_NP_OTH</th>\n",
       "      <th>F18_1_RACE</th>\n",
       "      <th>F18_2_RACE</th>\n",
       "      <th>F18_2_RAC1</th>\n",
       "      <th>F18_3_RACE</th>\n",
       "      <th>F18_4_RACE</th>\n",
       "      <th>F18_5_RACE</th>\n",
       "      <th>geometry</th>\n",
       "    </tr>\n",
       "  </thead>\n",
       "  <tbody>\n",
       "    <tr>\n",
       "      <th>0</th>\n",
       "      <td>2</td>\n",
       "      <td>4296.627441</td>\n",
       "      <td>10</td>\n",
       "      <td>1.0</td>\n",
       "      <td>None</td>\n",
       "      <td>None</td>\n",
       "      <td>18519</td>\n",
       "      <td>15660</td>\n",
       "      <td>184</td>\n",
       "      <td>182</td>\n",
       "      <td>...</td>\n",
       "      <td>14871</td>\n",
       "      <td>1051</td>\n",
       "      <td>13844</td>\n",
       "      <td>13802</td>\n",
       "      <td>1093</td>\n",
       "      <td>1047</td>\n",
       "      <td>42</td>\n",
       "      <td>4</td>\n",
       "      <td>0</td>\n",
       "      <td>POLYGON ((446932.078 4538628.829, 446520.895 4...</td>\n",
       "    </tr>\n",
       "    <tr>\n",
       "      <th>1</th>\n",
       "      <td>3</td>\n",
       "      <td>16349.305664</td>\n",
       "      <td>11</td>\n",
       "      <td>1.0</td>\n",
       "      <td>None</td>\n",
       "      <td>None</td>\n",
       "      <td>18135</td>\n",
       "      <td>14755</td>\n",
       "      <td>173</td>\n",
       "      <td>246</td>\n",
       "      <td>...</td>\n",
       "      <td>13988</td>\n",
       "      <td>1605</td>\n",
       "      <td>12415</td>\n",
       "      <td>12925</td>\n",
       "      <td>1095</td>\n",
       "      <td>1063</td>\n",
       "      <td>31</td>\n",
       "      <td>1</td>\n",
       "      <td>0</td>\n",
       "      <td>POLYGON ((408427.491 4583186.510, 407851.148 4...</td>\n",
       "    </tr>\n",
       "    <tr>\n",
       "      <th>2</th>\n",
       "      <td>6</td>\n",
       "      <td>10247.032227</td>\n",
       "      <td>14</td>\n",
       "      <td>1.0</td>\n",
       "      <td>None</td>\n",
       "      <td>None</td>\n",
       "      <td>18189</td>\n",
       "      <td>16225</td>\n",
       "      <td>39</td>\n",
       "      <td>152</td>\n",
       "      <td>...</td>\n",
       "      <td>13672</td>\n",
       "      <td>812</td>\n",
       "      <td>12904</td>\n",
       "      <td>13018</td>\n",
       "      <td>698</td>\n",
       "      <td>684</td>\n",
       "      <td>11</td>\n",
       "      <td>3</td>\n",
       "      <td>0</td>\n",
       "      <td>POLYGON ((130541.351 4602755.627, 130580.322 4...</td>\n",
       "    </tr>\n",
       "    <tr>\n",
       "      <th>3</th>\n",
       "      <td>13</td>\n",
       "      <td>8422.623047</td>\n",
       "      <td>20</td>\n",
       "      <td>1.0</td>\n",
       "      <td>None</td>\n",
       "      <td>None</td>\n",
       "      <td>17793</td>\n",
       "      <td>15752</td>\n",
       "      <td>39</td>\n",
       "      <td>215</td>\n",
       "      <td>...</td>\n",
       "      <td>13747</td>\n",
       "      <td>829</td>\n",
       "      <td>12950</td>\n",
       "      <td>13003</td>\n",
       "      <td>776</td>\n",
       "      <td>728</td>\n",
       "      <td>41</td>\n",
       "      <td>7</td>\n",
       "      <td>0</td>\n",
       "      <td>POLYGON ((137848.753 4875017.787, 137875.895 4...</td>\n",
       "    </tr>\n",
       "    <tr>\n",
       "      <th>4</th>\n",
       "      <td>18</td>\n",
       "      <td>2738.210205</td>\n",
       "      <td>25</td>\n",
       "      <td>1.0</td>\n",
       "      <td>None</td>\n",
       "      <td>None</td>\n",
       "      <td>19167</td>\n",
       "      <td>11122</td>\n",
       "      <td>109</td>\n",
       "      <td>6429</td>\n",
       "      <td>...</td>\n",
       "      <td>13960</td>\n",
       "      <td>444</td>\n",
       "      <td>13549</td>\n",
       "      <td>13256</td>\n",
       "      <td>737</td>\n",
       "      <td>678</td>\n",
       "      <td>50</td>\n",
       "      <td>7</td>\n",
       "      <td>2</td>\n",
       "      <td>POLYGON ((216224.068 4684755.597, 214785.922 4...</td>\n",
       "    </tr>\n",
       "  </tbody>\n",
       "</table>\n",
       "<p>5 rows × 256 columns</p>\n",
       "</div>"
      ],
      "text/plain": [
       "   ID          AREA DISTRICT  MEMBERS LOCKED  NAME  POPULATION  WHITE  BLACK  \\\n",
       "0   2   4296.627441       10      1.0   None  None       18519  15660    184   \n",
       "1   3  16349.305664       11      1.0   None  None       18135  14755    173   \n",
       "2   6  10247.032227       14      1.0   None  None       18189  16225     39   \n",
       "3  13   8422.623047       20      1.0   None  None       17793  15752     39   \n",
       "4  18   2738.210205       25      1.0   None  None       19167  11122    109   \n",
       "\n",
       "   AMINDIAN  ...  F18_NP_HWN  F18_AP_OTH  F18_NP_OTH  F18_1_RACE  F18_2_RACE  \\\n",
       "0       182  ...       14871        1051       13844       13802        1093   \n",
       "1       246  ...       13988        1605       12415       12925        1095   \n",
       "2       152  ...       13672         812       12904       13018         698   \n",
       "3       215  ...       13747         829       12950       13003         776   \n",
       "4      6429  ...       13960         444       13549       13256         737   \n",
       "\n",
       "   F18_2_RAC1  F18_3_RACE  F18_4_RACE  F18_5_RACE  \\\n",
       "0        1047          42           4           0   \n",
       "1        1063          31           1           0   \n",
       "2         684          11           3           0   \n",
       "3         728          41           7           0   \n",
       "4         678          50           7           2   \n",
       "\n",
       "                                            geometry  \n",
       "0  POLYGON ((446932.078 4538628.829, 446520.895 4...  \n",
       "1  POLYGON ((408427.491 4583186.510, 407851.148 4...  \n",
       "2  POLYGON ((130541.351 4602755.627, 130580.322 4...  \n",
       "3  POLYGON ((137848.753 4875017.787, 137875.895 4...  \n",
       "4  POLYGON ((216224.068 4684755.597, 214785.922 4...  \n",
       "\n",
       "[5 rows x 256 columns]"
      ]
     },
     "execution_count": 49,
     "metadata": {},
     "output_type": "execute_result"
    }
   ],
   "source": [
    "send.head()"
   ]
  },
  {
   "cell_type": "code",
   "execution_count": 50,
   "metadata": {},
   "outputs": [
    {
     "name": "stderr",
     "output_type": "stream",
     "text": [
      "100%|██████████████████████████████████████████| 31/31 [00:00<00:00, 250.49it/s]\n",
      "100%|█████████████████████████████████████████| 31/31 [00:00<00:00, 1065.76it/s]\n",
      "100%|███████████████████████████████████████████| 31/31 [00:00<00:00, 60.82it/s]\n"
     ]
    }
   ],
   "source": [
    "election_df = add_district(send, \"SEND\", election_df, \"DISTRICT\")"
   ]
  },
  {
   "cell_type": "code",
   "execution_count": 51,
   "metadata": {},
   "outputs": [
    {
     "data": {
      "text/html": [
       "<div>\n",
       "<style scoped>\n",
       "    .dataframe tbody tr th:only-of-type {\n",
       "        vertical-align: middle;\n",
       "    }\n",
       "\n",
       "    .dataframe tbody tr th {\n",
       "        vertical-align: top;\n",
       "    }\n",
       "\n",
       "    .dataframe thead th {\n",
       "        text-align: right;\n",
       "    }\n",
       "</style>\n",
       "<table border=\"1\" class=\"dataframe\">\n",
       "  <thead>\n",
       "    <tr style=\"text-align: right;\">\n",
       "      <th></th>\n",
       "      <th>ID</th>\n",
       "      <th>AREA</th>\n",
       "      <th>DISTRICT</th>\n",
       "      <th>MEMBERS</th>\n",
       "      <th>LOCKED</th>\n",
       "      <th>NAME</th>\n",
       "      <th>POPULATION</th>\n",
       "      <th>WHITE</th>\n",
       "      <th>BLACK</th>\n",
       "      <th>AMINDIAN</th>\n",
       "      <th>...</th>\n",
       "      <th>F18_NP_HWN</th>\n",
       "      <th>F18_AP_OTH</th>\n",
       "      <th>F18_NP_OTH</th>\n",
       "      <th>F18_1_RACE</th>\n",
       "      <th>F18_2_RACE</th>\n",
       "      <th>F18_2_RAC1</th>\n",
       "      <th>F18_3_RACE</th>\n",
       "      <th>F18_4_RACE</th>\n",
       "      <th>F18_5_RACE</th>\n",
       "      <th>geometry</th>\n",
       "    </tr>\n",
       "  </thead>\n",
       "  <tbody>\n",
       "    <tr>\n",
       "      <th>0</th>\n",
       "      <td>6</td>\n",
       "      <td>2704.081055</td>\n",
       "      <td>14</td>\n",
       "      <td>1.0</td>\n",
       "      <td>None</td>\n",
       "      <td>None</td>\n",
       "      <td>9278</td>\n",
       "      <td>7855</td>\n",
       "      <td>102</td>\n",
       "      <td>95</td>\n",
       "      <td>...</td>\n",
       "      <td>7513</td>\n",
       "      <td>425</td>\n",
       "      <td>7097</td>\n",
       "      <td>7013</td>\n",
       "      <td>509</td>\n",
       "      <td>495</td>\n",
       "      <td>13</td>\n",
       "      <td>1</td>\n",
       "      <td>0</td>\n",
       "      <td>POLYGON ((410634.311 4599884.375, 410644.506 4...</td>\n",
       "    </tr>\n",
       "    <tr>\n",
       "      <th>1</th>\n",
       "      <td>7</td>\n",
       "      <td>2456.038330</td>\n",
       "      <td>15</td>\n",
       "      <td>1.0</td>\n",
       "      <td>None</td>\n",
       "      <td>None</td>\n",
       "      <td>9091</td>\n",
       "      <td>7093</td>\n",
       "      <td>126</td>\n",
       "      <td>165</td>\n",
       "      <td>...</td>\n",
       "      <td>6895</td>\n",
       "      <td>955</td>\n",
       "      <td>5952</td>\n",
       "      <td>6297</td>\n",
       "      <td>610</td>\n",
       "      <td>598</td>\n",
       "      <td>11</td>\n",
       "      <td>1</td>\n",
       "      <td>0</td>\n",
       "      <td>POLYGON ((340345.876 4699717.968, 340343.687 4...</td>\n",
       "    </tr>\n",
       "    <tr>\n",
       "      <th>2</th>\n",
       "      <td>10</td>\n",
       "      <td>4891.289551</td>\n",
       "      <td>18</td>\n",
       "      <td>1.0</td>\n",
       "      <td>None</td>\n",
       "      <td>None</td>\n",
       "      <td>8886</td>\n",
       "      <td>7900</td>\n",
       "      <td>21</td>\n",
       "      <td>94</td>\n",
       "      <td>...</td>\n",
       "      <td>6648</td>\n",
       "      <td>403</td>\n",
       "      <td>6270</td>\n",
       "      <td>6326</td>\n",
       "      <td>347</td>\n",
       "      <td>338</td>\n",
       "      <td>6</td>\n",
       "      <td>3</td>\n",
       "      <td>0</td>\n",
       "      <td>POLYGON ((130541.351 4602755.627, 130580.322 4...</td>\n",
       "    </tr>\n",
       "    <tr>\n",
       "      <th>3</th>\n",
       "      <td>13</td>\n",
       "      <td>5355.742676</td>\n",
       "      <td>20</td>\n",
       "      <td>1.0</td>\n",
       "      <td>None</td>\n",
       "      <td>None</td>\n",
       "      <td>9303</td>\n",
       "      <td>8325</td>\n",
       "      <td>18</td>\n",
       "      <td>58</td>\n",
       "      <td>...</td>\n",
       "      <td>7024</td>\n",
       "      <td>409</td>\n",
       "      <td>6634</td>\n",
       "      <td>6692</td>\n",
       "      <td>351</td>\n",
       "      <td>346</td>\n",
       "      <td>5</td>\n",
       "      <td>0</td>\n",
       "      <td>0</td>\n",
       "      <td>POLYGON ((166456.214 4686976.579, 166297.628 4...</td>\n",
       "    </tr>\n",
       "    <tr>\n",
       "      <th>4</th>\n",
       "      <td>17</td>\n",
       "      <td>3618.739258</td>\n",
       "      <td>24</td>\n",
       "      <td>1.0</td>\n",
       "      <td>None</td>\n",
       "      <td>None</td>\n",
       "      <td>9031</td>\n",
       "      <td>8299</td>\n",
       "      <td>17</td>\n",
       "      <td>52</td>\n",
       "      <td>...</td>\n",
       "      <td>7328</td>\n",
       "      <td>229</td>\n",
       "      <td>7104</td>\n",
       "      <td>7002</td>\n",
       "      <td>331</td>\n",
       "      <td>320</td>\n",
       "      <td>9</td>\n",
       "      <td>2</td>\n",
       "      <td>0</td>\n",
       "      <td>POLYGON ((178457.059 4938098.060, 178452.973 4...</td>\n",
       "    </tr>\n",
       "  </tbody>\n",
       "</table>\n",
       "<p>5 rows × 256 columns</p>\n",
       "</div>"
      ],
      "text/plain": [
       "   ID         AREA DISTRICT  MEMBERS LOCKED  NAME  POPULATION  WHITE  BLACK  \\\n",
       "0   6  2704.081055       14      1.0   None  None        9278   7855    102   \n",
       "1   7  2456.038330       15      1.0   None  None        9091   7093    126   \n",
       "2  10  4891.289551       18      1.0   None  None        8886   7900     21   \n",
       "3  13  5355.742676       20      1.0   None  None        9303   8325     18   \n",
       "4  17  3618.739258       24      1.0   None  None        9031   8299     17   \n",
       "\n",
       "   AMINDIAN  ...  F18_NP_HWN  F18_AP_OTH  F18_NP_OTH  F18_1_RACE  F18_2_RACE  \\\n",
       "0        95  ...        7513         425        7097        7013         509   \n",
       "1       165  ...        6895         955        5952        6297         610   \n",
       "2        94  ...        6648         403        6270        6326         347   \n",
       "3        58  ...        7024         409        6634        6692         351   \n",
       "4        52  ...        7328         229        7104        7002         331   \n",
       "\n",
       "   F18_2_RAC1  F18_3_RACE  F18_4_RACE  F18_5_RACE  \\\n",
       "0         495          13           1           0   \n",
       "1         598          11           1           0   \n",
       "2         338           6           3           0   \n",
       "3         346           5           0           0   \n",
       "4         320           9           2           0   \n",
       "\n",
       "                                            geometry  \n",
       "0  POLYGON ((410634.311 4599884.375, 410644.506 4...  \n",
       "1  POLYGON ((340345.876 4699717.968, 340343.687 4...  \n",
       "2  POLYGON ((130541.351 4602755.627, 130580.322 4...  \n",
       "3  POLYGON ((166456.214 4686976.579, 166297.628 4...  \n",
       "4  POLYGON ((178457.059 4938098.060, 178452.973 4...  \n",
       "\n",
       "[5 rows x 256 columns]"
      ]
     },
     "execution_count": 51,
     "metadata": {},
     "output_type": "execute_result"
    }
   ],
   "source": [
    "hdist.head()"
   ]
  },
  {
   "cell_type": "code",
   "execution_count": 52,
   "metadata": {},
   "outputs": [
    {
     "name": "stderr",
     "output_type": "stream",
     "text": [
      "100%|██████████████████████████████████████████| 62/62 [00:00<00:00, 335.17it/s]\n",
      "100%|█████████████████████████████████████████| 62/62 [00:00<00:00, 1663.45it/s]\n",
      "100%|███████████████████████████████████████████| 62/62 [00:00<00:00, 92.88it/s]\n"
     ]
    }
   ],
   "source": [
    "election_df = add_district(hdist, \"HDIST\", election_df, \"DISTRICT\")"
   ]
  },
  {
   "cell_type": "code",
   "execution_count": 53,
   "metadata": {},
   "outputs": [
    {
     "name": "stderr",
     "output_type": "stream",
     "text": [
      "100%|████████████████████████████████████████| 481/481 [00:00<00:00, 640.35it/s]\n"
     ]
    },
    {
     "data": {
      "text/plain": [
       "True"
      ]
     },
     "execution_count": 53,
     "metadata": {},
     "output_type": "execute_result"
    }
   ],
   "source": [
    "maup.doctor(election_df)"
   ]
  },
  {
   "cell_type": "markdown",
   "metadata": {},
   "source": [
    "### Put the base precinct year after the precinct information column"
   ]
  },
  {
   "cell_type": "code",
   "execution_count": 55,
   "metadata": {},
   "outputs": [],
   "source": [
    "base_columns = {}\n",
    "if 'COUNTYFP' + year not in election_df.columns:\n",
    "    base_columns = {\n",
    "        'STATEFP':'STATEFP'+year,\n",
    "        'COUNTYFP':'COUNTYFP'+year,\n",
    "        'VTDST':'VTDST'+year,\n",
    "        'NAME':'NAME'+year}\n",
    "election_df.rename(columns=base_columns, inplace = True)"
   ]
  },
  {
   "cell_type": "code",
   "execution_count": 56,
   "metadata": {},
   "outputs": [
    {
     "data": {
      "text/plain": [
       "Index(['2MOREVAP', 'AMINVAP', 'ASIANVAP', 'AUD18D', 'AUD18O', 'AUD18R', 'BVAP',\n",
       "       'COUNTYFP20', 'GOV18D', 'GOV18O', 'GOV18R', 'HAL16D', 'HAL16O',\n",
       "       'HAL16R', 'HAL18D', 'HAL18O', 'HAL18R', 'HAL20D', 'HAL20O', 'HAL20R',\n",
       "       'HISP', 'HVAP', 'H_2MORE', 'H_AMIN', 'H_ASIAN', 'H_BLACK', 'H_NHPI',\n",
       "       'H_OTHER', 'H_WHITE', 'NAME20', 'NHPIVAP', 'NH_2MORE', 'NH_AMIN',\n",
       "       'NH_ASIAN', 'NH_BLACK', 'NH_NHPI', 'NH_OTHER', 'NH_WHITE', 'OTHERVAP',\n",
       "       'PRE16D', 'PRE16O', 'PRE16R', 'PRE20D', 'PRE20O', 'PRE20R', 'SOS18D',\n",
       "       'SOS18O', 'SOS18R', 'SPI18O', 'SPI18R', 'STATEFP20', 'TOTPOP', 'TRE18D',\n",
       "       'TRE18O', 'TRE18R', 'USS18D', 'USS18O', 'USS18R', 'USS20D', 'USS20O',\n",
       "       'USS20R', 'VAP', 'VTDST20', 'WVAP', 'geometry', 'SEND', 'HDIST'],\n",
       "      dtype='object')"
      ]
     },
     "execution_count": 56,
     "metadata": {},
     "output_type": "execute_result"
    }
   ],
   "source": [
    "election_df.columns"
   ]
  },
  {
   "cell_type": "code",
   "execution_count": 57,
   "metadata": {},
   "outputs": [],
   "source": [
    "# reorder the columns\n",
    "fixed_columns = [\n",
    "    'STATEFP'+year,\n",
    "    'COUNTYFP'+year,\n",
    "    'VTDST'+year,\n",
    "    'NAME'+year,\n",
    "    'SEND',\n",
    "    'HDIST',\n",
    "    'TOTPOP',\n",
    "    'NH_2MORE',\n",
    "    'NH_AMIN',\n",
    "    'NH_ASIAN',\n",
    "    'NH_BLACK',\n",
    "    'NH_NHPI',\n",
    "    'NH_OTHER',\n",
    "    'NH_WHITE',\n",
    "    'HISP',\n",
    "    'H_AMIN',\n",
    "    'H_ASIAN',\n",
    "    'H_BLACK',\n",
    "    'H_NHPI',\n",
    "    'H_OTHER',\n",
    "    'H_WHITE',\n",
    "    'H_2MORE',\n",
    "    'VAP',\n",
    "    'HVAP',\n",
    "    'WVAP',\n",
    "    'BVAP',\n",
    "    'AMINVAP',\n",
    "    'ASIANVAP',\n",
    "    'NHPIVAP',\n",
    "    'OTHERVAP',\n",
    "    '2MOREVAP']\n",
    "\n",
    "election_columns = [col for col in election_df.columns if col not in fixed_columns]\n",
    "final_col = fixed_columns + election_columns\n",
    "election_df = election_df[final_col]"
   ]
  },
  {
   "cell_type": "code",
   "execution_count": 58,
   "metadata": {},
   "outputs": [],
   "source": [
    "import os\n",
    "\n",
    "# store the result in directory \"il\"\n",
    "directory = \"./{}\".format(state_ab)\n",
    "if not os.path.exists(directory):\n",
    "    os.makedirs(directory)\n",
    "\n",
    "shapefile_path = \"./{}/{}.shp\".format(state_ab, state_ab)\n",
    "geojson_path = './{}/{}.geojson'.format(state_ab, state_ab)\n",
    "json_path = \"./{}.json\".format(state_ab, state_ab)\n",
    "\n",
    "# Check if the shapefile or geojson file already exists\n",
    "if os.path.exists(shapefile_path):\n",
    "    os.remove(shapefile_path)\n",
    "if os.path.exists(geojson_path):\n",
    "    os.remove(geojson_path)\n",
    "\n",
    "election_df.to_file(shapefile_path)\n",
    "election_df.to_file(geojson_path, driver='GeoJSON')\n",
    "\n",
    "# Only do once to build json and read from file when generating ensembles\n",
    "graph = Graph.from_file(shapefile_path, ignore_errors=True)\n",
    "graph.to_json(json_path)"
   ]
  },
  {
   "cell_type": "code",
   "execution_count": 59,
   "metadata": {},
   "outputs": [
    {
     "data": {
      "text/plain": [
       "<Axes: >"
      ]
     },
     "execution_count": 59,
     "metadata": {},
     "output_type": "execute_result"
    },
    {
     "data": {
      "image/png": "[encoded data removed]",
      "text/plain": [
       "<Figure size 640x480 with 1 Axes>"
      ]
     },
     "metadata": {},
     "output_type": "display_data"
    }
   ],
   "source": [
    "shapefile_path = \"./{}/{}.shp\".format(state_ab, state_ab)\n",
    "shape=gpd.read_file(shapefile_path)\n",
    "shape.plot()"
   ]
  },
  {
   "cell_type": "code",
   "execution_count": null,
   "metadata": {},
   "outputs": [],
   "source": []
  }
 ],
 "metadata": {
  "kernelspec": {
   "display_name": "maup",
   "language": "python",
   "name": "maup"
  },
  "language_info": {
   "codemirror_mode": {
    "name": "ipython",
    "version": 3
   },
   "file_extension": ".py",
   "mimetype": "text/x-python",
   "name": "python",
   "nbconvert_exporter": "python",
   "pygments_lexer": "ipython3",
   "version": "3.12.6"
  }
 },
 "nbformat": 4,
 "nbformat_minor": 4
}
