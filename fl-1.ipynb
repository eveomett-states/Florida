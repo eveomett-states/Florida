{
 "cells": [
  {
   "cell_type": "code",
   "execution_count": 1,
   "metadata": {},
   "outputs": [],
   "source": [
    "import pandas as pd\n",
    "import geopandas as gpd\n",
    "import maup\n",
    "import time\n",
    "from maup import smart_repair\n",
    "from gerrychain import Graph\n",
    "\n",
    "maup.progress.enabled = True"
   ]
  },
  {
   "cell_type": "code",
   "execution_count": 2,
   "metadata": {},
   "outputs": [],
   "source": [
    "import warnings\n",
    "warnings.filterwarnings(\"ignore\")"
   ]
  },
  {
   "cell_type": "code",
   "execution_count": 3,
   "metadata": {},
   "outputs": [],
   "source": [
    "# Florida\n",
    "state_ab = \"fl\""
   ]
  },
  {
   "cell_type": "markdown",
   "metadata": {},
   "source": [
    "## Data\n",
    "1. Download all the data in directory \"fl_data\"\n",
    "2. Extract them all"
   ]
  },
  {
   "cell_type": "code",
   "execution_count": 5,
   "metadata": {},
   "outputs": [],
   "source": [
    "data_folder = state_ab + \"_data/\"\n",
    "population1_data = \"./{}{}_pl2020_b/{}_pl2020_p1_b.shp\".format(data_folder, state_ab, state_ab)\n",
    "population2_data = \"./{}{}_pl2020_b/{}_pl2020_p2_b.shp\".format(data_folder, state_ab, state_ab)\n",
    "vap_data =  \"./{}{}_pl2020_b/{}_pl2020_p4_b.shp\".format(data_folder, state_ab, state_ab)\n",
    "vest20_data = \"./{}{}_vest_20/{}_vest_20.shp\".format(data_folder, state_ab, state_ab)\n",
    "vest18_data = \"./{}{}_vest_18/{}_vest_18.shp\".format(data_folder, state_ab, state_ab)\n",
    "vest16_data = \"./{}{}_vest_16/{}_vest_16.shp\".format(data_folder, state_ab, state_ab)\n",
    "cd_data = \"./{}{}_cong_adopted_2022/P000C0109.shp\".format(data_folder, state_ab)\n",
    "send_data = \"./{}{}_sldu_adopted_2022/S027S8058.shp\".format(data_folder, state_ab)\n",
    "hdist_data = \"./{}{}_sldl_adopted_2022/H000H8013.shp\".format(data_folder, state_ab)\n",
    "county_data = \"./{}{}_pl2020_cnty/{}_pl2020_cnty.shp\".format(data_folder, state_ab, state_ab)"
   ]
  },
  {
   "cell_type": "code",
   "execution_count": 6,
   "metadata": {},
   "outputs": [],
   "source": [
    "def do_smart_repair(df, min_rook_length = None, snap_precision = 8):\n",
    "    # change it to the UTM it needs for smart_repair\n",
    "    df = df.to_crs(df.estimate_utm_crs())\n",
    "    df = smart_repair(df, min_rook_length = min_rook_length, snap_precision=snap_precision)\n",
    "\n",
    "    if maup.doctor(df) == False:\n",
    "        print(\"maup doctor failed!  Please investigate\")\n",
    "        #raise Exception('maup.doctor failed')\n",
    "    \n",
    "    return df"
   ]
  },
  {
   "cell_type": "code",
   "execution_count": 7,
   "metadata": {},
   "outputs": [],
   "source": [
    "def add_district(dist_df, dist_name, election_df, col_name):\n",
    "    election_df = election_df.to_crs(election_df.estimate_utm_crs())\n",
    "    dist_df = dist_df.to_crs(dist_df.estimate_utm_crs())\n",
    "    # check if it needs to be smart_repair\n",
    "    if maup.doctor(dist_df) != True:\n",
    "        dist_df = do_smart_repair(dist_df)\n",
    "\n",
    "    # assign the pricincts\n",
    "    precincts_to_district_assignment = maup.assign(election_df.geometry, dist_df.geometry)\n",
    "    election_df[dist_name] = precincts_to_district_assignment\n",
    "    for precinct_index in range(len(election_df)):\n",
    "        election_df.at[precinct_index, dist_name] = dist_df.at[election_df.at[precinct_index, dist_name], col_name]\n",
    "\n",
    "    return election_df"
   ]
  },
  {
   "cell_type": "code",
   "execution_count": 8,
   "metadata": {},
   "outputs": [],
   "source": [
    "def rename(original, year):\n",
    "    party = original[6]\n",
    "    if party == 'R' or party == 'D':\n",
    "        return original[3:6] + year + original[6]\n",
    "    else:\n",
    "        return original[3:6] + year + 'O'"
   ]
  },
  {
   "cell_type": "code",
   "execution_count": 9,
   "metadata": {},
   "outputs": [],
   "source": [
    "pop_col = ['TOTPOP', 'HISP', 'NH_WHITE', 'NH_BLACK', 'NH_AMIN', 'NH_ASIAN', 'NH_NHPI', 'NH_OTHER', 'NH_2MORE', 'H_WHITE', 'H_BLACK', 'H_AMIN', 'H_ASIAN', 'H_NHPI', 'H_OTHER', 'H_2MORE', 'VAP', 'HVAP', 'WVAP', 'BVAP', 'AMINVAP', 'ASIANVAP', 'NHPIVAP', 'OTHERVAP', '2MOREVAP']"
   ]
  },
  {
   "cell_type": "code",
   "execution_count": 10,
   "metadata": {},
   "outputs": [],
   "source": [
    "def check_population(population, df):\n",
    "    pop_check = pd.DataFrame({\n",
    "        'pop_col': pop_col,\n",
    "        'population_df': population[pop_col].sum(), \n",
    "        'vest_base': df[pop_col].sum(),\n",
    "        'equal': [x == y for x, y in zip(population[pop_col].sum(), df[pop_col].sum())]\n",
    "    })\n",
    "    if pop_check['equal'].mean() < 1:\n",
    "        print(pop_check)\n",
    "        raise Exception(\"population doesn't agree\")\n",
    "\n",
    "    else:\n",
    "        print(\"population agrees\")"
   ]
  },
  {
   "cell_type": "code",
   "execution_count": 11,
   "metadata": {},
   "outputs": [],
   "source": [
    "def add_vest(vest, df, year, population, start_col, snap_precision = 8):\n",
    "    df = df.to_crs(df.estimate_utm_crs())\n",
    "    vest = vest.to_crs(vest.estimate_utm_crs())\n",
    "    population = population.to_crs(population.estimate_utm_crs())\n",
    "    df_crs = df.crs\n",
    "    vest_crs = vest.crs\n",
    "    \n",
    "     # check if it needs to be smart_repair\n",
    "    if maup.doctor(vest) != True:\n",
    "        vest = do_smart_repair(vest, snap_precision = snap_precision)\n",
    "    \n",
    "    # rename the columns\n",
    "    original_col = vest.columns[start_col:-1]\n",
    "    new_col = [rename(i, year) for i in original_col]\n",
    "    rename_dict = dict(zip(original_col, new_col))\n",
    "    vest = vest.rename(columns=rename_dict)\n",
    "    vest = vest.groupby(level=0, axis=1).sum() # combine all the other party's vote into columns with sufix \"O\"\n",
    "    col_name = list(set(new_col))\n",
    "    col_name.sort()\n",
    "    \n",
    "    # make the blocks from precincts by weight\n",
    "    vest = gpd.GeoDataFrame(vest, crs=vest_crs)\n",
    "    election_in_block = population[[\"VAP\", 'geometry']] # population_df is in block scale\n",
    "    blocks_to_precincts_assignment = maup.assign(election_in_block.geometry, vest.geometry)\n",
    "    weights = election_in_block[\"VAP\"] / blocks_to_precincts_assignment.map(election_in_block[\"VAP\"].groupby(blocks_to_precincts_assignment).sum())\n",
    "    weights = weights.fillna(0)\n",
    "    prorated = maup.prorate(blocks_to_precincts_assignment, vest[col_name], weights)\n",
    "    election_in_block[col_name] = prorated\n",
    "    \n",
    "    # assign blocks to precincts\n",
    "    election_in_block = gpd.GeoDataFrame(election_in_block, crs=vest_crs)\n",
    "    df = gpd.GeoDataFrame(df, crs=df_crs)\n",
    "    block_to_pricinct_assginment = maup.assign(election_in_block.geometry, df.geometry)\n",
    "    df[col_name] = election_in_block[col_name].groupby(block_to_pricinct_assginment).sum()\n",
    "    df = df.groupby(level=0, axis=1).sum()\n",
    "    df = gpd.GeoDataFrame(df, crs = df_crs)\n",
    "    # check if population agrees\n",
    "    check_population(population, df)\n",
    "    \n",
    "    return df"
   ]
  },
  {
   "cell_type": "code",
   "execution_count": 12,
   "metadata": {},
   "outputs": [],
   "source": [
    "def add_vest_base(vest, start_col, year, county = None, min_rook_length = None, snap_precision = 8):\n",
    "    vest = vest.to_crs(vest.estimate_utm_crs())\n",
    "    vest_crs = vest.crs\n",
    "    original_col = vest.columns[start_col:-1]\n",
    "    new_col = [rename(i, year) for i in original_col]\n",
    "    rename_dict = dict(zip(original_col, new_col))\n",
    "    vest = vest.rename(columns=rename_dict)\n",
    "    vest = vest.groupby(level=0, axis=1).sum()\n",
    "    vest = gpd.GeoDataFrame(vest, crs=vest_crs)\n",
    "\n",
    "    if county is not None:\n",
    "        county = county.to_crs(county.estimate_utm_crs())\n",
    "        vest = smart_repair(vest, nest_within_regions = county, min_rook_length = min_rook_length, snap_precision = snap_precision) # nest precincts within counties\n",
    "\n",
    "    else:\n",
    "        vest = smart_repair(vest, min_rook_length = min_rook_length, snap_precision = snap_precision) \n",
    "    \n",
    "    return vest"
   ]
  },
  {
   "cell_type": "code",
   "execution_count": 13,
   "metadata": {},
   "outputs": [],
   "source": [
    "def check_small_boundary_lengths(vest_base):\n",
    "    import copy\n",
    "    vest_base = vest_base.to_crs(vest_base.estimate_utm_crs())\n",
    "\n",
    "    boundaries = copy.deepcopy(vest_base)\n",
    "    boundaries[\"geometry\"] = boundaries.geometry.boundary  # get boundaries\n",
    "    neighbors = gpd.sjoin(boundaries, vest_base, predicate=\"intersects\") # find boundaries that intersect\n",
    "    neighbors = neighbors[neighbors.index != neighbors.index_right] # remove boundaries of a region with itself\n",
    "\n",
    "    # compute shared border length using intersection\n",
    "    borders = list(neighbors.apply(\n",
    "        lambda row: row.geometry.intersection(vest_base.loc[row.index_right, \"geometry\"]).length, axis=1\n",
    "    ))\n",
    "\n",
    "    borders.sort()\n",
    "    \n",
    "    return borders"
   ]
  },
  {
   "cell_type": "markdown",
   "metadata": {},
   "source": [
    "### Read the census data"
   ]
  },
  {
   "cell_type": "code",
   "execution_count": 15,
   "metadata": {},
   "outputs": [],
   "source": [
    "population1_df = gpd.read_file(population1_data)\n",
    "population2_df = gpd.read_file(population2_data)\n",
    "vap_df = gpd.read_file(vap_data)\n",
    "county_df = gpd.read_file(county_data)"
   ]
  },
  {
   "cell_type": "code",
   "execution_count": 16,
   "metadata": {},
   "outputs": [],
   "source": [
    "population2_df = population2_df.drop(columns=['SUMLEV', 'LOGRECNO', 'GEOID', 'COUNTY', 'geometry'])\n",
    "vap_df = vap_df.drop(columns=['SUMLEV', 'LOGRECNO', 'GEOID', 'COUNTY', 'geometry'])"
   ]
  },
  {
   "cell_type": "code",
   "execution_count": 17,
   "metadata": {},
   "outputs": [],
   "source": [
    "population_df = pd.merge(population1_df, population2_df, on='GEOID20')\n",
    "population_df = pd.merge(population_df, vap_df, on='GEOID20')\n",
    "population_df = population_df.to_crs(population_df.estimate_utm_crs())"
   ]
  },
  {
   "cell_type": "code",
   "execution_count": 18,
   "metadata": {},
   "outputs": [
    {
     "name": "stderr",
     "output_type": "stream",
     "text": [
      "100%|█████████████████████████████████| 390066/390066 [02:05<00:00, 3119.44it/s]\n"
     ]
    },
    {
     "data": {
      "text/plain": [
       "True"
      ]
     },
     "execution_count": 18,
     "metadata": {},
     "output_type": "execute_result"
    }
   ],
   "source": [
    "maup.doctor(population_df)"
   ]
  },
  {
   "cell_type": "code",
   "execution_count": 19,
   "metadata": {},
   "outputs": [],
   "source": [
    "population_df['H_WHITE'] = population_df.apply(lambda t: t['P0010003'] - t['P0020005'], 1)\n",
    "population_df['H_BLACK'] = population_df.apply(lambda t: t['P0010004'] - t['P0020006'], 1)\n",
    "population_df['H_AMIN'] = population_df.apply(lambda t: t['P0010005'] - t['P0020007'], 1)\n",
    "population_df['H_ASIAN'] = population_df.apply(lambda t: t['P0010006'] - t['P0020008'], 1)\n",
    "population_df['H_NHPI'] = population_df.apply(lambda t: t['P0010007'] - t['P0020009'], 1)\n",
    "population_df['H_OTHER'] = population_df.apply(lambda t: t['P0010008'] - t['P0020010'], 1)\n",
    "population_df['H_2MORE'] = population_df.apply(lambda t: t['P0010009'] - t['P0020011'], 1)"
   ]
  },
  {
   "cell_type": "code",
   "execution_count": 20,
   "metadata": {},
   "outputs": [],
   "source": [
    "rename_dict = {'P0020001': 'TOTPOP', 'P0020002': 'HISP', 'P0020005': 'NH_WHITE', 'P0020006': 'NH_BLACK', 'P0020007': 'NH_AMIN',\n",
    "                    'P0020008': 'NH_ASIAN', 'P0020009': 'NH_NHPI', 'P0020010': 'NH_OTHER', 'P0020011': 'NH_2MORE',\n",
    "                    'P0040001': 'VAP', 'P0040002': 'HVAP', 'P0040005': 'WVAP', 'P0040006': 'BVAP', 'P0040007': 'AMINVAP',\n",
    "                                        'P0040008': 'ASIANVAP', 'P0040009': 'NHPIVAP', 'P0040010': 'OTHERVAP', 'P0040011': '2MOREVAP'}"
   ]
  },
  {
   "cell_type": "code",
   "execution_count": 21,
   "metadata": {},
   "outputs": [],
   "source": [
    "population_df.rename(columns=rename_dict, inplace = True)"
   ]
  },
  {
   "cell_type": "markdown",
   "metadata": {},
   "source": [
    "Make sure that the County shapefile is clean:"
   ]
  },
  {
   "cell_type": "code",
   "execution_count": 23,
   "metadata": {},
   "outputs": [
    {
     "name": "stderr",
     "output_type": "stream",
     "text": [
      "100%|██████████████████████████████████████████| 67/67 [00:00<00:00, 274.90it/s]\n"
     ]
    },
    {
     "data": {
      "text/plain": [
       "True"
      ]
     },
     "execution_count": 23,
     "metadata": {},
     "output_type": "execute_result"
    }
   ],
   "source": [
    "maup.doctor(county_df)"
   ]
  },
  {
   "cell_type": "markdown",
   "metadata": {},
   "source": [
    "## Read the vest 20 data\n",
    "\n",
    "Now using it as a \"base pricinct\""
   ]
  },
  {
   "cell_type": "markdown",
   "metadata": {},
   "source": [
    "## Check if vest20 can be used as base"
   ]
  },
  {
   "cell_type": "code",
   "execution_count": 26,
   "metadata": {},
   "outputs": [],
   "source": [
    "vest20 = gpd.read_file(vest20_data)"
   ]
  },
  {
   "cell_type": "code",
   "execution_count": 27,
   "metadata": {},
   "outputs": [
    {
     "data": {
      "text/plain": [
       "Index(['COUNTY', 'PRECINCT', 'PCT_STD', 'G20PRERTRU', 'G20PREDBID',\n",
       "       'G20PRELJOR', 'G20PREODEL', 'G20PRESLAR', 'G20PREGHAW', 'G20PRECBLA',\n",
       "       'G20PREOWRI', 'geometry'],\n",
       "      dtype='object')"
      ]
     },
     "execution_count": 27,
     "metadata": {},
     "output_type": "execute_result"
    }
   ],
   "source": [
    "vest20.columns"
   ]
  },
  {
   "cell_type": "code",
   "execution_count": 28,
   "metadata": {},
   "outputs": [],
   "source": [
    "start_col = 3\n",
    "vest_base_data = vest20\n",
    "year = '20'"
   ]
  },
  {
   "cell_type": "code",
   "execution_count": 29,
   "metadata": {},
   "outputs": [
    {
     "name": "stderr",
     "output_type": "stream",
     "text": [
      "100%|██████████████████████████████████████████| 67/67 [00:00<00:00, 279.71it/s]\n"
     ]
    },
    {
     "name": "stdout",
     "output_type": "stream",
     "text": [
      "Snapping all geometries to a grid with precision 10^( -3 ) to avoid GEOS errors.\n"
     ]
    },
    {
     "name": "stderr",
     "output_type": "stream",
     "text": [
      "100%|██████████████████████████████████████████| 67/67 [00:00<00:00, 221.80it/s]\n",
      "100%|███████████████████████████████████████████| 67/67 [00:00<00:00, 89.60it/s]\n"
     ]
    },
    {
     "name": "stdout",
     "output_type": "stream",
     "text": [
      "Identifying overlaps...\n"
     ]
    },
    {
     "name": "stderr",
     "output_type": "stream",
     "text": [
      "100%|███████████████████████████████████| 36936/36936 [00:32<00:00, 1150.82it/s]\n"
     ]
    },
    {
     "name": "stdout",
     "output_type": "stream",
     "text": [
      "Resolving overlaps and filling gaps...\n"
     ]
    },
    {
     "name": "stderr",
     "output_type": "stream",
     "text": [
      "100%|██████████████████████████████████████████| 67/67 [00:00<00:00, 249.84it/s]\n",
      "100%|███████████████████████████████████████████| 67/67 [00:00<00:00, 89.48it/s]\n",
      "Gaps to simplify in region 0: 100%|████████████| 41/41 [00:00<00:00, 133.45it/s]\n",
      "Gaps to fill: 0it [00:00, ?it/s]\n"
     ]
    },
    {
     "name": "stdout",
     "output_type": "stream",
     "text": [
      "1 gaps in region 1 will remain unfilled, because they either are not simply connected or exceed the area threshold.\n"
     ]
    },
    {
     "name": "stderr",
     "output_type": "stream",
     "text": [
      "Gaps to simplify in region 1: 100%|████████████| 86/86 [00:00<00:00, 111.84it/s]\n",
      "Gaps to fill in region 1: 100%|███████████████████| 2/2 [00:00<00:00, 47.43it/s]\n"
     ]
    },
    {
     "name": "stdout",
     "output_type": "stream",
     "text": [
      "1 gaps in region 2 will remain unfilled, because they either are not simply connected or exceed the area threshold.\n"
     ]
    },
    {
     "name": "stderr",
     "output_type": "stream",
     "text": [
      "Gaps to simplify in region 2: 100%|██████████████| 9/9 [00:00<00:00, 184.54it/s]\n",
      "Gaps to fill: 0it [00:00, ?it/s]\n",
      "Gaps to simplify in region 3: 100%|███████████| 177/177 [00:04<00:00, 37.41it/s]\n",
      "Gaps to fill in region 3: 100%|█████████████████| 15/15 [00:00<00:00, 38.03it/s]\n",
      "Gaps to simplify: 0it [00:00, ?it/s]\n",
      "Gaps to fill: 0it [00:00, ?it/s]\n",
      "Gaps to simplify: 0it [00:00, ?it/s]\n",
      "Gaps to fill: 0it [00:00, ?it/s]\n",
      "Gaps to simplify: 0it [00:00, ?it/s]\n",
      "Gaps to fill: 0it [00:00, ?it/s]\n"
     ]
    },
    {
     "name": "stdout",
     "output_type": "stream",
     "text": [
      "1 gaps in region 7 will remain unfilled, because they either are not simply connected or exceed the area threshold.\n"
     ]
    },
    {
     "name": "stderr",
     "output_type": "stream",
     "text": [
      "Gaps to simplify in region 7: 100%|███████████| 119/119 [00:01<00:00, 88.38it/s]\n",
      "Gaps to fill in region 7: 100%|███████████████████| 2/2 [00:00<00:00, 60.37it/s]\n",
      "Gaps to simplify in region 8: 100%|███████████| 966/966 [00:15<00:00, 64.27it/s]\n",
      "Gaps to fill in region 8: 100%|█████████████████| 11/11 [00:00<00:00, 45.36it/s]\n"
     ]
    },
    {
     "name": "stdout",
     "output_type": "stream",
     "text": [
      "1 gaps in region 9 will remain unfilled, because they either are not simply connected or exceed the area threshold.\n"
     ]
    },
    {
     "name": "stderr",
     "output_type": "stream",
     "text": [
      "Gaps to simplify in region 9: 100%|█████████████| 88/88 [00:01<00:00, 76.86it/s]\n",
      "Gaps to fill in region 9: 100%|███████████████████| 6/6 [00:00<00:00, 15.10it/s]\n"
     ]
    },
    {
     "name": "stdout",
     "output_type": "stream",
     "text": [
      "1 gaps in region 10 will remain unfilled, because they either are not simply connected or exceed the area threshold.\n"
     ]
    },
    {
     "name": "stderr",
     "output_type": "stream",
     "text": [
      "Gaps to simplify in region 10: 100%|██████████| 141/141 [00:06<00:00, 22.12it/s]\n",
      "Gaps to fill in region 10: 100%|██████████████████| 5/5 [00:01<00:00,  2.79it/s]\n",
      "Gaps to simplify in region 11: 100%|██████████| 180/180 [00:02<00:00, 64.43it/s]\n",
      "Gaps to fill in region 11: 100%|██████████████████| 3/3 [00:00<00:00, 30.64it/s]\n",
      "Gaps to simplify in region 12: 100%|█████████████| 2/2 [00:00<00:00, 107.70it/s]\n",
      "Gaps to fill: 0it [00:00, ?it/s]\n"
     ]
    },
    {
     "name": "stdout",
     "output_type": "stream",
     "text": [
      "1 gaps in region 13 will remain unfilled, because they either are not simply connected or exceed the area threshold.\n"
     ]
    },
    {
     "name": "stderr",
     "output_type": "stream",
     "text": [
      "Gaps to simplify in region 13: 100%|████████████| 39/39 [00:00<00:00, 97.31it/s]\n",
      "Gaps to fill in region 13: 100%|██████████████████| 1/1 [00:00<00:00, 46.61it/s]\n",
      "Gaps to simplify: 0it [00:00, ?it/s]\n",
      "Gaps to fill: 0it [00:00, ?it/s]\n"
     ]
    },
    {
     "name": "stdout",
     "output_type": "stream",
     "text": [
      "2 gaps in region 15 will remain unfilled, because they either are not simply connected or exceed the area threshold.\n"
     ]
    },
    {
     "name": "stderr",
     "output_type": "stream",
     "text": [
      "Gaps to simplify in region 15: 100%|████████████| 60/60 [00:00<00:00, 84.17it/s]\n",
      "Gaps to fill in region 15: 100%|██████████████████| 3/3 [00:00<00:00, 32.19it/s]\n",
      "Gaps to simplify in region 16: 100%|█████████| 227/227 [00:02<00:00, 109.30it/s]\n",
      "Gaps to fill in region 16: 100%|██████████████████| 1/1 [00:00<00:00, 32.59it/s]\n"
     ]
    },
    {
     "name": "stdout",
     "output_type": "stream",
     "text": [
      "1 gaps in region 17 will remain unfilled, because they either are not simply connected or exceed the area threshold.\n"
     ]
    },
    {
     "name": "stderr",
     "output_type": "stream",
     "text": [
      "Gaps to simplify in region 17: 100%|██████████| 246/246 [00:10<00:00, 23.87it/s]\n",
      "Gaps to fill in region 17: 100%|██████████████████| 5/5 [00:00<00:00, 17.67it/s]\n",
      "Gaps to simplify in region 18: 100%|██████████| 300/300 [00:03<00:00, 81.54it/s]\n",
      "Gaps to fill in region 18: 100%|████████████████| 12/12 [00:00<00:00, 46.54it/s]\n",
      "Gaps to simplify in region 19: 100%|█████████| 116/116 [00:01<00:00, 106.77it/s]\n",
      "Gaps to fill in region 19: 100%|██████████████████| 8/8 [00:00<00:00, 32.78it/s]\n",
      "Gaps to simplify in region 20: 100%|██████████| 165/165 [00:02<00:00, 58.11it/s]\n",
      "Gaps to fill in region 20: 100%|████████████████| 11/11 [00:00<00:00, 60.17it/s]\n"
     ]
    },
    {
     "name": "stdout",
     "output_type": "stream",
     "text": [
      "1 gaps in region 21 will remain unfilled, because they either are not simply connected or exceed the area threshold.\n"
     ]
    },
    {
     "name": "stderr",
     "output_type": "stream",
     "text": [
      "Gaps to simplify in region 21: 758it [00:53, 14.25it/s]                         \n",
      "Gaps to fill in region 21: 100%|████████████████| 80/80 [00:03<00:00, 25.03it/s]\n",
      "Gaps to simplify in region 22: 100%|██████████| 358/358 [03:49<00:00,  1.56it/s]\n",
      "Gaps to fill in region 22: 100%|████████████████| 33/33 [00:00<00:00, 38.94it/s]\n",
      "Gaps to simplify in region 23: 100%|██████████████| 1/1 [00:00<00:00, 78.89it/s]\n",
      "Gaps to fill in region 23: 100%|██████████████████| 1/1 [00:00<00:00, 82.47it/s]\n",
      "Gaps to simplify in region 24: 100%|██████████| 687/687 [00:12<00:00, 56.41it/s]\n",
      "Gaps to fill in region 24: 100%|██████████████████| 7/7 [00:00<00:00, 37.19it/s]\n",
      "Gaps to simplify in region 25: 100%|████████████| 28/28 [00:00<00:00, 35.55it/s]\n",
      "Gaps to fill in region 25: 100%|██████████████████| 8/8 [00:00<00:00, 40.93it/s]\n"
     ]
    },
    {
     "name": "stdout",
     "output_type": "stream",
     "text": [
      "1 gaps in region 26 will remain unfilled, because they either are not simply connected or exceed the area threshold.\n"
     ]
    },
    {
     "name": "stderr",
     "output_type": "stream",
     "text": [
      "Gaps to simplify in region 26: 100%|████████| 1514/1514 [00:56<00:00, 26.74it/s]\n",
      "Gaps to fill in region 26: 100%|██████████████████| 6/6 [00:00<00:00, 32.12it/s]\n",
      "Gaps to simplify: 0it [00:00, ?it/s]\n",
      "Gaps to fill: 0it [00:00, ?it/s]\n"
     ]
    },
    {
     "name": "stdout",
     "output_type": "stream",
     "text": [
      "1 gaps in region 28 will remain unfilled, because they either are not simply connected or exceed the area threshold.\n"
     ]
    },
    {
     "name": "stderr",
     "output_type": "stream",
     "text": [
      "Gaps to simplify in region 28: 100%|██████████| 297/297 [00:59<00:00,  5.02it/s]\n",
      "Gaps to fill in region 28: 100%|████████████████| 38/38 [00:02<00:00, 16.38it/s]\n"
     ]
    },
    {
     "name": "stdout",
     "output_type": "stream",
     "text": [
      "1 gaps in region 29 will remain unfilled, because they either are not simply connected or exceed the area threshold.\n"
     ]
    },
    {
     "name": "stderr",
     "output_type": "stream",
     "text": [
      "Gaps to simplify in region 29: 100%|██████████| 166/166 [00:05<00:00, 29.46it/s]\n",
      "Gaps to fill in region 29: 100%|████████████████| 14/14 [00:00<00:00, 36.29it/s]\n",
      "Gaps to simplify: 0it [00:00, ?it/s]\n",
      "Gaps to fill: 0it [00:00, ?it/s]\n"
     ]
    },
    {
     "name": "stdout",
     "output_type": "stream",
     "text": [
      "1 gaps in region 31 will remain unfilled, because they either are not simply connected or exceed the area threshold.\n"
     ]
    },
    {
     "name": "stderr",
     "output_type": "stream",
     "text": [
      "Gaps to simplify in region 31: 100%|███████████| 23/23 [00:00<00:00, 150.89it/s]\n",
      "Gaps to fill: 0it [00:00, ?it/s]\n"
     ]
    },
    {
     "name": "stdout",
     "output_type": "stream",
     "text": [
      "1 gaps in region 32 will remain unfilled, because they either are not simply connected or exceed the area threshold.\n"
     ]
    },
    {
     "name": "stderr",
     "output_type": "stream",
     "text": [
      "Gaps to simplify in region 32: 100%|██████████| 669/669 [00:21<00:00, 31.36it/s]\n",
      "Gaps to fill in region 32: 100%|████████████████| 84/84 [00:01<00:00, 80.99it/s]\n"
     ]
    },
    {
     "name": "stdout",
     "output_type": "stream",
     "text": [
      "1 gaps in region 33 will remain unfilled, because they either are not simply connected or exceed the area threshold.\n"
     ]
    },
    {
     "name": "stderr",
     "output_type": "stream",
     "text": [
      "Gaps to simplify in region 33: 100%|███████████| 27/27 [00:00<00:00, 106.49it/s]\n",
      "Gaps to fill in region 33: 100%|██████████████████| 3/3 [00:00<00:00, 52.83it/s]\n",
      "Gaps to simplify in region 34: 100%|██████████| 558/558 [00:22<00:00, 25.02it/s]\n",
      "Gaps to fill in region 34: 100%|████████████████| 60/60 [00:01<00:00, 37.14it/s]\n"
     ]
    },
    {
     "name": "stdout",
     "output_type": "stream",
     "text": [
      "3 gaps in region 35 will remain unfilled, because they either are not simply connected or exceed the area threshold.\n"
     ]
    },
    {
     "name": "stderr",
     "output_type": "stream",
     "text": [
      "Gaps to simplify in region 35: 100%|██████████| 111/111 [00:10<00:00, 10.99it/s]\n",
      "Gaps to fill in region 35: 100%|████████████████| 60/60 [00:03<00:00, 17.49it/s]\n"
     ]
    },
    {
     "name": "stdout",
     "output_type": "stream",
     "text": [
      "1 gaps in region 36 will remain unfilled, because they either are not simply connected or exceed the area threshold.\n"
     ]
    },
    {
     "name": "stderr",
     "output_type": "stream",
     "text": [
      "Gaps to simplify in region 36: 100%|█████████████| 6/6 [00:00<00:00, 163.16it/s]\n",
      "Gaps to fill: 0it [00:00, ?it/s]\n"
     ]
    },
    {
     "name": "stdout",
     "output_type": "stream",
     "text": [
      "1 gaps in region 37 will remain unfilled, because they either are not simply connected or exceed the area threshold.\n"
     ]
    },
    {
     "name": "stderr",
     "output_type": "stream",
     "text": [
      "Gaps to simplify in region 37: 100%|██████████| 167/167 [00:07<00:00, 23.44it/s]\n",
      "Gaps to fill in region 37: 100%|████████████████| 12/12 [00:00<00:00, 22.74it/s]\n"
     ]
    },
    {
     "name": "stdout",
     "output_type": "stream",
     "text": [
      "1 gaps in region 38 will remain unfilled, because they either are not simply connected or exceed the area threshold.\n"
     ]
    },
    {
     "name": "stderr",
     "output_type": "stream",
     "text": [
      "Gaps to simplify: 0it [00:00, ?it/s]\n",
      "Gaps to fill: 0it [00:00, ?it/s]\n"
     ]
    },
    {
     "name": "stdout",
     "output_type": "stream",
     "text": [
      "1 gaps in region 39 will remain unfilled, because they either are not simply connected or exceed the area threshold.\n"
     ]
    },
    {
     "name": "stderr",
     "output_type": "stream",
     "text": [
      "Gaps to simplify: 0it [00:00, ?it/s]\n",
      "Gaps to fill: 0it [00:00, ?it/s]\n"
     ]
    },
    {
     "name": "stdout",
     "output_type": "stream",
     "text": [
      "1 gaps in region 40 will remain unfilled, because they either are not simply connected or exceed the area threshold.\n"
     ]
    },
    {
     "name": "stderr",
     "output_type": "stream",
     "text": [
      "Gaps to simplify in region 40: 100%|████████| 1226/1226 [01:57<00:00, 10.40it/s]\n",
      "Gaps to fill in region 40: 100%|████████████████| 78/78 [00:06<00:00, 11.97it/s]\n",
      "Gaps to simplify in region 41: 100%|████████████| 39/39 [00:01<00:00, 32.73it/s]\n",
      "Gaps to fill in region 41: 100%|██████████████████| 7/7 [00:00<00:00, 34.96it/s]\n",
      "Gaps to simplify in region 42: 100%|██████████| 244/244 [00:05<00:00, 46.93it/s]\n",
      "Gaps to fill in region 42: 100%|██████████████████| 8/8 [00:00<00:00, 29.54it/s]\n"
     ]
    },
    {
     "name": "stdout",
     "output_type": "stream",
     "text": [
      "1 gaps in region 43 will remain unfilled, because they either are not simply connected or exceed the area threshold.\n"
     ]
    },
    {
     "name": "stderr",
     "output_type": "stream",
     "text": [
      "Gaps to simplify in region 43: 100%|████████████| 57/57 [00:01<00:00, 46.96it/s]\n",
      "Gaps to fill in region 43: 100%|████████████████| 11/11 [00:00<00:00, 22.56it/s]\n",
      "Gaps to simplify in region 44: 100%|████████████| 46/46 [00:04<00:00,  9.90it/s]\n",
      "Gaps to fill in region 44: 100%|████████████████| 19/19 [00:06<00:00,  2.96it/s]\n",
      "Gaps to simplify: 0it [00:00, ?it/s]\n",
      "Gaps to fill: 0it [00:00, ?it/s]\n"
     ]
    },
    {
     "name": "stdout",
     "output_type": "stream",
     "text": [
      "1 gaps in region 46 will remain unfilled, because they either are not simply connected or exceed the area threshold.\n"
     ]
    },
    {
     "name": "stderr",
     "output_type": "stream",
     "text": [
      "Gaps to simplify in region 46: 100%|██████████| 198/198 [00:08<00:00, 23.83it/s]\n",
      "Gaps to fill in region 46: 100%|██████████████████| 6/6 [00:01<00:00,  3.06it/s]\n",
      "Gaps to simplify in region 47: 100%|██████████| 341/341 [00:11<00:00, 30.96it/s]\n",
      "Gaps to fill in region 47: 100%|██████████████████| 8/8 [00:00<00:00, 19.44it/s]\n"
     ]
    },
    {
     "name": "stdout",
     "output_type": "stream",
     "text": [
      "1 gaps in region 48 will remain unfilled, because they either are not simply connected or exceed the area threshold.\n"
     ]
    },
    {
     "name": "stderr",
     "output_type": "stream",
     "text": [
      "Gaps to simplify in region 48: 100%|███████████| 56/56 [00:00<00:00, 131.33it/s]\n",
      "Gaps to fill in region 48: 100%|██████████████████| 1/1 [00:00<00:00, 56.43it/s]\n",
      "Gaps to simplify: 0it [00:00, ?it/s]\n",
      "Gaps to fill: 0it [00:00, ?it/s]\n",
      "Gaps to simplify in region 50: 100%|█████████| 122/122 [00:01<00:00, 113.04it/s]\n",
      "Gaps to fill in region 50: 100%|██████████████████| 7/7 [00:00<00:00, 39.23it/s]\n",
      "Gaps to simplify in region 51: 100%|████████████| 35/35 [00:01<00:00, 30.56it/s]\n",
      "Gaps to fill in region 51: 100%|██████████████████| 8/8 [00:00<00:00, 24.91it/s]\n",
      "Gaps to simplify in region 52: 100%|████████████| 88/88 [00:01<00:00, 68.94it/s]\n",
      "Gaps to fill in region 52: 100%|██████████████████| 2/2 [00:00<00:00, 22.25it/s]\n"
     ]
    },
    {
     "name": "stdout",
     "output_type": "stream",
     "text": [
      "1 gaps in region 53 will remain unfilled, because they either are not simply connected or exceed the area threshold.\n"
     ]
    },
    {
     "name": "stderr",
     "output_type": "stream",
     "text": [
      "Gaps to simplify in region 53: 100%|███████████| 61/61 [00:00<00:00, 103.08it/s]\n",
      "Gaps to fill in region 53: 100%|██████████████████| 7/7 [00:00<00:00, 70.38it/s]\n",
      "Gaps to simplify in region 54: 100%|███████████| 43/43 [00:00<00:00, 107.67it/s]\n",
      "Gaps to fill: 0it [00:00, ?it/s]\n",
      "Gaps to simplify in region 55: 100%|██████████| 390/390 [00:28<00:00, 13.88it/s]\n",
      "Gaps to fill in region 55: 100%|████████████████| 41/41 [00:02<00:00, 19.41it/s]\n"
     ]
    },
    {
     "name": "stdout",
     "output_type": "stream",
     "text": [
      "3 gaps in region 56 will remain unfilled, because they either are not simply connected or exceed the area threshold.\n"
     ]
    },
    {
     "name": "stderr",
     "output_type": "stream",
     "text": [
      "Gaps to simplify in region 56: 100%|████████████| 16/16 [00:00<00:00, 89.08it/s]\n",
      "Gaps to fill: 0it [00:00, ?it/s]\n"
     ]
    },
    {
     "name": "stdout",
     "output_type": "stream",
     "text": [
      "1 gaps in region 57 will remain unfilled, because they either are not simply connected or exceed the area threshold.\n"
     ]
    },
    {
     "name": "stderr",
     "output_type": "stream",
     "text": [
      "Gaps to simplify in region 57: 100%|██████████████| 2/2 [00:00<00:00, 69.99it/s]\n",
      "Gaps to fill: 0it [00:00, ?it/s]\n"
     ]
    },
    {
     "name": "stdout",
     "output_type": "stream",
     "text": [
      "1 gaps in region 58 will remain unfilled, because they either are not simply connected or exceed the area threshold.\n"
     ]
    },
    {
     "name": "stderr",
     "output_type": "stream",
     "text": [
      "Gaps to simplify in region 58: 100%|████████████| 34/34 [00:03<00:00,  9.70it/s]\n",
      "Gaps to fill in region 58: 100%|████████████████| 13/13 [00:04<00:00,  2.67it/s]\n",
      "Gaps to simplify in region 59: 100%|█████████| 359/359 [00:03<00:00, 105.74it/s]\n",
      "Gaps to fill in region 59: 100%|██████████████████| 4/4 [00:00<00:00, 42.33it/s]\n",
      "Gaps to simplify: 0it [00:00, ?it/s]\n",
      "Gaps to fill: 0it [00:00, ?it/s]\n",
      "Gaps to simplify in region 61: 100%|██████████| 115/115 [00:01<00:00, 92.83it/s]\n",
      "Gaps to fill: 0it [00:00, ?it/s]\n"
     ]
    },
    {
     "name": "stdout",
     "output_type": "stream",
     "text": [
      "1 gaps in region 62 will remain unfilled, because they either are not simply connected or exceed the area threshold.\n"
     ]
    },
    {
     "name": "stderr",
     "output_type": "stream",
     "text": [
      "Gaps to simplify in region 62: 100%|█████████| 192/192 [00:01<00:00, 116.28it/s]\n",
      "Gaps to fill in region 62: 100%|████████████████| 13/13 [00:00<00:00, 45.37it/s]\n",
      "Gaps to simplify in region 63: 100%|██████████| 390/390 [00:07<00:00, 51.68it/s]\n",
      "Gaps to fill in region 63: 100%|██████████████████| 7/7 [00:00<00:00, 51.29it/s]\n"
     ]
    },
    {
     "name": "stdout",
     "output_type": "stream",
     "text": [
      "1 gaps in region 64 will remain unfilled, because they either are not simply connected or exceed the area threshold.\n"
     ]
    },
    {
     "name": "stderr",
     "output_type": "stream",
     "text": [
      "Gaps to simplify in region 64: 100%|███████████| 64/64 [00:00<00:00, 109.69it/s]\n",
      "Gaps to fill: 0it [00:00, ?it/s]\n"
     ]
    },
    {
     "name": "stdout",
     "output_type": "stream",
     "text": [
      "1 gaps in region 65 will remain unfilled, because they either are not simply connected or exceed the area threshold.\n"
     ]
    },
    {
     "name": "stderr",
     "output_type": "stream",
     "text": [
      "Gaps to simplify in region 65: 100%|████████████| 54/54 [00:01<00:00, 37.74it/s]\n",
      "Gaps to fill: 0it [00:00, ?it/s]\n",
      "Gaps to simplify: 0it [00:00, ?it/s]\n",
      "Gaps to fill: 0it [00:00, ?it/s]\n"
     ]
    }
   ],
   "source": [
    "vest_base = add_vest_base(vest_base_data, start_col, year, county = county_df)"
   ]
  },
  {
   "cell_type": "code",
   "execution_count": 30,
   "metadata": {},
   "outputs": [
    {
     "name": "stdout",
     "output_type": "stream",
     "text": [
      "[0.0, 0.0, 0.0, 0.0, 0.0, 0.0, 0.0, 0.0, 0.0, 0.0, 0.0, 0.0, 0.0, 0.0, 0.0, 0.0, 0.0, 0.0, 0.0, 0.0, 0.0, 0.0, 0.0, 0.0, 0.0, 0.0, 0.0, 0.0, 0.0, 0.0, 0.0, 0.0, 0.0, 0.0, 0.0, 0.0, 0.0, 0.0, 0.0, 0.0, 0.0, 0.0, 0.0, 0.0, 0.0, 0.0, 0.0, 0.0, 0.0, 0.0, 0.0, 0.0, 0.0, 0.0, 0.0, 0.0, 0.0, 0.0, 0.0, 0.0, 0.0, 0.0, 0.0, 0.0, 0.0, 0.0, 0.0, 0.0, 0.0, 0.0, 0.0, 0.0, 0.0, 0.0, 0.0, 0.0, 0.0, 0.0, 0.0, 0.0, 0.0, 0.0, 0.0, 0.0, 0.0, 0.0, 0.0, 0.0, 0.0, 0.0, 0.0, 0.0, 0.0, 0.0, 0.0, 0.0, 0.0, 0.0, 0.0, 0.0, 0.0, 0.0, 0.0, 0.0, 0.0, 0.0, 0.0, 0.0, 0.0, 0.0, 0.0, 0.0, 0.0, 0.0, 0.0, 0.0, 0.0, 0.0, 0.0, 0.0, 0.0, 0.0, 0.0, 0.0, 0.0, 0.0, 0.0, 0.0, 0.0, 0.0, 0.0, 0.0, 0.0, 0.0, 0.0, 0.0, 0.0, 0.0, 0.0, 0.0, 0.0, 0.0, 0.0, 0.0, 0.0, 0.0, 0.0, 0.0, 0.0, 0.0, 0.0, 0.0, 0.0, 0.0, 0.0, 0.0, 0.0, 0.0, 0.0, 0.0, 0.0, 0.0, 0.0, 0.0, 0.0, 0.0, 0.0, 0.0, 0.0, 0.0, 0.0, 0.0, 0.0, 0.0, 0.0, 0.0, 0.0, 0.0, 0.0, 0.0, 0.0, 0.0, 0.0, 0.0, 0.0, 0.0, 0.0, 0.0, 0.0, 0.0, 0.0, 0.0, 0.0, 0.0, 0.0, 0.0, 0.0, 0.0, 0.0, 0.0, 0.0, 0.0, 0.0, 0.0, 0.0, 0.0, 0.0, 0.0, 0.0, 0.0, 0.0, 0.0, 0.0, 0.0, 0.0, 0.0, 0.0, 0.0, 0.0, 0.0, 0.0, 0.0, 0.0, 0.0, 0.0, 0.0, 0.0, 0.0, 0.0, 0.0, 0.0, 0.0, 0.0, 0.0, 0.0, 0.0, 0.0, 0.0, 0.0, 0.0, 0.0, 0.0, 0.0, 0.0, 0.0, 0.0, 0.0, 0.0, 0.0, 0.0, 0.0, 0.0, 0.0, 0.0, 0.0, 0.0, 0.0, 0.0, 0.0, 0.0, 0.0, 0.0, 0.0, 0.0, 0.0, 0.0, 0.0, 0.0, 0.0, 0.0, 0.0, 0.0, 0.0, 0.0, 0.0, 0.0, 0.0, 0.0, 0.0, 0.0, 0.0, 0.0, 0.0, 0.0, 0.0, 0.0, 0.0, 0.0, 0.0, 0.0, 0.0, 0.0, 0.0, 0.0, 0.0, 0.0, 0.0, 0.0, 0.0, 0.0, 0.0, 0.0, 0.0, 0.0, 0.0, 0.0, 0.0, 0.0, 0.0, 0.0, 0.0, 0.0, 0.0, 0.0, 0.0, 0.0, 0.0, 0.0, 0.0, 0.0, 0.0, 0.0, 0.0, 0.0, 0.0, 0.0, 0.0, 0.0, 0.0, 0.0, 0.0, 0.0, 0.0, 0.0, 0.0, 0.0, 0.0, 0.0, 0.0, 0.0, 0.0, 0.0, 0.0, 0.0, 0.0, 0.0, 0.0, 0.0, 0.0, 0.0, 0.0, 0.0, 0.0, 0.0, 0.0, 0.0, 0.0, 0.0, 0.0, 0.0, 0.0, 0.0, 0.0, 0.0, 0.0, 0.0, 0.0, 0.0, 0.0, 0.0, 0.0, 0.0, 0.0, 0.0, 0.0, 0.0, 0.0, 0.0, 0.0, 0.0, 0.0, 0.0, 0.0, 0.0, 0.0, 0.0, 0.0, 0.0, 0.0, 0.0, 0.0, 0.0, 0.0, 0.0, 0.0, 0.0, 0.0, 0.0, 0.0, 0.0, 0.0, 0.0, 0.0, 0.0, 0.0, 0.0, 0.0, 0.0, 0.0, 0.0, 0.0, 0.0, 0.0, 0.0, 0.0, 0.0, 0.0, 0.0, 0.0, 0.0, 0.0, 0.0, 0.0, 0.0, 0.0, 0.0, 0.0, 0.0, 0.0, 0.0, 0.0, 0.0, 0.0, 0.0, 0.0, 0.0, 0.0, 0.0, 0.0, 0.0, 0.0, 0.0, 0.0, 0.0, 0.0, 0.0, 0.0, 0.0, 0.0, 0.0, 0.0, 0.0, 0.0, 0.0, 0.0, 0.0, 0.0, 0.0, 0.0, 0.0, 0.0, 0.0, 0.0, 0.0, 0.0, 0.0, 0.0, 0.0, 0.0, 0.0, 0.0, 0.0, 0.0, 0.0, 0.0, 0.0, 0.0, 0.0, 0.0, 0.0, 0.0, 0.0, 0.0, 0.0, 0.0, 0.0, 0.0, 0.0, 0.0, 0.0, 0.0, 0.0, 0.0, 0.0, 0.0, 0.0, 0.0, 0.0, 0.0, 0.0, 0.0, 0.0, 0.0, 0.0, 0.0, 0.0, 0.0, 0.0, 0.0, 0.0, 0.0, 0.0, 0.0, 0.0, 0.0, 0.0, 0.0, 0.0, 0.0, 0.0, 0.0, 0.0, 0.0, 0.0, 0.0, 0.0, 0.0, 0.0, 0.0, 0.0, 0.0, 0.0, 0.0, 0.0, 0.0, 0.0, 0.0, 0.0, 0.0, 0.0, 0.0, 0.0, 0.0, 0.0, 0.0, 0.0, 0.0, 0.0, 0.0, 0.0, 0.0, 0.0, 0.0, 0.0, 0.0, 0.0, 0.0, 0.0, 0.0, 0.0, 0.0, 0.0, 0.0, 0.0, 0.0, 0.0, 0.0, 0.0, 0.0, 0.0, 0.0, 0.0, 0.0, 0.0, 0.0, 0.0, 0.0, 0.0, 0.0, 0.0, 0.0, 0.0, 0.0, 0.0, 0.0, 0.0, 0.0, 0.0, 0.0, 0.0, 0.0, 0.0, 0.0, 0.0, 0.0, 0.0, 0.0, 0.0, 0.0, 0.0, 0.0, 0.0, 0.0, 0.0, 0.0, 0.0, 0.0, 0.0, 0.0, 0.0, 0.0, 0.0, 0.0, 0.0, 0.0, 0.0, 0.0, 0.0, 0.0, 0.0, 0.0, 0.0, 0.0, 0.0, 0.0, 0.0, 0.0, 0.0, 0.0, 0.0, 0.0, 0.0, 0.0, 0.0, 0.0, 0.0, 0.0, 0.0, 0.0, 0.0, 0.0, 0.0, 0.0, 0.0, 0.0, 0.0, 0.0, 0.0, 0.0, 0.0, 0.0, 0.0, 0.0, 0.0, 0.0, 0.0, 0.0, 0.0, 0.0, 0.0, 0.0, 0.0, 0.0, 0.0, 0.0, 0.0, 0.0, 0.0, 0.0, 0.0, 0.0, 0.0, 0.0, 0.0, 0.0, 0.0, 0.0, 0.0, 0.0, 0.0, 0.0, 0.0, 0.0, 0.0, 0.0, 0.0, 0.0, 0.0, 0.0, 0.0, 0.0, 0.0, 0.0, 0.0, 0.0, 0.0, 0.0, 0.0, 0.0, 0.0, 0.0, 0.0, 0.0, 0.0, 0.0, 0.0, 0.0, 0.0, 0.0, 0.0, 0.0, 0.0, 0.0, 0.0, 0.0, 0.0, 0.0, 0.0, 0.0, 0.0, 0.0, 0.0, 0.0, 0.0, 0.0, 0.0, 0.0, 0.0, 0.0, 0.0, 0.0, 0.0, 0.0, 0.0, 0.0, 0.0, 0.0, 0.0, 0.0, 0.0, 0.0, 0.0, 0.0, 0.0, 0.0, 0.0, 0.0, 0.0, 0.0, 0.0, 0.0, 0.0, 0.0, 0.0, 0.0, 0.0, 0.0, 0.0, 0.0, 0.0, 0.0, 0.0, 0.0, 0.0, 0.0, 0.0, 0.0, 0.0, 0.0, 0.0, 0.0, 0.0, 0.0, 0.0, 0.0, 0.0, 0.0, 0.0, 0.0, 0.0, 0.0, 0.0, 0.0, 0.0, 0.0, 0.0, 0.0, 0.0, 0.0, 0.0, 0.0, 0.0, 0.0, 0.0, 0.0, 0.0, 0.0, 0.0, 0.0, 0.0, 0.0, 0.0, 0.0, 0.0, 0.0, 0.0, 0.0, 0.0, 0.0, 0.0, 0.0, 0.0, 0.0, 0.0, 0.0, 0.0, 0.0, 0.0, 0.0, 0.0, 0.0, 0.0, 0.0, 0.0, 0.0, 0.0, 0.0, 0.0, 0.0, 0.0, 0.0, 0.0, 0.0, 0.0, 0.0, 0.0, 0.0, 0.0, 0.0, 0.0, 0.0, 0.0, 0.0, 0.0, 0.0, 0.0, 0.0, 0.0, 0.0, 0.0, 0.0, 0.0, 0.0, 0.0, 0.0, 0.0, 0.0, 0.0, 0.0, 0.0, 0.0, 0.0, 0.0, 0.0, 0.0, 0.0, 0.0, 0.0, 0.0, 0.0, 0.0, 0.0, 0.0, 0.0, 0.0, 0.0, 0.0, 0.0, 0.0, 0.0, 0.0, 0.0, 0.0, 0.0, 0.0, 0.0, 0.0, 0.0, 0.0, 0.0, 0.0, 0.0, 0.0, 0.0, 0.0, 0.0, 0.0, 0.0, 0.0, 0.0, 0.0, 0.0, 0.0, 0.0, 0.0, 0.0, 0.0, 0.0, 0.0, 0.0, 0.0, 0.0, 0.0, 0.0, 0.0, 0.0, 0.0025405113938274603, 0.0025405113938274603, 0.004098385515294197, 0.004098385515294197, 0.004123105369696865, 0.004123105369696865, 0.005000000004656613, 0.005000000004656613, 0.006000000052154064, 0.006000000052154064, 0.0070710675714967305, 0.0070710675714967305, 0.008000000030733645, 0.008000000030733645, 0.010999999940395355, 0.010999999940395355, 0.011069799155821266, 0.011069799155821266, 0.012929780237630684, 0.012929780237630684, 0.016861507311846092, 0.016861507311846092, 0.02052874326559239, 0.02052874326559239, 0.02308679283416522, 0.02308679283416522, 0.02716542404614784, 0.02716542404614784, 0.030067791199032246, 0.030067791199032246, 0.030463092509913706, 0.030463092509913706, 0.031016124799116133, 0.031016124799116133, 0.036999999545514584, 0.036999999545514584, 0.038264107063653026, 0.038264107063653026, 0.0400108284531409, 0.0400108284531409, 0.04801041549162705, 0.04801041549162705, 0.05063931495694741, 0.05063931495694741, 0.05385164774967243, 0.05385164774967243, 0.05549292242819282, 0.05549292242819282, 0.05704079936513874, 0.05704079936513874, 0.05776882090159974, 0.05776882090159974, 0.059077920475929205, 0.059077920475929205, 0.06700746254362856, 0.06700746254362856, 0.07702596969748586, 0.07702596969748586, 0.079158343850712, 0.079158343850712, 0.08022468444263478, 0.08022468444263478, 0.09120649568322214, 0.09120649568322214, 0.09891458437352406, 0.09891458437352406, 0.10904127652754526, 0.10904127652754526, 0.1101635147040122, 0.1101635147040122, 0.14600342433378238, 0.14600342433378238, 0.17123667829110473, 0.17123667829110473, 0.17210461936762214, 0.17210461936762214, 0.17220046467511296, 0.17220046467511296, 0.20000000018626451, 0.20000000018626451, 0.2081946205864963, 0.2081946205864963, 0.23441842947869793, 0.23441842947869793, 0.2599999997764826, 0.2599999997764826, 0.2671872002938469, 0.2671872002938469, 0.2873386547534007, 0.2873386547534007, 0.28944918077733084, 0.28944918077733084, 0.2990066888865393, 0.2990066888865393, 0.31204235083129983, 0.31204235083129983, 0.31214018501965873, 0.31214018501965873, 0.32230420428877743, 0.32230420428877743, 0.32661525117089774, 0.32661525117089774, 0.3350731262385995, 0.3350731262385995, 0.3911840998296506, 0.3911840998296506, 0.39203188644935655, 0.39203188644935655, 0.39999999990686774, 0.39999999990686774, 0.4040420733921876, 0.4040420733921876, 0.4099999996833503, 0.4099999996833503, 0.4183037174128417, 0.4183037174128417, 0.43200115731962363, 0.43200115731962363, 0.6040736610493812, 0.6040736610493812, 0.6106422847946265, 0.6106422847946265, 0.7313015790591383, 0.7313015790591383, 0.7430000000167638, 0.7430000000167638, 0.8652311829705591, 0.8652311829705591, 0.8728444032458816, 0.8728444032458816, 0.9759758368788066, 0.9759758368788066, 1.0269785781827254, 1.0269785781827254, 1.1018956850950772, 1.1018956850950772, 1.1777162005460489, 1.1777162005460489, 1.2676501426173294, 1.2676501426173294, 1.275963589920174, 1.275963589920174, 1.387130130984051, 1.387130130984051, 1.440028441051964, 1.440028441051964, 1.4489561758493141, 1.4489561758493141, 1.4789597695355432, 1.4789597695355432, 1.5180052701223987, 1.5180052701223987, 1.531849208050862, 1.531849208050862, 1.5521162973302962, 1.5521162973302962, 1.6398088303590137, 1.6398088303590137, 1.667152376227344, 1.667152376227344, 1.6839585029995947, 1.6839585029995947, 1.7394070828945623, 1.7394070828945623, 1.8039966668464849, 1.8039966668464849, 1.8831659511786227, 1.8831659511786227, 1.9799457060643402, 1.9799457060643402, 1.9916887307079176, 1.9916887307079176, 2.0794573407281387, 2.0794573407281387, 2.0884841404535184, 2.0884841404535184, 2.127790638058432, 2.127790638058432, 2.2066562940552092, 2.2066562940552092, 2.211065354177879, 2.211065354177879, 2.2639867491348804, 2.2639867491348804, 2.328659841116501, 2.328659841116501, 2.5607775514633024, 2.5607775514633024, 2.715542303240514, 2.715542303240514, 2.734848624595077, 2.734848624595077, 2.902998449801713, 2.902998449801713, 2.917548192834777, 2.917548192834777, 2.9654910664264764, 2.9654910664264764, 2.9910809082222936, 2.9910809082222936, 3.012010126090911, 3.012010126090911, 3.1832166122002588, 3.1832166122002588, 3.277406291518097, 3.277406291518097, 3.4991699569121417, 3.4991699569121417, 3.5163920359872254, 3.516392035987226, 3.640314959061961, 3.640314959061961, 3.67361103004195, 3.67361103004195, 3.7046188736244106, 3.7046188736244106, 3.8019099709751067, 3.8019099709751067, 4.019410510648265, 4.019410510648265, 4.037915922858223, 4.037915922858223, 4.05569934813694, 4.05569934813694, 4.418522362669344, 4.418522362669344, 4.435182972582466, 4.435182972582466, 4.450954616953922, 4.450954616953922, 4.514187464544905, 4.514187464544905, 4.51427764154018, 4.51427764154018, 4.69108963887144, 4.69108963887144, 4.764443409222199, 4.764443409222199, 4.9802868391485955, 4.9802868391485955, 5.214229629159779, 5.214229629159779, 5.4178384066995084, 5.4178384066995084, 5.674480769268564, 5.674480769268564, 5.711856178068598, 5.711856178068598, 5.885777415952951, 5.885777415952951, 6.127023176085764, 6.127023176085764, 6.249658070439053, 6.249658070439053, 6.442342592909941, 6.442342592909941, 6.558537595126706, 6.558537595126706, 6.6575882268978805, 6.6575882268978805, 6.747428028489689, 6.747428028489689, 6.781415928834837, 6.781415928834837, 6.871094721647477, 6.871094721647477, 6.980611792956173, 6.980611792956173, 6.9816878333271335, 6.9816878333271335, 6.9875397954508935, 6.9875397954508935, 7.0926040352149995, 7.0926040352149995, 7.182816508700311, 7.182816508700311, 7.2106643979022795, 7.2106643979022795, 7.281537818400607, 7.281537818400607, 7.4525361958472605, 7.4525361958472605, 7.480112298651032, 7.480112298651032, 7.661373766982083, 7.661373766982083, 7.67580383192856, 7.67580383192856, 7.678637899911488, 7.678637899911488, 7.6940023743190515, 7.6940023743190515, 7.722532356650064, 7.722532356650064, 7.7422328146299355, 7.7422328146299355, 7.8161316519032775, 7.8161316519032775, 8.050497632714652, 8.050497632714652, 8.19428840559053, 8.19428840559053, 8.260617470874179, 8.260617470874179, 8.427419299131422, 8.427419299131422, 8.43599999975413, 8.43599999975413, 8.453692346967836, 8.453692346967836, 8.532049519573924, 8.532049519573924, 8.578074026290688, 8.578074026290688, 8.625594720420617, 8.625594720420617, 8.807188684093989, 8.807188684093989, 8.991767307936524, 8.991767307936524, 9.011839434909023, 9.011839434909023, 9.088435783834218, 9.088435783834218, 9.359156586026828, 9.359156586026828, 9.397149461402138, 9.397149461402138, 9.590400408830561, 9.590400408830561, 9.612921853855472, 9.612921853855472, 9.627564849818103, 9.627564849818103, 9.719485428818219, 9.719485428818219, 9.772686478316409, 9.772686478316409, 9.77442347877002, 9.77442347877002, 9.861181061013493, 9.861181061013495, 10.11378643246453, 10.11378643246453, 10.373344171590492, 10.373344171590492, 10.404647089145042, 10.404647089145042, 10.416573333068085, 10.416573333068085, 10.46184653879066, 10.46184653879066, 10.492405107169562, 10.492405107169562, 10.563177627439792, 10.563177627439792, 10.571949157963953, 10.571949157963953, 10.635560182670798, 10.635560182670798, 10.637379846801558, 10.637379846801558, 10.924795879034368, 10.924795879034368, 10.979543328701428, 10.979543328701428, 10.985692492601984, 10.985692492601984, 11.04334270053086, 11.04334270053086, 11.14699999988079, 11.14699999988079, 11.412120749599497, 11.412120749599497, 11.429665699106403, 11.429665699106403, 11.541131876806377, 11.541131876806377, 11.624130118003128, 11.624130118003128, 11.646227535200403, 11.646227535200403, 11.745472744634158, 11.745472744634158, 11.907212077334961, 11.907212077334961, 12.035979603016742, 12.035979603016742, 12.040837602859572, 12.040837602859572, 12.151580802536117, 12.151580802536117, 12.187835862335046, 12.187835862335046, 12.368196028490443, 12.368196028490443, 12.41812324777548, 12.41812324777548, 12.555204976445546, 12.555204976445546, 12.591461107424344, 12.591461107424344, 12.778014125766903, 12.778014125766903, 12.807689096772634, 12.807689096772634, 12.973754468309718, 12.973754468309718, 13.20541135273172, 13.20541135273172, 13.216275791858362, 13.216275791858362, 13.318590993171464, 13.318590993171464, 13.322666137101095, 13.322666137101095, 13.42726904488754, 13.42726904488754, 13.49532104106338, 13.49532104106338, 13.564905897071927, 13.564905897071927, 13.582820804450183, 13.582820804450183, 13.669504684035255, 13.669504684035255, 13.724107168782302, 13.724107168782302, 13.754294456597718, 13.754294456597718, 13.977401430465981, 13.977401430465981, 13.982096703139135, 13.982096703139135, 14.343048847906877, 14.343048847906877, 14.364300365794266, 14.364300365794266, 14.39687041632144, 14.39687041632144, 14.80794168664347, 14.80794168664347, 14.809527001112073, 14.809527001112073, 14.91875621824988, 14.91875621824988, 14.937054863284295, 14.937054863284295, 14.950653898760601, 14.950653898760601, 15.044948449865705, 15.044948449865705, 15.159361757375022, 15.159361757375022, 15.404017170951978, 15.404017170951978, 15.67312004643444, 15.67312004643444, 15.897334745239544, 15.897334745239544, 15.901161341332974, 15.901161341332974, 16.099335918028675, 16.099335918028675, 16.169022295899456, 16.169022295899456, 16.178439995435316, 16.178439995435316, 16.33184462943408, 16.33184462943408, 16.515179502170852, 16.515179502170852, 16.568113638370047, 16.568113638370047, 16.85490032600804, 16.85490032600804, 16.970755374768604, 16.970755374768604, 16.971011784824867, 16.971011784824867, 16.99494112338167, 16.99494112338167, 17.09625842108958, 17.09625842108958, 17.156022062174053, 17.156022062174053, 17.294362838943766, 17.294362838943766, 17.372513545852993, 17.372513545852993, 17.37530215569209, 17.37530215569209, 17.466558942855528, 17.466558942855528, 17.537274731085454, 17.537274731085454, 17.598876242586623, 17.598876242586623, 17.658179756661724, 17.658179756661724, 17.821417928957306, 17.821417928957306, 17.91187656275757, 17.91187656275757, 18.189517860458647, 18.189517860458647, 18.218327290659325, 18.218327290659325, 18.28931825316069, 18.28931825316069, 18.397870800742307, 18.397870800742307, 18.406622205085206, 18.406622205085206, 18.470653182805506, 18.470653182805506, 18.560461540296323, 18.560461540296323, 18.804128344084837, 18.804128344084837, 18.86280871726833, 18.86280871726833, 18.92411086415439, 18.92411086415439, 18.993564489042026, 18.993564489042026, 19.06105890970914, 19.06105890970914, 19.12021364948402, 19.12021364948402, 19.240555823751613, 19.240555823751613, 19.34297846764761, 19.34297846764761, 19.50464808693174, 19.50464808693174, 19.508880904160986, 19.50888090416099, 19.56338040833016, 19.56338040833016, 19.72525662685246, 19.72525662685246, 19.754370171824466, 19.754370171824466, 19.804868728781134, 19.804868728781134, 19.80978748007291, 19.80978748007291, 19.840568666328622, 19.840568666328622, 20.039575644154944, 20.039575644154944, 20.099961840673604, 20.099961840673604, 20.288064101831317, 20.288064101831317, 20.311298973821714, 20.311298973821714, 20.412467900937287, 20.412467900937287, 20.413327658069342, 20.413327658069342, 20.44033861993712, 20.44033861993712, 20.472075126765457, 20.472075126765457, 20.585429530478063, 20.585429530478063, 20.585898571679067, 20.585898571679067, 20.92475672884627, 20.92475672884627, 21.014415671804294, 21.014415671804294, 21.053324321614035, 21.053324321614035, 21.272074915664714, 21.272074915664714, 21.319302826299623, 21.319302826299623, 21.330785599891144, 21.330785599891144, 21.349728733663138, 21.349728733663138, 21.385999999940395, 21.385999999940395, 21.396174798326992, 21.396174798326992, 21.554327871656476, 21.554327871656476, 21.61965346621056, 21.61965346621056, 21.82400742304165, 21.82400742304165, 21.924114212806384, 21.924114212806384, 22.333656955665496, 22.333656955665496, 22.40021493193207, 22.40021493193207, 22.422928979077682, 22.422928979077682, 22.503012798093664, 22.503012798093664, 22.52088073327, 22.52088073327, 22.59606452497132, 22.59606452497132, 22.62904206990802, 22.62904206990802, 22.664875137421742, 22.664875137421742, 22.668741098271944, 22.668741098271944, 22.67447800911093, 22.67447800911093, 22.706331561943024, 22.706331561943024, 22.858034320560023, 22.858034320560023, 22.8596217250389, 22.8596217250389, 22.940192644217383, 22.940192644217383, 22.978015688929915, 22.978015688929915, 23.12509452947146, 23.12509452947146, 23.360999785983473, 23.360999785983473, 23.39402182176469, 23.39402182176469, 23.563296944546785, 23.563296944546785, 23.623334438900383, 23.623334438900383, 23.872344787347043, 23.872344787347043, 23.914477836342662, 23.914477836342662, 23.92788654405848, 23.92788654405848, 24.127519962010854, 24.127519962010854, 24.283127530469518, 24.283127530469518, 24.394885716483877, 24.394885716483877, 24.39974725574169, 24.39974725574169, 24.637103806796194, 24.637103806796194, 24.690122502080843, 24.690122502080843, 24.81515917710709, 24.81515917710709, 24.87056648425147, 24.87056648425147, 24.951853878961813, 24.951853878961813, 25.063044348515305, 25.063044348515305, 25.201311572981353, 25.201311572981353, 25.255652139696277, 25.255652139696277, 25.585066846855796, 25.585066846855796, 25.707497302690896, 25.707497302690896, 25.78352778422824, 25.78352778422824, 25.94343363933205, 25.94343363933205, 26.14353551072562, 26.14353551072562, 26.337186505019687, 26.337186505019687, 26.362051285972385, 26.362051285972385, 26.36793131848882, 26.36793131848882, 26.460402370580397, 26.460402370580397, 26.60329095334897, 26.60329095334897, 26.982410307488777, 26.982410307488777, 27.02857084854281, 27.02857084854281, 27.14121537440687, 27.14121537440687, 27.30003206861347, 27.30003206861347, 27.506167472004044, 27.506167472004044, 27.58352640622266, 27.58352640622266, 27.713445635610068, 27.713445635610068, 27.81735553576532, 27.81735553576532, 27.915599832390324, 27.915599832390324, 27.998596572004608, 27.998596572004608, 28.086864310635985, 28.086864310635985, 28.116942169757994, 28.116942169757994, 28.267265343621325, 28.267265343621325, 28.30209266109372, 28.30209266109372, 28.309420198676126, 28.309420198676126, 28.76747731174962, 28.76747731174962, 28.805034716131438, 28.805034716131438, 29.198243411226624, 29.198243411226628, 29.254447952215035, 29.254447952215035, 29.29875260150111, 29.29875260150111, 29.689749510523615, 29.689749510523615, 29.983548385437334, 29.983548385437334, 30.09309987354795, 30.09309987354795, 30.113566923850623, 30.113566923850627, 30.284796015429357, 30.284796015429357, 30.284883787089306, 30.284883787089306, 30.41462452491697, 30.41462452491697, 30.49830323154502, 30.49830323154502, 30.736898445519312, 30.736898445519312, 31.004439580849137, 31.004439580849137, 31.184363084703385, 31.184363084703385, 31.21783722478316, 31.21783722478316, 31.23040789045438, 31.23040789045438, 31.502775857148748, 31.502775857148748, 31.674371288523844, 31.674371288523844, 31.678810107099913, 31.678810107099913, 31.683638174922457, 31.683638174922457, 32.00670832806226, 32.00670832806226, 32.06323160564239, 32.06323160564239, 32.13467586552914, 32.13467586552914, 32.22062485413676, 32.22062485413676, 32.826751164018745, 32.826751164018745, 32.86679327231025, 32.86679327231025, 33.00065456945551, 33.00065456945551, 33.01531179603593, 33.01531179603593, 33.0675774134973, 33.0675774134973, 33.61134312885121, 33.61134312885121, 33.799565352370635, 33.799565352370635, 33.879000000073574, 33.879000000073574, 33.88592430488591, 33.88592430488591, 34.128385736645804, 34.128385736645804, 34.19793012729173, 34.19793012729173, 34.33153834299744, 34.33153834299744, 34.35228254434279, 34.35228254434279, 34.36032001939856, 34.36032001939856, 34.366084167438544, 34.366084167438544, 34.37963353491629, 34.37963353491629, 34.72991587947575, 34.72991587947575, 34.748658794402914, 34.748658794402914, 34.758371149907084, 34.758371149907084, 34.783412339155106, 34.783412339155106, 34.89193889964372, 34.89193889964372, 34.912744492532156, 34.912744492532156, 35.08639472144895, 35.086394721448954, 35.14206967143617, 35.14206967143617, 35.15514057662147, 35.15514057662147, 35.24405885736978, 35.24405885736978, 35.38435000124084, 35.38435000124084, 35.444832802797606, 35.444832802797606, 35.45870406059097, 35.45870406059097, 35.4592123149862, 35.4592123149862, 35.52600951416999, 35.52600951416999, 36.16464379426169, 36.16464379426169, 36.26121223646568, 36.26121223646568, 36.29612951815897, 36.29612951815897, 36.29664791684729, 36.29664791684729, 36.7528837345821, 36.7528837345821, 36.78106726286169, 36.78106726286169, 36.863471542786115, 36.863471542786115, 36.87019775424714, 36.87019775424714, 37.0575973859816, 37.0575973859816, 37.084801334221304, 37.084801334221304, 37.106006289653685, 37.106006289653685, 37.181845139580815, 37.181845139580815, 37.27051901999718, 37.27051901999718, 37.28490190706781, 37.28490190706781, 37.56718219430924, 37.56718219430924, 37.813278950686794, 37.813278950686794, 37.91268506800165, 37.91268506800165, 38.105563543924156, 38.105563543924156, 38.41060377029641, 38.41060377029641, 38.445232799681456, 38.445232799681456, 38.48577156572385, 38.48577156572385, 38.509145927636105, 38.509145927636105, 38.6792051232205, 38.6792051232205, 38.81365482134896, 38.81365482134896, 39.00028237082391, 39.00028237082391, 39.23920827437032, 39.23920827437032, 39.6516511888886, 39.6516511888886, 40.0725339884755, 40.0725339884755, 40.21712069519914, 40.21712069519914, 40.31462129628083, 40.31462129628083, 40.527947011866644, 40.527947011866644, 40.64614925181777, 40.64614925181777, 40.86964013792223, 40.86964013792223, 40.8982174916834, 40.8982174916834, 41.00125961477134, 41.00125961477134, 41.219506704927376, 41.219506704927376, 41.31767173936894, 41.31767173936895, 41.43436535040747, 41.43436535040747, 41.6426589581348, 41.6426589581348, 42.00073840438441, 42.00073840438441, 42.021152066976036, 42.021152066976036, 42.02140309737146, 42.02140309737146, 42.374480887515624, 42.37448088751563, 42.420930694572476, 42.420930694572476, 42.54516294486827, 42.54516294486827, 42.55402416547454, 42.55402416547454, 42.929484366745726, 42.929484366745726, 42.950989276457626, 42.950989276457626, 42.99189237522762, 42.99189237522762, 43.14365225835694, 43.14365225835694, 43.15060592859323, 43.15060592859323, 43.208171714443594, 43.208171714443594, 43.36801999191337, 43.36801999191337, 43.40326325294636, 43.40326325294636, 43.728754212953106, 43.728754212953106, 43.90006115715578, 43.90006115715578, 44.21000000042841, 44.21000000042841, 44.32778844218667, 44.32778844218667, 44.35251510790514, 44.35251510790514, 44.38816195792879, 44.38816195792879, 44.58292378259573, 44.58292378259573, 44.59650859929038, 44.59650859929038, 44.6114911879062, 44.6114911879062, 44.661155291876064, 44.661155291876064, 44.69211278290396, 44.69211278290396, 44.767261263192985, 44.767261263192985, 44.96789052219423, 44.96789052219423, 45.11102397871167, 45.11102397871167, 45.74206628466323, 45.74206628466323, 46.029641808179775, 46.029641808179775, 46.37670377464753, 46.37670377464753, 46.44702236558594, 46.44702236558594, 46.49553532320037, 46.49553532320037, 46.54269525939648, 46.54269525939648, 47.36091008161843, 47.36091008161843, 47.437606395582534, 47.437606395582534, 47.916769193720825, 47.916769193720825, 48.24273644810313, 48.24273644810313, 48.271871364259454, 48.271871364259454, 48.69061680649221, 48.69061680649221, 48.96639448637629, 48.96639448637629, 49.097618663230584, 49.097618663230584, 49.242036302665284, 49.242036302665284, 49.461043321118105, 49.461043321118105, 49.59433763045903, 49.59433763045903, 49.99969832881559, 49.99969832881559, 50.160528525931745, 50.160528525931745, 50.25700677510266, 50.25700677510266, 50.27844274641983, 50.27844274641983, 50.311012339927615, 50.311012339927615, 50.31254070305536, 50.31254070305536, 50.56727607847618, 50.56727607847618, 51.07463485018908, 51.07463485018908, 51.13841412251341, 51.13841412251341, 51.149162727298396, 51.1491627272984, 51.31784967101972, 51.31784967101972, 51.31855049595244, 51.31855049595244, 51.87712116142367, 51.87712116142367, 52.04446644673943, 52.04446644673943, 52.05250809721532, 52.05250809721532, 52.23616899347555, 52.23616899347555, 52.364581655691076, 52.364581655691076, 52.43693623771267, 52.43693623771267, 52.52977632261297, 52.52977632261297, 52.76559945714297, 52.76559945714297, 53.276029431701645, 53.276029431701645, 53.48625876798306, 53.48625876798306, 53.6170016175456, 53.6170016175456, 53.67081637311301, 53.67081637311301, 53.8581782463826, 53.8581782463826, 54.122270138984454, 54.122270138984454, 54.24204912251448, 54.24204912251448, 54.39351384188868, 54.39351384188868, 54.632889201186885, 54.632889201186885, 54.76582014342576, 54.76582014342576, 54.80841496772132, 54.80841496772132, 55.03433819895373, 55.03433819895373, 55.062443507268526, 55.062443507268526, 55.25524780612994, 55.25524780612994, 55.64226437552678, 55.64226437552678, 55.93366798870112, 55.93366798870112, 55.940444334589074, 55.940444334589074, 56.130855193351266, 56.130855193351266, 56.67192519558162, 56.67192519558162, 56.80625502611826, 56.80625502611826, 57.06154677192541, 57.06154677192541, 57.092975373538295, 57.092975373538295]\n"
     ]
    }
   ],
   "source": [
    "borders = check_small_boundary_lengths(vest_base)\n",
    "print(borders[3000:5000])"
   ]
  },
  {
   "cell_type": "code",
   "execution_count": 31,
   "metadata": {},
   "outputs": [
    {
     "name": "stdout",
     "output_type": "stream",
     "text": [
      "Snapping all geometries to a grid with precision 10^( -5 ) to avoid GEOS errors.\n",
      "Identifying overlaps...\n"
     ]
    },
    {
     "name": "stderr",
     "output_type": "stream",
     "text": [
      "100%|█████████████████████████████████████| 8192/8192 [00:04<00:00, 1739.98it/s]\n"
     ]
    },
    {
     "name": "stdout",
     "output_type": "stream",
     "text": [
      "Resolving overlaps...\n",
      "4 gaps will remain unfilled, because they either are not simply connected or exceed the area threshold.\n",
      "Filling gaps...\n"
     ]
    },
    {
     "name": "stderr",
     "output_type": "stream",
     "text": [
      "Gaps to simplify: 0it [00:00, ?it/s]\n",
      "Gaps to fill: 0it [00:00, ?it/s]"
     ]
    },
    {
     "name": "stdout",
     "output_type": "stream",
     "text": [
      "Converting small rook adjacencies to queen...\n"
     ]
    },
    {
     "name": "stderr",
     "output_type": "stream",
     "text": [
      "\n",
      "100%|█████████████████████████████████████| 6162/6162 [00:04<00:00, 1519.53it/s]\n",
      "100%|███████████████████████████████████████████| 4/4 [00:00<00:00, 2963.13it/s]\n",
      "100%|███████████████████████████████████████████| 4/4 [00:00<00:00, 3184.74it/s]\n",
      "100%|███████████████████████████████████████████| 4/4 [00:00<00:00, 3124.83it/s]\n",
      "100%|███████████████████████████████████████████| 4/4 [00:00<00:00, 3196.88it/s]\n",
      "100%|███████████████████████████████████████████| 4/4 [00:00<00:00, 3350.08it/s]\n",
      "100%|███████████████████████████████████████████| 4/4 [00:00<00:00, 2917.27it/s]\n",
      "100%|███████████████████████████████████████████| 4/4 [00:00<00:00, 3113.23it/s]\n",
      "100%|███████████████████████████████████████████| 4/4 [00:00<00:00, 3127.74it/s]\n",
      "100%|███████████████████████████████████████████| 4/4 [00:00<00:00, 3059.86it/s]\n",
      "100%|███████████████████████████████████████████| 4/4 [00:00<00:00, 2998.61it/s]\n",
      "100%|███████████████████████████████████████████| 4/4 [00:00<00:00, 3086.88it/s]\n",
      "100%|███████████████████████████████████████████| 4/4 [00:00<00:00, 2853.27it/s]\n",
      "100%|███████████████████████████████████████████| 4/4 [00:00<00:00, 3276.16it/s]\n",
      "100%|███████████████████████████████████████████| 4/4 [00:00<00:00, 2976.27it/s]\n",
      "100%|███████████████████████████████████████████| 4/4 [00:00<00:00, 3375.70it/s]\n",
      "100%|███████████████████████████████████████████| 4/4 [00:00<00:00, 2905.15it/s]\n",
      "100%|███████████████████████████████████████████| 4/4 [00:00<00:00, 2854.72it/s]\n",
      "100%|███████████████████████████████████████████| 5/5 [00:00<00:00, 3082.69it/s]\n",
      "100%|███████████████████████████████████████████| 4/4 [00:00<00:00, 2928.47it/s]\n",
      "100%|███████████████████████████████████████████| 4/4 [00:00<00:00, 2992.19it/s]\n",
      "100%|███████████████████████████████████████████| 4/4 [00:00<00:00, 3164.92it/s]\n",
      "100%|███████████████████████████████████████████| 4/4 [00:00<00:00, 2643.75it/s]\n",
      "100%|███████████████████████████████████████████| 4/4 [00:00<00:00, 2960.51it/s]\n",
      "100%|███████████████████████████████████████████| 4/4 [00:00<00:00, 3179.91it/s]\n",
      "100%|███████████████████████████████████████████| 4/4 [00:00<00:00, 3082.35it/s]\n",
      "100%|███████████████████████████████████████████| 4/4 [00:00<00:00, 2806.96it/s]\n",
      "100%|███████████████████████████████████████████| 4/4 [00:00<00:00, 2760.77it/s]\n",
      "100%|███████████████████████████████████████████| 5/5 [00:00<00:00, 2855.21it/s]\n",
      "100%|███████████████████████████████████████████| 4/4 [00:00<00:00, 2758.96it/s]\n",
      "100%|███████████████████████████████████████████| 4/4 [00:00<00:00, 2925.92it/s]\n",
      "100%|███████████████████████████████████████████| 5/5 [00:00<00:00, 3361.90it/s]\n",
      "100%|███████████████████████████████████████████| 4/4 [00:00<00:00, 3078.95it/s]\n",
      "100%|███████████████████████████████████████████| 4/4 [00:00<00:00, 2732.00it/s]\n",
      "100%|███████████████████████████████████████████| 4/4 [00:00<00:00, 2879.71it/s]\n",
      "100%|███████████████████████████████████████████| 6/6 [00:00<00:00, 3309.55it/s]\n",
      "100%|███████████████████████████████████████████| 4/4 [00:00<00:00, 3257.08it/s]\n",
      "100%|███████████████████████████████████████████| 4/4 [00:00<00:00, 3230.74it/s]\n",
      "100%|███████████████████████████████████████████| 6/6 [00:00<00:00, 3298.71it/s]\n",
      "100%|███████████████████████████████████████████| 4/4 [00:00<00:00, 2699.04it/s]\n",
      "100%|███████████████████████████████████████████| 4/4 [00:00<00:00, 3287.07it/s]\n",
      "100%|███████████████████████████████████████████| 4/4 [00:00<00:00, 2533.17it/s]\n",
      "100%|███████████████████████████████████████████| 5/5 [00:00<00:00, 3304.68it/s]\n",
      "100%|███████████████████████████████████████████| 3/3 [00:00<00:00, 3042.29it/s]\n",
      "100%|███████████████████████████████████████████| 5/5 [00:00<00:00, 3320.91it/s]\n",
      "100%|███████████████████████████████████████████| 4/4 [00:00<00:00, 3372.98it/s]\n",
      "100%|███████████████████████████████████████████| 5/5 [00:00<00:00, 3329.34it/s]\n",
      "100%|███████████████████████████████████████████| 4/4 [00:00<00:00, 3289.01it/s]\n",
      "100%|███████████████████████████████████████████| 4/4 [00:00<00:00, 3246.99it/s]\n",
      "100%|███████████████████████████████████████████| 5/5 [00:00<00:00, 3384.69it/s]\n",
      "100%|███████████████████████████████████████████| 4/4 [00:00<00:00, 3289.01it/s]\n",
      "100%|███████████████████████████████████████████| 4/4 [00:00<00:00, 3325.51it/s]\n",
      "100%|███████████████████████████████████████████| 4/4 [00:00<00:00, 2832.55it/s]\n",
      "100%|███████████████████████████████████████████| 4/4 [00:00<00:00, 3042.11it/s]\n",
      "100%|███████████████████████████████████████████| 4/4 [00:00<00:00, 3079.52it/s]\n",
      "100%|███████████████████████████████████████████| 4/4 [00:00<00:00, 2976.27it/s]\n",
      "100%|███████████████████████████████████████████| 4/4 [00:00<00:00, 2348.76it/s]\n",
      "100%|███████████████████████████████████████████| 4/4 [00:00<00:00, 2085.42it/s]\n",
      "100%|███████████████████████████████████████████| 4/4 [00:00<00:00, 2425.50it/s]\n",
      "100%|███████████████████████████████████████████| 5/5 [00:00<00:00, 2791.36it/s]\n",
      "100%|███████████████████████████████████████████| 4/4 [00:00<00:00, 2322.75it/s]\n",
      "100%|███████████████████████████████████████████| 4/4 [00:00<00:00, 2161.18it/s]\n",
      "100%|███████████████████████████████████████████| 6/6 [00:00<00:00, 2863.98it/s]\n",
      "100%|███████████████████████████████████████████| 4/4 [00:00<00:00, 2605.97it/s]\n",
      "100%|███████████████████████████████████████████| 4/4 [00:00<00:00, 2672.38it/s]\n",
      "100%|███████████████████████████████████████████| 4/4 [00:00<00:00, 2991.66it/s]\n",
      "100%|███████████████████████████████████████████| 4/4 [00:00<00:00, 2254.70it/s]\n",
      "100%|███████████████████████████████████████████| 4/4 [00:00<00:00, 2513.82it/s]\n",
      "100%|███████████████████████████████████████████| 4/4 [00:00<00:00, 2786.91it/s]\n",
      "100%|███████████████████████████████████████████| 4/4 [00:00<00:00, 2329.52it/s]\n",
      "100%|███████████████████████████████████████████| 4/4 [00:00<00:00, 2809.31it/s]\n",
      "100%|███████████████████████████████████████████| 4/4 [00:00<00:00, 2449.59it/s]\n",
      "100%|███████████████████████████████████████████| 4/4 [00:00<00:00, 2572.40it/s]\n",
      "100%|███████████████████████████████████████████| 4/4 [00:00<00:00, 2677.50it/s]\n",
      "100%|███████████████████████████████████████████| 4/4 [00:00<00:00, 2436.07it/s]\n",
      "100%|███████████████████████████████████████████| 5/5 [00:00<00:00, 2908.27it/s]\n",
      "100%|███████████████████████████████████████████| 4/4 [00:00<00:00, 2854.72it/s]\n",
      "100%|███████████████████████████████████████████| 4/4 [00:00<00:00, 2400.86it/s]\n",
      "100%|███████████████████████████████████████████| 4/4 [00:00<00:00, 2525.17it/s]\n",
      "100%|███████████████████████████████████████████| 5/5 [00:00<00:00, 2866.92it/s]\n",
      "100%|███████████████████████████████████████████| 4/4 [00:00<00:00, 2820.65it/s]\n",
      "100%|███████████████████████████████████████████| 5/5 [00:00<00:00, 2734.94it/s]\n",
      "100%|███████████████████████████████████████████| 4/4 [00:00<00:00, 2945.44it/s]\n",
      "100%|███████████████████████████████████████████| 4/4 [00:00<00:00, 2481.47it/s]\n",
      "100%|███████████████████████████████████████████| 4/4 [00:00<00:00, 2438.90it/s]\n",
      "100%|███████████████████████████████████████████| 4/4 [00:00<00:00, 2650.85it/s]\n",
      "100%|███████████████████████████████████████████| 5/5 [00:00<00:00, 2830.16it/s]\n",
      "100%|████████████████████████████████████████████| 4/4 [00:00<00:00, 968.05it/s]\n",
      "100%|███████████████████████████████████████████| 4/4 [00:00<00:00, 2495.12it/s]\n",
      "100%|███████████████████████████████████████████| 4/4 [00:00<00:00, 2550.89it/s]\n",
      "100%|███████████████████████████████████████████| 4/4 [00:00<00:00, 2661.36it/s]\n",
      "100%|███████████████████████████████████████████| 4/4 [00:00<00:00, 2603.94it/s]\n",
      "100%|███████████████████████████████████████████| 5/5 [00:00<00:00, 3060.20it/s]\n",
      "100%|███████████████████████████████████████████| 4/4 [00:00<00:00, 2181.13it/s]\n",
      "100%|███████████████████████████████████████████| 4/4 [00:00<00:00, 2987.93it/s]\n",
      "100%|███████████████████████████████████████████| 4/4 [00:00<00:00, 3023.47it/s]\n",
      "100%|███████████████████████████████████████████| 4/4 [00:00<00:00, 2671.96it/s]\n",
      "100%|███████████████████████████████████████████| 5/5 [00:00<00:00, 3103.67it/s]\n",
      "100%|███████████████████████████████████████████| 4/4 [00:00<00:00, 2533.17it/s]\n",
      "100%|███████████████████████████████████████████| 5/5 [00:00<00:00, 2690.04it/s]\n",
      "100%|███████████████████████████████████████████| 5/5 [00:00<00:00, 2940.89it/s]\n",
      "100%|███████████████████████████████████████████| 4/4 [00:00<00:00, 2362.32it/s]\n",
      "100%|███████████████████████████████████████████| 4/4 [00:00<00:00, 2567.29it/s]\n",
      "100%|███████████████████████████████████████████| 4/4 [00:00<00:00, 2857.16it/s]\n",
      "100%|███████████████████████████████████████████| 4/4 [00:00<00:00, 3103.44it/s]\n",
      "100%|███████████████████████████████████████████| 5/5 [00:00<00:00, 3429.52it/s]\n",
      "100%|███████████████████████████████████████████| 4/4 [00:00<00:00, 3112.08it/s]\n",
      "100%|███████████████████████████████████████████| 4/4 [00:00<00:00, 3212.80it/s]\n",
      "100%|███████████████████████████████████████████| 4/4 [00:00<00:00, 3145.33it/s]\n",
      "100%|███████████████████████████████████████████| 4/4 [00:00<00:00, 3243.85it/s]\n",
      "100%|███████████████████████████████████████████| 4/4 [00:00<00:00, 3228.25it/s]\n",
      "100%|███████████████████████████████████████████| 4/4 [00:00<00:00, 2817.33it/s]\n",
      "100%|███████████████████████████████████████████| 4/4 [00:00<00:00, 3012.07it/s]\n",
      "100%|███████████████████████████████████████████| 6/6 [00:00<00:00, 3393.91it/s]\n",
      "100%|███████████████████████████████████████████| 4/4 [00:00<00:00, 3375.70it/s]\n",
      "100%|███████████████████████████████████████████| 4/4 [00:00<00:00, 2773.55it/s]\n",
      "100%|███████████████████████████████████████████| 4/4 [00:00<00:00, 3102.30it/s]\n",
      "100%|███████████████████████████████████████████| 4/4 [00:00<00:00, 3217.72it/s]\n",
      "100%|███████████████████████████████████████████| 4/4 [00:00<00:00, 3555.25it/s]\n",
      "100%|███████████████████████████████████████████| 4/4 [00:00<00:00, 3392.08it/s]\n",
      "100%|███████████████████████████████████████████| 5/5 [00:00<00:00, 3389.61it/s]\n",
      "100%|███████████████████████████████████████████| 4/4 [00:00<00:00, 3358.80it/s]\n",
      "100%|███████████████████████████████████████████| 4/4 [00:00<00:00, 3203.59it/s]\n",
      "100%|███████████████████████████████████████████| 4/4 [00:00<00:00, 3134.76it/s]\n",
      "100%|███████████████████████████████████████████| 4/4 [00:00<00:00, 3154.80it/s]\n",
      "100%|███████████████████████████████████████████| 4/4 [00:00<00:00, 3594.09it/s]\n",
      "100%|███████████████████████████████████████████| 4/4 [00:00<00:00, 3009.37it/s]\n",
      "100%|███████████████████████████████████████████| 4/4 [00:00<00:00, 3255.18it/s]\n",
      "100%|███████████████████████████████████████████| 4/4 [00:00<00:00, 3249.51it/s]\n",
      "100%|███████████████████████████████████████████| 5/5 [00:00<00:00, 3538.30it/s]\n",
      "100%|███████████████████████████████████████████| 4/4 [00:00<00:00, 3127.16it/s]\n",
      "100%|███████████████████████████████████████████| 4/4 [00:00<00:00, 2973.63it/s]\n",
      "100%|███████████████████████████████████████████| 4/4 [00:00<00:00, 3614.22it/s]\n",
      "100%|███████████████████████████████████████████| 6/6 [00:00<00:00, 3421.13it/s]\n",
      "100%|███████████████████████████████████████████| 4/4 [00:00<00:00, 3381.14it/s]\n",
      "100%|███████████████████████████████████████████| 4/4 [00:00<00:00, 2801.34it/s]\n",
      "100%|███████████████████████████████████████████| 5/5 [00:00<00:00, 3396.75it/s]\n",
      "100%|███████████████████████████████████████████| 4/4 [00:00<00:00, 3184.74it/s]\n",
      "100%|███████████████████████████████████████████| 4/4 [00:00<00:00, 2726.23it/s]\n",
      "100%|███████████████████████████████████████████| 4/4 [00:00<00:00, 2466.51it/s]\n",
      "100%|███████████████████████████████████████████| 4/4 [00:00<00:00, 2998.61it/s]\n",
      "100%|███████████████████████████████████████████| 5/5 [00:00<00:00, 3328.81it/s]\n",
      "100%|███████████████████████████████████████████| 4/4 [00:00<00:00, 2605.97it/s]\n",
      "100%|███████████████████████████████████████████| 5/5 [00:00<00:00, 3061.98it/s]\n",
      "100%|███████████████████████████████████████████| 4/4 [00:00<00:00, 2787.38it/s]\n",
      "100%|███████████████████████████████████████████| 6/6 [00:00<00:00, 3309.55it/s]\n",
      "100%|███████████████████████████████████████████| 4/4 [00:00<00:00, 2663.05it/s]\n",
      "100%|███████████████████████████████████████████| 5/5 [00:00<00:00, 3172.70it/s]\n",
      "100%|███████████████████████████████████████████| 5/5 [00:00<00:00, 3287.59it/s]\n",
      "100%|███████████████████████████████████████████| 4/4 [00:00<00:00, 2787.38it/s]\n",
      "100%|███████████████████████████████████████████| 4/4 [00:00<00:00, 2706.88it/s]\n",
      "100%|███████████████████████████████████████████| 4/4 [00:00<00:00, 2832.55it/s]\n",
      "100%|███████████████████████████████████████████| 4/4 [00:00<00:00, 3182.32it/s]\n",
      "100%|███████████████████████████████████████████| 4/4 [00:00<00:00, 3030.02it/s]\n",
      "100%|███████████████████████████████████████████| 4/4 [00:00<00:00, 2623.08it/s]\n",
      "100%|███████████████████████████████████████████| 4/4 [00:00<00:00, 3314.35it/s]\n",
      "100%|███████████████████████████████████████████| 4/4 [00:00<00:00, 3421.83it/s]\n",
      "100%|███████████████████████████████████████████| 4/4 [00:00<00:00, 3202.37it/s]\n",
      "100%|███████████████████████████████████████████| 4/4 [00:00<00:00, 2635.03it/s]\n",
      "100%|███████████████████████████████████████████| 5/5 [00:00<00:00, 3063.77it/s]\n",
      "100%|███████████████████████████████████████████| 5/5 [00:00<00:00, 3255.44it/s]\n",
      "100%|███████████████████████████████████████████| 6/6 [00:00<00:00, 3685.14it/s]\n",
      "100%|███████████████████████████████████████████| 5/5 [00:00<00:00, 3124.95it/s]\n",
      "100%|███████████████████████████████████████████| 6/6 [00:00<00:00, 3649.34it/s]\n",
      "100%|███████████████████████████████████████████| 6/6 [00:00<00:00, 2909.68it/s]\n",
      "100%|███████████████████████████████████████████| 6/6 [00:00<00:00, 3661.02it/s]\n",
      "100%|███████████████████████████████████████████| 6/6 [00:00<00:00, 3556.50it/s]\n",
      "100%|███████████████████████████████████████████| 6/6 [00:00<00:00, 3669.56it/s]\n",
      "100%|███████████████████████████████████████████| 6/6 [00:00<00:00, 3598.72it/s]\n",
      "100%|███████████████████████████████████████████| 6/6 [00:00<00:00, 3548.48it/s]\n",
      "100%|███████████████████████████████████████████| 6/6 [00:00<00:00, 3770.73it/s]\n",
      "100%|███████████████████████████████████████████| 6/6 [00:00<00:00, 3476.42it/s]\n",
      "100%|███████████████████████████████████████████| 6/6 [00:00<00:00, 3556.50it/s]\n",
      "100%|███████████████████████████████████████████| 6/6 [00:00<00:00, 3403.55it/s]\n",
      "100%|███████████████████████████████████████████| 6/6 [00:00<00:00, 3569.11it/s]\n",
      "100%|███████████████████████████████████████████| 6/6 [00:00<00:00, 3400.79it/s]\n",
      "100%|███████████████████████████████████████████| 6/6 [00:00<00:00, 3458.27it/s]\n",
      "100%|███████████████████████████████████████████| 6/6 [00:00<00:00, 3300.00it/s]\n",
      "100%|███████████████████████████████████████████| 6/6 [00:00<00:00, 3139.84it/s]\n",
      "100%|███████████████████████████████████████████| 7/7 [00:00<00:00, 3731.59it/s]\n",
      "100%|███████████████████████████████████████████| 6/6 [00:00<00:00, 3634.58it/s]\n",
      "100%|███████████████████████████████████████████| 5/5 [00:00<00:00, 3440.77it/s]\n",
      "100%|███████████████████████████████████████████| 6/6 [00:00<00:00, 3644.58it/s]\n",
      "100%|███████████████████████████████████████████| 5/5 [00:00<00:00, 3324.06it/s]\n",
      "100%|███████████████████████████████████████████| 5/5 [00:00<00:00, 3257.46it/s]\n",
      "100%|███████████████████████████████████████████| 6/6 [00:00<00:00, 3444.54it/s]\n",
      "100%|███████████████████████████████████████████| 5/5 [00:00<00:00, 3235.85it/s]\n",
      "100%|███████████████████████████████████████████| 5/5 [00:00<00:00, 3375.97it/s]\n",
      "100%|███████████████████████████████████████████| 5/5 [00:00<00:00, 3231.86it/s]\n",
      "100%|███████████████████████████████████████████| 5/5 [00:00<00:00, 3474.41it/s]\n",
      "100%|███████████████████████████████████████████| 5/5 [00:00<00:00, 3300.00it/s]\n",
      "100%|███████████████████████████████████████████| 5/5 [00:00<00:00, 3039.35it/s]\n",
      "100%|███████████████████████████████████████████| 5/5 [00:00<00:00, 3244.86it/s]\n",
      "100%|███████████████████████████████████████████| 5/5 [00:00<00:00, 3328.28it/s]\n",
      "100%|███████████████████████████████████████████| 5/5 [00:00<00:00, 3427.28it/s]\n",
      "100%|███████████████████████████████████████████| 5/5 [00:00<00:00, 3448.13it/s]\n",
      "100%|███████████████████████████████████████████| 4/4 [00:00<00:00, 3171.50it/s]\n",
      "100%|███████████████████████████████████████████| 4/4 [00:00<00:00, 3189.58it/s]\n",
      "100%|███████████████████████████████████████████| 5/5 [00:00<00:00, 3481.91it/s]\n",
      "100%|███████████████████████████████████████████| 4/4 [00:00<00:00, 3139.45it/s]\n",
      "100%|███████████████████████████████████████████| 6/6 [00:00<00:00, 3534.03it/s]\n",
      "100%|███████████████████████████████████████████| 4/4 [00:00<00:00, 3284.50it/s]\n",
      "100%|███████████████████████████████████████████| 4/4 [00:00<00:00, 3333.44it/s]\n",
      "100%|███████████████████████████████████████████| 4/4 [00:00<00:00, 2675.79it/s]\n",
      "100%|███████████████████████████████████████████| 4/4 [00:00<00:00, 3284.50it/s]\n",
      "100%|███████████████████████████████████████████| 5/5 [00:00<00:00, 2969.21it/s]\n",
      "100%|███████████████████████████████████████████| 5/5 [00:00<00:00, 3282.96it/s]\n",
      "100%|███████████████████████████████████████████| 6/6 [00:00<00:00, 1009.91it/s]\n",
      "100%|███████████████████████████████████████████| 6/6 [00:00<00:00, 3194.85it/s]\n",
      "100%|███████████████████████████████████████████| 4/4 [00:00<00:00, 3034.95it/s]\n",
      "100%|███████████████████████████████████████████| 4/4 [00:00<00:00, 3179.31it/s]\n",
      "100%|███████████████████████████████████████████| 4/4 [00:00<00:00, 3039.35it/s]\n",
      "100%|███████████████████████████████████████████| 4/4 [00:00<00:00, 3098.29it/s]\n",
      "100%|███████████████████████████████████████████| 7/7 [00:00<00:00, 3414.37it/s]\n",
      "100%|███████████████████████████████████████████| 6/6 [00:00<00:00, 3164.72it/s]\n",
      "100%|███████████████████████████████████████████| 5/5 [00:00<00:00, 3355.98it/s]\n",
      "100%|███████████████████████████████████████████| 5/5 [00:00<00:00, 3289.65it/s]\n",
      "100%|███████████████████████████████████████████| 5/5 [00:00<00:00, 3324.59it/s]\n",
      "100%|███████████████████████████████████████████| 4/4 [00:00<00:00, 3260.88it/s]\n",
      "100%|███████████████████████████████████████████| 5/5 [00:00<00:00, 3310.94it/s]\n",
      "100%|███████████████████████████████████████████| 5/5 [00:00<00:00, 3136.63it/s]\n",
      "100%|███████████████████████████████████████████| 4/4 [00:00<00:00, 2724.46it/s]\n",
      "100%|███████████████████████████████████████████| 4/4 [00:00<00:00, 3115.55it/s]\n",
      "100%|███████████████████████████████████████████| 4/4 [00:00<00:00, 3653.57it/s]\n",
      "100%|███████████████████████████████████████████| 5/5 [00:00<00:00, 3399.50it/s]\n",
      "100%|███████████████████████████████████████████| 5/5 [00:00<00:00, 2999.36it/s]\n",
      "100%|███████████████████████████████████████████| 6/6 [00:00<00:00, 3692.71it/s]\n",
      "100%|███████████████████████████████████████████| 5/5 [00:00<00:00, 3718.35it/s]\n",
      "100%|███████████████████████████████████████████| 4/4 [00:00<00:00, 2728.89it/s]\n",
      "100%|███████████████████████████████████████████| 5/5 [00:00<00:00, 3630.80it/s]\n",
      "100%|███████████████████████████████████████████| 4/4 [00:00<00:00, 3072.19it/s]\n",
      "100%|███████████████████████████████████████████| 4/4 [00:00<00:00, 2861.05it/s]\n",
      "100%|███████████████████████████████████████████| 4/4 [00:00<00:00, 3378.42it/s]\n",
      "100%|███████████████████████████████████████████| 4/4 [00:00<00:00, 3613.44it/s]\n",
      "100%|███████████████████████████████████████████| 5/5 [00:00<00:00, 2942.96it/s]\n",
      "100%|███████████████████████████████████████████| 5/5 [00:00<00:00, 3504.01it/s]\n",
      "100%|███████████████████████████████████████████| 8/8 [00:00<00:00, 3697.05it/s]\n",
      "100%|███████████████████████████████████████████| 6/6 [00:00<00:00, 3794.61it/s]\n",
      "100%|███████████████████████████████████████████| 5/5 [00:00<00:00, 3346.88it/s]\n",
      "100%|███████████████████████████████████████████| 4/4 [00:00<00:00, 3483.64it/s]\n",
      "100%|███████████████████████████████████████████| 6/6 [00:00<00:00, 3387.97it/s]\n",
      "100%|███████████████████████████████████████████| 6/6 [00:00<00:00, 3733.80it/s]\n",
      "100%|███████████████████████████████████████████| 4/4 [00:00<00:00, 3181.72it/s]\n",
      "100%|███████████████████████████████████████████| 4/4 [00:00<00:00, 3416.25it/s]\n",
      "100%|███████████████████████████████████████████| 4/4 [00:00<00:00, 3203.59it/s]\n",
      "100%|███████████████████████████████████████████| 5/5 [00:00<00:00, 2978.06it/s]\n",
      "100%|███████████████████████████████████████████| 4/4 [00:00<00:00, 3223.29it/s]\n",
      "100%|███████████████████████████████████████████| 5/5 [00:00<00:00, 3378.69it/s]\n",
      "100%|███████████████████████████████████████████| 5/5 [00:00<00:00, 3398.40it/s]\n",
      "100%|███████████████████████████████████████████| 5/5 [00:00<00:00, 2844.37it/s]\n",
      "100%|███████████████████████████████████████████| 6/6 [00:00<00:00, 2265.97it/s]\n",
      "100%|███████████████████████████████████████████| 5/5 [00:00<00:00, 3521.07it/s]\n",
      "100%|███████████████████████████████████████████| 5/5 [00:00<00:00, 3398.95it/s]\n",
      "100%|███████████████████████████████████████████| 4/4 [00:00<00:00, 3316.97it/s]\n",
      "100%|███████████████████████████████████████████| 4/4 [00:00<00:00, 3144.75it/s]\n",
      "100%|███████████████████████████████████████████| 4/4 [00:00<00:00, 3252.03it/s]\n",
      "100%|███████████████████████████████████████████| 5/5 [00:00<00:00, 3457.79it/s]\n",
      "100%|███████████████████████████████████████████| 4/4 [00:00<00:00, 3332.78it/s]\n",
      "100%|███████████████████████████████████████████| 5/5 [00:00<00:00, 3569.01it/s]\n",
      "100%|███████████████████████████████████████████| 5/5 [00:00<00:00, 3513.41it/s]\n",
      "100%|███████████████████████████████████████████| 4/4 [00:00<00:00, 3381.14it/s]\n",
      "100%|███████████████████████████████████████████| 4/4 [00:00<00:00, 3228.25it/s]\n",
      "100%|███████████████████████████████████████████| 4/4 [00:00<00:00, 2692.11it/s]\n",
      "100%|███████████████████████████████████████████| 5/5 [00:00<00:00, 3602.12it/s]\n",
      "100%|███████████████████████████████████████████| 4/4 [00:00<00:00, 3172.10it/s]\n",
      "100%|███████████████████████████████████████████| 5/5 [00:00<00:00, 3406.13it/s]\n",
      "100%|███████████████████████████████████████████| 4/4 [00:00<00:00, 3221.43it/s]\n",
      "100%|███████████████████████████████████████████| 4/4 [00:00<00:00, 3451.39it/s]\n",
      "100%|███████████████████████████████████████████| 5/5 [00:00<00:00, 3282.96it/s]\n",
      "100%|███████████████████████████████████████████| 6/6 [00:00<00:00, 3697.05it/s]\n",
      "100%|███████████████████████████████████████████| 5/5 [00:00<00:00, 3486.54it/s]\n",
      "100%|███████████████████████████████████████████| 6/6 [00:00<00:00, 3685.14it/s]\n",
      "100%|███████████████████████████████████████████| 4/4 [00:00<00:00, 3260.24it/s]\n",
      "100%|███████████████████████████████████████████| 4/4 [00:00<00:00, 2972.58it/s]\n",
      "100%|███████████████████████████████████████████| 4/4 [00:00<00:00, 2965.22it/s]\n",
      "100%|███████████████████████████████████████████| 4/4 [00:00<00:00, 3273.60it/s]\n",
      "100%|███████████████████████████████████████████| 4/4 [00:00<00:00, 3294.82it/s]\n",
      "100%|███████████████████████████████████████████| 4/4 [00:00<00:00, 3096.00it/s]\n",
      "100%|███████████████████████████████████████████| 4/4 [00:00<00:00, 2774.01it/s]\n",
      "100%|███████████████████████████████████████████| 4/4 [00:00<00:00, 3378.42it/s]\n",
      "100%|███████████████████████████████████████████| 4/4 [00:00<00:00, 3289.65it/s]\n",
      "100%|███████████████████████████████████████████| 4/4 [00:00<00:00, 3207.88it/s]\n",
      "100%|███████████████████████████████████████████| 4/4 [00:00<00:00, 3629.86it/s]\n",
      "100%|███████████████████████████████████████████| 4/4 [00:00<00:00, 3358.13it/s]\n",
      "100%|███████████████████████████████████████████| 4/4 [00:00<00:00, 3176.90it/s]\n",
      "100%|███████████████████████████████████████████| 4/4 [00:00<00:00, 3336.76it/s]\n",
      "100%|███████████████████████████████████████████| 4/4 [00:00<00:00, 3257.71it/s]\n",
      "100%|███████████████████████████████████████████| 4/4 [00:00<00:00, 1540.32it/s]\n",
      "100%|███████████████████████████████████████████| 4/4 [00:00<00:00, 2909.18it/s]\n",
      "100%|███████████████████████████████████████████| 4/4 [00:00<00:00, 3486.54it/s]\n",
      "100%|███████████████████████████████████████████| 4/4 [00:00<00:00, 3132.42it/s]\n",
      "100%|███████████████████████████████████████████| 4/4 [00:00<00:00, 2976.27it/s]\n",
      "100%|███████████████████████████████████████████| 5/5 [00:00<00:00, 3335.70it/s]\n",
      "100%|███████████████████████████████████████████| 5/5 [00:00<00:00, 3200.78it/s]\n",
      "100%|███████████████████████████████████████████| 4/4 [00:00<00:00, 3327.49it/s]\n",
      "100%|███████████████████████████████████████████| 4/4 [00:00<00:00, 3325.51it/s]\n",
      "100%|███████████████████████████████████████████| 4/4 [00:00<00:00, 3167.31it/s]\n",
      "100%|███████████████████████████████████████████| 4/4 [00:00<00:00, 3395.51it/s]\n",
      "100%|███████████████████████████████████████████| 4/4 [00:00<00:00, 3281.93it/s]\n",
      "100%|███████████████████████████████████████████| 5/5 [00:00<00:00, 3620.15it/s]\n",
      "100%|███████████████████████████████████████████| 4/4 [00:00<00:00, 3233.85it/s]\n",
      "100%|███████████████████████████████████████████| 5/5 [00:00<00:00, 3296.37it/s]\n",
      "100%|███████████████████████████████████████████| 4/4 [00:00<00:00, 3412.08it/s]\n",
      "100%|███████████████████████████████████████████| 4/4 [00:00<00:00, 3132.42it/s]\n",
      "100%|███████████████████████████████████████████| 4/4 [00:00<00:00, 2645.41it/s]\n",
      "100%|███████████████████████████████████████████| 4/4 [00:00<00:00, 3398.95it/s]\n",
      "100%|███████████████████████████████████████████| 4/4 [00:00<00:00, 3350.08it/s]\n",
      "100%|███████████████████████████████████████████| 6/6 [00:00<00:00, 3707.95it/s]\n",
      "100%|███████████████████████████████████████████| 4/4 [00:00<00:00, 3273.60it/s]\n",
      "100%|███████████████████████████████████████████| 4/4 [00:00<00:00, 3154.80it/s]\n",
      "100%|███████████████████████████████████████████| 4/4 [00:00<00:00, 3332.78it/s]\n",
      "100%|███████████████████████████████████████████| 4/4 [00:00<00:00, 3119.60it/s]\n",
      "100%|███████████████████████████████████████████| 4/4 [00:00<00:00, 3342.07it/s]\n",
      "100%|███████████████████████████████████████████| 4/4 [00:00<00:00, 3451.39it/s]\n",
      "100%|███████████████████████████████████████████| 5/5 [00:00<00:00, 3707.18it/s]\n",
      "100%|███████████████████████████████████████████| 4/4 [00:00<00:00, 3141.80it/s]\n",
      "100%|███████████████████████████████████████████| 5/5 [00:00<00:00, 3464.65it/s]\n",
      "100%|███████████████████████████████████████████| 5/5 [00:00<00:00, 3589.17it/s]\n",
      "100%|███████████████████████████████████████████| 4/4 [00:00<00:00, 3675.99it/s]\n",
      "100%|███████████████████████████████████████████| 4/4 [00:00<00:00, 3161.34it/s]\n",
      "100%|███████████████████████████████████████████| 4/4 [00:00<00:00, 3197.49it/s]\n",
      "100%|███████████████████████████████████████████| 4/4 [00:00<00:00, 3436.55it/s]\n",
      "100%|███████████████████████████████████████████| 4/4 [00:00<00:00, 3369.60it/s]\n",
      "100%|███████████████████████████████████████████| 4/4 [00:00<00:00, 3472.11it/s]\n",
      "100%|███████████████████████████████████████████| 4/4 [00:00<00:00, 3246.37it/s]\n",
      "100%|███████████████████████████████████████████| 4/4 [00:00<00:00, 3283.86it/s]\n",
      "100%|███████████████████████████████████████████| 4/4 [00:00<00:00, 3159.55it/s]\n",
      "100%|███████████████████████████████████████████| 4/4 [00:00<00:00, 3034.95it/s]\n",
      "100%|███████████████████████████████████████████| 5/5 [00:00<00:00, 3516.35it/s]\n",
      "100%|███████████████████████████████████████████| 5/5 [00:00<00:00, 3357.59it/s]\n",
      "100%|███████████████████████████████████████████| 5/5 [00:00<00:00, 3468.09it/s]\n",
      "100%|███████████████████████████████████████████| 5/5 [00:00<00:00, 3469.81it/s]\n",
      "100%|███████████████████████████████████████████| 5/5 [00:00<00:00, 3516.35it/s]\n",
      "100%|███████████████████████████████████████████| 4/4 [00:00<00:00, 3506.21it/s]\n",
      "100%|███████████████████████████████████████████| 5/5 [00:00<00:00, 3587.33it/s]\n",
      "100%|███████████████████████████████████████████| 5/5 [00:00<00:00, 3599.64it/s]\n",
      "100%|███████████████████████████████████████████| 4/4 [00:00<00:00, 3279.36it/s]\n",
      "100%|███████████████████████████████████████████| 4/4 [00:00<00:00, 3314.35it/s]\n",
      "100%|███████████████████████████████████████████| 6/6 [00:00<00:00, 3564.56it/s]\n",
      "100%|███████████████████████████████████████████| 5/5 [00:00<00:00, 3403.91it/s]\n",
      "100%|███████████████████████████████████████████| 4/4 [00:00<00:00, 3361.49it/s]\n",
      "100%|███████████████████████████████████████████| 5/5 [00:00<00:00, 3555.10it/s]\n",
      "100%|███████████████████████████████████████████| 4/4 [00:00<00:00, 3655.96it/s]\n",
      "100%|███████████████████████████████████████████| 6/6 [00:00<00:00, 3860.97it/s]\n",
      "100%|███████████████████████████████████████████| 4/4 [00:00<00:00, 2873.80it/s]\n",
      "100%|███████████████████████████████████████████| 4/4 [00:00<00:00, 3649.60it/s]\n",
      "100%|███████████████████████████████████████████| 4/4 [00:00<00:00, 2846.97it/s]\n",
      "100%|███████████████████████████████████████████| 4/4 [00:00<00:00, 2915.75it/s]\n",
      "100%|███████████████████████████████████████████| 4/4 [00:00<00:00, 3820.82it/s]\n",
      "100%|███████████████████████████████████████████| 5/5 [00:00<00:00, 3289.13it/s]\n",
      "100%|███████████████████████████████████████████| 5/5 [00:00<00:00, 3903.13it/s]\n",
      "100%|███████████████████████████████████████████| 4/4 [00:00<00:00, 3673.57it/s]\n",
      "100%|███████████████████████████████████████████| 5/5 [00:00<00:00, 3615.78it/s]\n",
      "100%|███████████████████████████████████████████| 6/6 [00:00<00:00, 3683.52it/s]\n",
      "100%|███████████████████████████████████████████| 6/6 [00:00<00:00, 3389.79it/s]\n",
      "100%|███████████████████████████████████████████| 4/4 [00:00<00:00, 3529.82it/s]\n",
      "100%|███████████████████████████████████████████| 6/6 [00:00<00:00, 3694.34it/s]\n",
      "100%|███████████████████████████████████████████| 5/5 [00:00<00:00, 3300.52it/s]\n",
      "100%|███████████████████████████████████████████| 7/7 [00:00<00:00, 4018.08it/s]\n",
      "100%|███████████████████████████████████████████| 6/6 [00:00<00:00, 3529.57it/s]\n",
      "100%|███████████████████████████████████████████| 5/5 [00:00<00:00, 3403.91it/s]\n",
      "100%|███████████████████████████████████████████| 5/5 [00:00<00:00, 3651.67it/s]\n",
      "100%|███████████████████████████████████████████| 7/7 [00:00<00:00, 4201.51it/s]\n",
      "100%|███████████████████████████████████████████| 5/5 [00:00<00:00, 3679.21it/s]\n",
      "100%|███████████████████████████████████████████| 6/6 [00:00<00:00, 3645.11it/s]\n",
      "100%|███████████████████████████████████████████| 4/4 [00:00<00:00, 3407.23it/s]\n",
      "100%|███████████████████████████████████████████| 4/4 [00:00<00:00, 3364.19it/s]\n",
      "100%|███████████████████████████████████████████| 5/5 [00:00<00:00, 3714.40it/s]\n",
      "100%|█████████████████████████████████████| 6162/6162 [00:03<00:00, 1567.33it/s]\n"
     ]
    },
    {
     "name": "stdout",
     "output_type": "stream",
     "text": [
      "There are 4 holes.\n",
      "maup doctor failed!  Please investigate\n"
     ]
    }
   ],
   "source": [
    "vest_base = do_smart_repair(vest_base, min_rook_length = 30.5, snap_precision=10)"
   ]
  },
  {
   "cell_type": "code",
   "execution_count": 32,
   "metadata": {},
   "outputs": [
    {
     "name": "stderr",
     "output_type": "stream",
     "text": [
      "100%|█████████████████████████████████████| 6162/6162 [00:04<00:00, 1523.96it/s]\n"
     ]
    },
    {
     "name": "stdout",
     "output_type": "stream",
     "text": [
      "There are 4 holes.\n"
     ]
    },
    {
     "data": {
      "text/plain": [
       "False"
      ]
     },
     "execution_count": 32,
     "metadata": {},
     "output_type": "execute_result"
    }
   ],
   "source": [
    "maup.doctor(vest_base)"
   ]
  },
  {
   "cell_type": "markdown",
   "metadata": {},
   "source": [
    "## If it is true for maup doctor, we will use it as the base vest data."
   ]
  },
  {
   "cell_type": "code",
   "execution_count": 34,
   "metadata": {},
   "outputs": [
    {
     "name": "stderr",
     "output_type": "stream",
     "text": [
      "100%|█████████████████████████████████████| 6162/6162 [00:05<00:00, 1069.23it/s]\n",
      "100%|██████████████████████████████████████| 6162/6162 [00:22<00:00, 279.96it/s]\n"
     ]
    }
   ],
   "source": [
    "# vap and population have the same GEOID20\n",
    "blocks_to_precincts_assignment = maup.assign(population_df.geometry, vest_base.geometry)"
   ]
  },
  {
   "cell_type": "code",
   "execution_count": 35,
   "metadata": {},
   "outputs": [],
   "source": [
    "vest_base[pop_col] = population_df[pop_col].groupby(blocks_to_precincts_assignment).sum()"
   ]
  },
  {
   "cell_type": "code",
   "execution_count": 36,
   "metadata": {},
   "outputs": [],
   "source": [
    "election_df = gpd.GeoDataFrame(vest_base)"
   ]
  },
  {
   "cell_type": "code",
   "execution_count": 37,
   "metadata": {},
   "outputs": [
    {
     "data": {
      "text/plain": [
       "Index(['COUNTY', 'PCT_STD', 'PRE20D', 'PRE20O', 'PRE20R', 'PRECINCT',\n",
       "       'geometry', 'TOTPOP', 'HISP', 'NH_WHITE', 'NH_BLACK', 'NH_AMIN',\n",
       "       'NH_ASIAN', 'NH_NHPI', 'NH_OTHER', 'NH_2MORE', 'H_WHITE', 'H_BLACK',\n",
       "       'H_AMIN', 'H_ASIAN', 'H_NHPI', 'H_OTHER', 'H_2MORE', 'VAP', 'HVAP',\n",
       "       'WVAP', 'BVAP', 'AMINVAP', 'ASIANVAP', 'NHPIVAP', 'OTHERVAP',\n",
       "       '2MOREVAP'],\n",
       "      dtype='object')"
      ]
     },
     "execution_count": 37,
     "metadata": {},
     "output_type": "execute_result"
    }
   ],
   "source": [
    "election_df.columns"
   ]
  },
  {
   "cell_type": "markdown",
   "metadata": {},
   "source": [
    "## Check if population agrees"
   ]
  },
  {
   "cell_type": "code",
   "execution_count": 39,
   "metadata": {},
   "outputs": [
    {
     "name": "stdout",
     "output_type": "stream",
     "text": [
      "population agrees\n"
     ]
    }
   ],
   "source": [
    "check_population(population_df, vest_base)"
   ]
  },
  {
   "cell_type": "markdown",
   "metadata": {},
   "source": [
    "## Add more vest data"
   ]
  },
  {
   "cell_type": "code",
   "execution_count": 41,
   "metadata": {},
   "outputs": [],
   "source": [
    "vest18 = gpd.read_file(vest18_data)\n",
    "vest16 = gpd.read_file(vest16_data)"
   ]
  },
  {
   "cell_type": "code",
   "execution_count": 42,
   "metadata": {},
   "outputs": [
    {
     "data": {
      "text/plain": [
       "Index(['COUNTY', 'PRECINCT', 'PCT_STD', 'G18USSRSCO', 'G18USSDNEL',\n",
       "       'G18USSOWRI', 'G18GOVRDES', 'G18GOVDGIL', 'G18GOVORIC', 'G18GOVNGIB',\n",
       "       'G18GOVNFOL', 'G18GOVNSTA', 'G18GOVOWRI', 'G18ATGRMOO', 'G18ATGDSHA',\n",
       "       'G18ATGNSIS', 'G18CFORPAT', 'G18CFODRIN', 'G18CFOOWRI', 'G18AGRRCAL',\n",
       "       'G18AGRDFRI', 'geometry'],\n",
       "      dtype='object')"
      ]
     },
     "execution_count": 42,
     "metadata": {},
     "output_type": "execute_result"
    }
   ],
   "source": [
    "vest18.columns"
   ]
  },
  {
   "cell_type": "code",
   "execution_count": 43,
   "metadata": {},
   "outputs": [
    {
     "data": {
      "text/plain": [
       "Index(['COUNTY', 'PRECINCT', 'PCT_STD', 'G16PRERTRU', 'G16PREDCLI',\n",
       "       'G16PRELJOH', 'G16PRECCAS', 'G16PREGSTE', 'G16PREODEL', 'G16PREOWRI',\n",
       "       'G16USSRRUB', 'G16USSDMUR', 'G16USSLSTA', 'G16USSNKHO', 'G16USSNNAT',\n",
       "       'G16USSNMAC', 'G16USSNDAL', 'G16USSOWRI', 'geometry'],\n",
       "      dtype='object')"
      ]
     },
     "execution_count": 43,
     "metadata": {},
     "output_type": "execute_result"
    }
   ],
   "source": [
    "vest16.columns"
   ]
  },
  {
   "cell_type": "code",
   "execution_count": 44,
   "metadata": {},
   "outputs": [
    {
     "name": "stdout",
     "output_type": "stream",
     "text": [
      "Snapping all geometries to a grid with precision 10^( -3 ) to avoid GEOS errors.\n",
      "Identifying overlaps...\n"
     ]
    },
    {
     "name": "stderr",
     "output_type": "stream",
     "text": [
      "100%|█████████████████████████████████████| 8201/8201 [00:04<00:00, 1736.49it/s]\n"
     ]
    },
    {
     "name": "stdout",
     "output_type": "stream",
     "text": [
      "Resolving overlaps...\n",
      "Assigning order 2 pieces...\n",
      "Assigning order 3 pieces...\n",
      "4 gaps will remain unfilled, because they either are not simply connected or exceed the area threshold.\n",
      "Filling gaps...\n"
     ]
    },
    {
     "name": "stderr",
     "output_type": "stream",
     "text": [
      "Gaps to simplify: 100%|███████████████████████████| 1/1 [00:00<00:00,  1.31it/s]\n",
      "Gaps to fill: 0it [00:00, ?it/s]\n"
     ]
    },
    {
     "name": "stdout",
     "output_type": "stream",
     "text": [
      "Converting small rook adjacencies to queen...\n"
     ]
    },
    {
     "name": "stderr",
     "output_type": "stream",
     "text": [
      "100%|█████████████████████████████████████| 6162/6162 [00:04<00:00, 1489.38it/s]\n",
      "100%|███████████████████████████████████████████| 5/5 [00:00<00:00, 3117.05it/s]\n"
     ]
    }
   ],
   "source": [
    "election_df = smart_repair(election_df, min_rook_length = 30.5, snap_precision=8)"
   ]
  },
  {
   "cell_type": "code",
   "execution_count": 45,
   "metadata": {},
   "outputs": [
    {
     "name": "stdout",
     "output_type": "stream",
     "text": [
      "Snapping all geometries to a grid with precision 10^( -3 ) to avoid GEOS errors.\n",
      "Identifying overlaps...\n"
     ]
    },
    {
     "name": "stderr",
     "output_type": "stream",
     "text": [
      "100%|█████████████████████████████████████| 8194/8194 [00:04<00:00, 1747.24it/s]\n"
     ]
    },
    {
     "name": "stdout",
     "output_type": "stream",
     "text": [
      "Resolving overlaps...\n",
      "4 gaps will remain unfilled, because they either are not simply connected or exceed the area threshold.\n",
      "Filling gaps...\n"
     ]
    },
    {
     "name": "stderr",
     "output_type": "stream",
     "text": [
      "Gaps to simplify: 0it [00:00, ?it/s]\n",
      "Gaps to fill: 0it [00:00, ?it/s]"
     ]
    },
    {
     "name": "stdout",
     "output_type": "stream",
     "text": [
      "Converting small rook adjacencies to queen...\n"
     ]
    },
    {
     "name": "stderr",
     "output_type": "stream",
     "text": [
      "\n",
      "100%|█████████████████████████████████████| 6162/6162 [00:04<00:00, 1473.07it/s]\n"
     ]
    }
   ],
   "source": [
    "election_df = smart_repair(election_df, min_rook_length = 30.5, snap_precision=8)"
   ]
  },
  {
   "cell_type": "code",
   "execution_count": 46,
   "metadata": {},
   "outputs": [
    {
     "name": "stderr",
     "output_type": "stream",
     "text": [
      "100%|█████████████████████████████████████| 6162/6162 [00:04<00:00, 1490.40it/s]\n"
     ]
    },
    {
     "name": "stdout",
     "output_type": "stream",
     "text": [
      "There are 4 holes.\n"
     ]
    },
    {
     "data": {
      "text/plain": [
       "False"
      ]
     },
     "execution_count": 46,
     "metadata": {},
     "output_type": "execute_result"
    }
   ],
   "source": [
    "maup.doctor(election_df)"
   ]
  },
  {
   "cell_type": "code",
   "execution_count": 47,
   "metadata": {},
   "outputs": [
    {
     "data": {
      "text/html": [
       "<div>\n",
       "<style scoped>\n",
       "    .dataframe tbody tr th:only-of-type {\n",
       "        vertical-align: middle;\n",
       "    }\n",
       "\n",
       "    .dataframe tbody tr th {\n",
       "        vertical-align: top;\n",
       "    }\n",
       "\n",
       "    .dataframe thead th {\n",
       "        text-align: right;\n",
       "    }\n",
       "</style>\n",
       "<table border=\"1\" class=\"dataframe\">\n",
       "  <thead>\n",
       "    <tr style=\"text-align: right;\">\n",
       "      <th></th>\n",
       "      <th>COUNTY</th>\n",
       "      <th>PCT_STD</th>\n",
       "      <th>PRE20D</th>\n",
       "      <th>PRE20O</th>\n",
       "      <th>PRE20R</th>\n",
       "      <th>PRECINCT</th>\n",
       "      <th>geometry</th>\n",
       "      <th>TOTPOP</th>\n",
       "      <th>HISP</th>\n",
       "      <th>NH_WHITE</th>\n",
       "      <th>...</th>\n",
       "      <th>H_2MORE</th>\n",
       "      <th>VAP</th>\n",
       "      <th>HVAP</th>\n",
       "      <th>WVAP</th>\n",
       "      <th>BVAP</th>\n",
       "      <th>AMINVAP</th>\n",
       "      <th>ASIANVAP</th>\n",
       "      <th>NHPIVAP</th>\n",
       "      <th>OTHERVAP</th>\n",
       "      <th>2MOREVAP</th>\n",
       "    </tr>\n",
       "  </thead>\n",
       "  <tbody>\n",
       "    <tr>\n",
       "      <th>0</th>\n",
       "      <td>BAY</td>\n",
       "      <td>BAY0001</td>\n",
       "      <td>220</td>\n",
       "      <td>15</td>\n",
       "      <td>1330</td>\n",
       "      <td>1</td>\n",
       "      <td>POLYGON ((68879.777 3376334.096, 68879.193 337...</td>\n",
       "      <td>4062.0</td>\n",
       "      <td>204.0</td>\n",
       "      <td>3447.0</td>\n",
       "      <td>...</td>\n",
       "      <td>90.0</td>\n",
       "      <td>3130.0</td>\n",
       "      <td>131.0</td>\n",
       "      <td>2683.0</td>\n",
       "      <td>26.0</td>\n",
       "      <td>51.0</td>\n",
       "      <td>19.0</td>\n",
       "      <td>0.0</td>\n",
       "      <td>9.0</td>\n",
       "      <td>211.0</td>\n",
       "    </tr>\n",
       "    <tr>\n",
       "      <th>1</th>\n",
       "      <td>BAY</td>\n",
       "      <td>BAY0002</td>\n",
       "      <td>132</td>\n",
       "      <td>11</td>\n",
       "      <td>859</td>\n",
       "      <td>2</td>\n",
       "      <td>POLYGON ((78473.949 3375202.604, 78564.564 337...</td>\n",
       "      <td>1923.0</td>\n",
       "      <td>86.0</td>\n",
       "      <td>1691.0</td>\n",
       "      <td>...</td>\n",
       "      <td>34.0</td>\n",
       "      <td>1547.0</td>\n",
       "      <td>56.0</td>\n",
       "      <td>1387.0</td>\n",
       "      <td>15.0</td>\n",
       "      <td>8.0</td>\n",
       "      <td>3.0</td>\n",
       "      <td>1.0</td>\n",
       "      <td>1.0</td>\n",
       "      <td>76.0</td>\n",
       "    </tr>\n",
       "    <tr>\n",
       "      <th>2</th>\n",
       "      <td>BAY</td>\n",
       "      <td>BAY0004</td>\n",
       "      <td>362</td>\n",
       "      <td>33</td>\n",
       "      <td>2130</td>\n",
       "      <td>4</td>\n",
       "      <td>POLYGON ((70050.677 3361703.828, 70055.737 336...</td>\n",
       "      <td>5282.0</td>\n",
       "      <td>202.0</td>\n",
       "      <td>4665.0</td>\n",
       "      <td>...</td>\n",
       "      <td>74.0</td>\n",
       "      <td>4163.0</td>\n",
       "      <td>151.0</td>\n",
       "      <td>3716.0</td>\n",
       "      <td>57.0</td>\n",
       "      <td>16.0</td>\n",
       "      <td>13.0</td>\n",
       "      <td>1.0</td>\n",
       "      <td>11.0</td>\n",
       "      <td>198.0</td>\n",
       "    </tr>\n",
       "    <tr>\n",
       "      <th>3</th>\n",
       "      <td>BAY</td>\n",
       "      <td>BAY0005</td>\n",
       "      <td>324</td>\n",
       "      <td>24</td>\n",
       "      <td>2286</td>\n",
       "      <td>5</td>\n",
       "      <td>POLYGON ((58807.518 3363318.950, 58819.221 336...</td>\n",
       "      <td>4863.0</td>\n",
       "      <td>230.0</td>\n",
       "      <td>4265.0</td>\n",
       "      <td>...</td>\n",
       "      <td>98.0</td>\n",
       "      <td>3639.0</td>\n",
       "      <td>153.0</td>\n",
       "      <td>3208.0</td>\n",
       "      <td>58.0</td>\n",
       "      <td>22.0</td>\n",
       "      <td>33.0</td>\n",
       "      <td>3.0</td>\n",
       "      <td>3.0</td>\n",
       "      <td>159.0</td>\n",
       "    </tr>\n",
       "    <tr>\n",
       "      <th>4</th>\n",
       "      <td>BAY</td>\n",
       "      <td>BAY0006</td>\n",
       "      <td>497</td>\n",
       "      <td>34</td>\n",
       "      <td>2799</td>\n",
       "      <td>6</td>\n",
       "      <td>POLYGON ((58770.051 3361447.790, 58669.183 336...</td>\n",
       "      <td>5770.0</td>\n",
       "      <td>210.0</td>\n",
       "      <td>5061.0</td>\n",
       "      <td>...</td>\n",
       "      <td>88.0</td>\n",
       "      <td>4579.0</td>\n",
       "      <td>155.0</td>\n",
       "      <td>4059.0</td>\n",
       "      <td>68.0</td>\n",
       "      <td>27.0</td>\n",
       "      <td>32.0</td>\n",
       "      <td>6.0</td>\n",
       "      <td>4.0</td>\n",
       "      <td>228.0</td>\n",
       "    </tr>\n",
       "    <tr>\n",
       "      <th>...</th>\n",
       "      <td>...</td>\n",
       "      <td>...</td>\n",
       "      <td>...</td>\n",
       "      <td>...</td>\n",
       "      <td>...</td>\n",
       "      <td>...</td>\n",
       "      <td>...</td>\n",
       "      <td>...</td>\n",
       "      <td>...</td>\n",
       "      <td>...</td>\n",
       "      <td>...</td>\n",
       "      <td>...</td>\n",
       "      <td>...</td>\n",
       "      <td>...</td>\n",
       "      <td>...</td>\n",
       "      <td>...</td>\n",
       "      <td>...</td>\n",
       "      <td>...</td>\n",
       "      <td>...</td>\n",
       "      <td>...</td>\n",
       "      <td>...</td>\n",
       "    </tr>\n",
       "    <tr>\n",
       "      <th>6157</th>\n",
       "      <td>OSC</td>\n",
       "      <td>OSC0999</td>\n",
       "      <td>3</td>\n",
       "      <td>0</td>\n",
       "      <td>4</td>\n",
       "      <td>999</td>\n",
       "      <td>POLYGON ((466692.971 3127956.516, 466662.504 3...</td>\n",
       "      <td>NaN</td>\n",
       "      <td>NaN</td>\n",
       "      <td>NaN</td>\n",
       "      <td>...</td>\n",
       "      <td>NaN</td>\n",
       "      <td>NaN</td>\n",
       "      <td>NaN</td>\n",
       "      <td>NaN</td>\n",
       "      <td>NaN</td>\n",
       "      <td>NaN</td>\n",
       "      <td>NaN</td>\n",
       "      <td>NaN</td>\n",
       "      <td>NaN</td>\n",
       "      <td>NaN</td>\n",
       "    </tr>\n",
       "    <tr>\n",
       "      <th>6158</th>\n",
       "      <td>MON</td>\n",
       "      <td>MON0005</td>\n",
       "      <td>1705</td>\n",
       "      <td>52</td>\n",
       "      <td>999</td>\n",
       "      <td>5</td>\n",
       "      <td>MULTIPOLYGON (((420022.297 2709301.768, 419954...</td>\n",
       "      <td>2408.0</td>\n",
       "      <td>273.0</td>\n",
       "      <td>1909.0</td>\n",
       "      <td>...</td>\n",
       "      <td>136.0</td>\n",
       "      <td>2220.0</td>\n",
       "      <td>215.0</td>\n",
       "      <td>1822.0</td>\n",
       "      <td>84.0</td>\n",
       "      <td>1.0</td>\n",
       "      <td>29.0</td>\n",
       "      <td>1.0</td>\n",
       "      <td>7.0</td>\n",
       "      <td>61.0</td>\n",
       "    </tr>\n",
       "    <tr>\n",
       "      <th>6159</th>\n",
       "      <td>MON</td>\n",
       "      <td>MON0999</td>\n",
       "      <td>5</td>\n",
       "      <td>1</td>\n",
       "      <td>10</td>\n",
       "      <td>999</td>\n",
       "      <td>POLYGON ((418628.480 2715816.774, 418624.770 2...</td>\n",
       "      <td>NaN</td>\n",
       "      <td>NaN</td>\n",
       "      <td>NaN</td>\n",
       "      <td>...</td>\n",
       "      <td>NaN</td>\n",
       "      <td>NaN</td>\n",
       "      <td>NaN</td>\n",
       "      <td>NaN</td>\n",
       "      <td>NaN</td>\n",
       "      <td>NaN</td>\n",
       "      <td>NaN</td>\n",
       "      <td>NaN</td>\n",
       "      <td>NaN</td>\n",
       "      <td>NaN</td>\n",
       "    </tr>\n",
       "    <tr>\n",
       "      <th>6160</th>\n",
       "      <td>FLA</td>\n",
       "      <td>FLA0009</td>\n",
       "      <td>1025</td>\n",
       "      <td>23</td>\n",
       "      <td>1569</td>\n",
       "      <td>9</td>\n",
       "      <td>POLYGON ((478402.651 3255324.547, 478348.409 3...</td>\n",
       "      <td>5091.0</td>\n",
       "      <td>556.0</td>\n",
       "      <td>3661.0</td>\n",
       "      <td>...</td>\n",
       "      <td>200.0</td>\n",
       "      <td>4059.0</td>\n",
       "      <td>396.0</td>\n",
       "      <td>3008.0</td>\n",
       "      <td>395.0</td>\n",
       "      <td>12.0</td>\n",
       "      <td>61.0</td>\n",
       "      <td>1.0</td>\n",
       "      <td>27.0</td>\n",
       "      <td>159.0</td>\n",
       "    </tr>\n",
       "    <tr>\n",
       "      <th>6161</th>\n",
       "      <td>FLA</td>\n",
       "      <td>FLA0999</td>\n",
       "      <td>12</td>\n",
       "      <td>2</td>\n",
       "      <td>8</td>\n",
       "      <td>999</td>\n",
       "      <td>POLYGON ((476279.880 3260387.453, 476145.234 3...</td>\n",
       "      <td>NaN</td>\n",
       "      <td>NaN</td>\n",
       "      <td>NaN</td>\n",
       "      <td>...</td>\n",
       "      <td>NaN</td>\n",
       "      <td>NaN</td>\n",
       "      <td>NaN</td>\n",
       "      <td>NaN</td>\n",
       "      <td>NaN</td>\n",
       "      <td>NaN</td>\n",
       "      <td>NaN</td>\n",
       "      <td>NaN</td>\n",
       "      <td>NaN</td>\n",
       "      <td>NaN</td>\n",
       "    </tr>\n",
       "  </tbody>\n",
       "</table>\n",
       "<p>6162 rows × 32 columns</p>\n",
       "</div>"
      ],
      "text/plain": [
       "     COUNTY  PCT_STD  PRE20D  PRE20O  PRE20R PRECINCT  \\\n",
       "0       BAY  BAY0001     220      15    1330        1   \n",
       "1       BAY  BAY0002     132      11     859        2   \n",
       "2       BAY  BAY0004     362      33    2130        4   \n",
       "3       BAY  BAY0005     324      24    2286        5   \n",
       "4       BAY  BAY0006     497      34    2799        6   \n",
       "...     ...      ...     ...     ...     ...      ...   \n",
       "6157    OSC  OSC0999       3       0       4      999   \n",
       "6158    MON  MON0005    1705      52     999        5   \n",
       "6159    MON  MON0999       5       1      10      999   \n",
       "6160    FLA  FLA0009    1025      23    1569        9   \n",
       "6161    FLA  FLA0999      12       2       8      999   \n",
       "\n",
       "                                               geometry  TOTPOP   HISP  \\\n",
       "0     POLYGON ((68879.777 3376334.096, 68879.193 337...  4062.0  204.0   \n",
       "1     POLYGON ((78473.949 3375202.604, 78564.564 337...  1923.0   86.0   \n",
       "2     POLYGON ((70050.677 3361703.828, 70055.737 336...  5282.0  202.0   \n",
       "3     POLYGON ((58807.518 3363318.950, 58819.221 336...  4863.0  230.0   \n",
       "4     POLYGON ((58770.051 3361447.790, 58669.183 336...  5770.0  210.0   \n",
       "...                                                 ...     ...    ...   \n",
       "6157  POLYGON ((466692.971 3127956.516, 466662.504 3...     NaN    NaN   \n",
       "6158  MULTIPOLYGON (((420022.297 2709301.768, 419954...  2408.0  273.0   \n",
       "6159  POLYGON ((418628.480 2715816.774, 418624.770 2...     NaN    NaN   \n",
       "6160  POLYGON ((478402.651 3255324.547, 478348.409 3...  5091.0  556.0   \n",
       "6161  POLYGON ((476279.880 3260387.453, 476145.234 3...     NaN    NaN   \n",
       "\n",
       "      NH_WHITE  ...  H_2MORE     VAP   HVAP    WVAP   BVAP  AMINVAP  ASIANVAP  \\\n",
       "0       3447.0  ...     90.0  3130.0  131.0  2683.0   26.0     51.0      19.0   \n",
       "1       1691.0  ...     34.0  1547.0   56.0  1387.0   15.0      8.0       3.0   \n",
       "2       4665.0  ...     74.0  4163.0  151.0  3716.0   57.0     16.0      13.0   \n",
       "3       4265.0  ...     98.0  3639.0  153.0  3208.0   58.0     22.0      33.0   \n",
       "4       5061.0  ...     88.0  4579.0  155.0  4059.0   68.0     27.0      32.0   \n",
       "...        ...  ...      ...     ...    ...     ...    ...      ...       ...   \n",
       "6157       NaN  ...      NaN     NaN    NaN     NaN    NaN      NaN       NaN   \n",
       "6158    1909.0  ...    136.0  2220.0  215.0  1822.0   84.0      1.0      29.0   \n",
       "6159       NaN  ...      NaN     NaN    NaN     NaN    NaN      NaN       NaN   \n",
       "6160    3661.0  ...    200.0  4059.0  396.0  3008.0  395.0     12.0      61.0   \n",
       "6161       NaN  ...      NaN     NaN    NaN     NaN    NaN      NaN       NaN   \n",
       "\n",
       "      NHPIVAP  OTHERVAP  2MOREVAP  \n",
       "0         0.0       9.0     211.0  \n",
       "1         1.0       1.0      76.0  \n",
       "2         1.0      11.0     198.0  \n",
       "3         3.0       3.0     159.0  \n",
       "4         6.0       4.0     228.0  \n",
       "...       ...       ...       ...  \n",
       "6157      NaN       NaN       NaN  \n",
       "6158      1.0       7.0      61.0  \n",
       "6159      NaN       NaN       NaN  \n",
       "6160      1.0      27.0     159.0  \n",
       "6161      NaN       NaN       NaN  \n",
       "\n",
       "[6162 rows x 32 columns]"
      ]
     },
     "execution_count": 47,
     "metadata": {},
     "output_type": "execute_result"
    }
   ],
   "source": [
    "election_df"
   ]
  },
  {
   "cell_type": "code",
   "execution_count": 48,
   "metadata": {},
   "outputs": [
    {
     "name": "stderr",
     "output_type": "stream",
     "text": [
      "100%|█████████████████████████████████████| 6152/6152 [00:04<00:00, 1508.80it/s]\n"
     ]
    },
    {
     "name": "stdout",
     "output_type": "stream",
     "text": [
      "There are 2683 overlaps.\n",
      "There are 13705 holes.\n",
      "There are some invalid geometries.\n",
      "Snapping all geometries to a grid with precision 10^( -3 ) to avoid GEOS errors.\n",
      "Identifying overlaps...\n"
     ]
    },
    {
     "name": "stderr",
     "output_type": "stream",
     "text": [
      "100%|███████████████████████████████████| 26504/26504 [00:14<00:00, 1799.85it/s]\n"
     ]
    },
    {
     "name": "stdout",
     "output_type": "stream",
     "text": [
      "Resolving overlaps...\n",
      "Assigning order 2 pieces...\n",
      "Assigning order 3 pieces...\n",
      "4 gaps will remain unfilled, because they either are not simply connected or exceed the area threshold.\n",
      "Filling gaps...\n"
     ]
    },
    {
     "name": "stderr",
     "output_type": "stream",
     "text": [
      "Gaps to simplify: 8658it [2:00:25,  1.20it/s]                                   \n",
      "Gaps to fill: 100%|███████████████████████████| 548/548 [16:45<00:00,  1.84s/it]\n",
      "100%|█████████████████████████████████████| 6152/6152 [00:05<00:00, 1209.09it/s]\n"
     ]
    },
    {
     "name": "stdout",
     "output_type": "stream",
     "text": [
      "There are 4 holes.\n",
      "maup doctor failed!  Please investigate\n"
     ]
    },
    {
     "name": "stderr",
     "output_type": "stream",
     "text": [
      "100%|█████████████████████████████████████| 6152/6152 [00:06<00:00, 1003.90it/s]\n",
      "100%|██████████████████████████████████████| 6152/6152 [00:21<00:00, 281.69it/s]\n",
      "100%|██████████████████████████████████████| 6162/6162 [00:07<00:00, 854.26it/s]\n",
      "100%|██████████████████████████████████████| 6162/6162 [00:21<00:00, 288.33it/s]\n"
     ]
    },
    {
     "name": "stdout",
     "output_type": "stream",
     "text": [
      "population agrees\n"
     ]
    }
   ],
   "source": [
    "# check the result here\n",
    "election_df = add_vest(vest18, election_df, '18', population_df, start_col)"
   ]
  },
  {
   "cell_type": "code",
   "execution_count": 49,
   "metadata": {},
   "outputs": [
    {
     "data": {
      "text/plain": [
       "Index(['2MOREVAP', 'AGR18D', 'AGR18R', 'AMINVAP', 'ASIANVAP', 'ATG18D',\n",
       "       'ATG18O', 'ATG18R', 'BVAP', 'CFO18D', 'CFO18O', 'CFO18R', 'COUNTY',\n",
       "       'GOV18D', 'GOV18O', 'GOV18R', 'HISP', 'HVAP', 'H_2MORE', 'H_AMIN',\n",
       "       'H_ASIAN', 'H_BLACK', 'H_NHPI', 'H_OTHER', 'H_WHITE', 'NHPIVAP',\n",
       "       'NH_2MORE', 'NH_AMIN', 'NH_ASIAN', 'NH_BLACK', 'NH_NHPI', 'NH_OTHER',\n",
       "       'NH_WHITE', 'OTHERVAP', 'PCT_STD', 'PRE20D', 'PRE20O', 'PRE20R',\n",
       "       'PRECINCT', 'TOTPOP', 'USS18D', 'USS18O', 'USS18R', 'VAP', 'WVAP',\n",
       "       'geometry'],\n",
       "      dtype='object')"
      ]
     },
     "execution_count": 49,
     "metadata": {},
     "output_type": "execute_result"
    }
   ],
   "source": [
    "election_df.columns"
   ]
  },
  {
   "cell_type": "code",
   "execution_count": 50,
   "metadata": {},
   "outputs": [
    {
     "name": "stderr",
     "output_type": "stream",
     "text": [
      "100%|█████████████████████████████████████| 6116/6116 [00:04<00:00, 1455.86it/s]\n"
     ]
    },
    {
     "name": "stdout",
     "output_type": "stream",
     "text": [
      "There are 2331 overlaps.\n",
      "There are 13008 holes.\n",
      "There are some invalid geometries.\n",
      "Snapping all geometries to a grid with precision 10^( -3 ) to avoid GEOS errors.\n",
      "Identifying overlaps...\n"
     ]
    },
    {
     "name": "stderr",
     "output_type": "stream",
     "text": [
      "100%|███████████████████████████████████| 24599/24599 [00:12<00:00, 2040.26it/s]\n"
     ]
    },
    {
     "name": "stdout",
     "output_type": "stream",
     "text": [
      "Resolving overlaps...\n",
      "Assigning order 2 pieces...\n",
      "Assigning order 3 pieces...\n",
      "5 gaps will remain unfilled, because they either are not simply connected or exceed the area threshold.\n",
      "Filling gaps...\n"
     ]
    },
    {
     "name": "stderr",
     "output_type": "stream",
     "text": [
      "Gaps to simplify: 7783it [1:46:42,  1.22it/s]                                   \n",
      "Gaps to fill: 100%|███████████████████████████| 547/547 [15:51<00:00,  1.74s/it]\n"
     ]
    },
    {
     "name": "stdout",
     "output_type": "stream",
     "text": [
      "WARNING: A component of the geometry at index 1727 may have been disconnected!\n",
      "WARNING: A component of the geometry at index 2687 may have been disconnected!\n"
     ]
    },
    {
     "name": "stderr",
     "output_type": "stream",
     "text": [
      "100%|█████████████████████████████████████| 6116/6116 [00:04<00:00, 1519.38it/s]\n"
     ]
    },
    {
     "name": "stdout",
     "output_type": "stream",
     "text": [
      "There are 5 holes.\n",
      "maup doctor failed!  Please investigate\n"
     ]
    },
    {
     "name": "stderr",
     "output_type": "stream",
     "text": [
      "100%|██████████████████████████████████████| 6116/6116 [00:06<00:00, 995.02it/s]\n",
      "100%|██████████████████████████████████████| 6116/6116 [00:18<00:00, 322.33it/s]\n",
      "100%|█████████████████████████████████████| 6162/6162 [00:05<00:00, 1045.80it/s]\n",
      "100%|██████████████████████████████████████| 6162/6162 [00:19<00:00, 319.11it/s]\n"
     ]
    },
    {
     "name": "stdout",
     "output_type": "stream",
     "text": [
      "population agrees\n"
     ]
    }
   ],
   "source": [
    "election_df = add_vest(vest16, election_df, '16', population_df, start_col)"
   ]
  },
  {
   "cell_type": "code",
   "execution_count": 51,
   "metadata": {},
   "outputs": [
    {
     "name": "stdout",
     "output_type": "stream",
     "text": [
      "Snapping all geometries to a grid with precision 10^( -3 ) to avoid GEOS errors.\n",
      "Identifying overlaps...\n"
     ]
    },
    {
     "name": "stderr",
     "output_type": "stream",
     "text": [
      "100%|█████████████████████████████████████| 8194/8194 [00:04<00:00, 1795.03it/s]\n"
     ]
    },
    {
     "name": "stdout",
     "output_type": "stream",
     "text": [
      "Resolving overlaps...\n",
      "4 gaps will remain unfilled, because they either are not simply connected or exceed the area threshold.\n",
      "Filling gaps...\n"
     ]
    },
    {
     "name": "stderr",
     "output_type": "stream",
     "text": [
      "Gaps to simplify: 0it [00:00, ?it/s]\n",
      "Gaps to fill: 0it [00:00, ?it/s]\n"
     ]
    }
   ],
   "source": [
    "election_df = smart_repair(election_df, snap_precision=8)"
   ]
  },
  {
   "cell_type": "markdown",
   "metadata": {},
   "source": [
    "##  Add the district data"
   ]
  },
  {
   "cell_type": "code",
   "execution_count": 53,
   "metadata": {},
   "outputs": [],
   "source": [
    "cong_df = gpd.read_file(cd_data)\n",
    "cong_df = cong_df.to_crs(cong_df.estimate_utm_crs())\n",
    "send = gpd.read_file(send_data)\n",
    "send = send.to_crs(send.estimate_utm_crs())\n",
    "hdist = gpd.read_file(hdist_data)\n",
    "hdist = hdist.to_crs(hdist.estimate_utm_crs())"
   ]
  },
  {
   "cell_type": "code",
   "execution_count": 54,
   "metadata": {},
   "outputs": [
    {
     "data": {
      "text/html": [
       "<div>\n",
       "<style scoped>\n",
       "    .dataframe tbody tr th:only-of-type {\n",
       "        vertical-align: middle;\n",
       "    }\n",
       "\n",
       "    .dataframe tbody tr th {\n",
       "        vertical-align: top;\n",
       "    }\n",
       "\n",
       "    .dataframe thead th {\n",
       "        text-align: right;\n",
       "    }\n",
       "</style>\n",
       "<table border=\"1\" class=\"dataframe\">\n",
       "  <thead>\n",
       "    <tr style=\"text-align: right;\">\n",
       "      <th></th>\n",
       "      <th>LONGNAME</th>\n",
       "      <th>SHORTNAME</th>\n",
       "      <th>DISTRICT</th>\n",
       "      <th>COLOR</th>\n",
       "      <th>TOTAL</th>\n",
       "      <th>TARGET_DEV</th>\n",
       "      <th>geometry</th>\n",
       "    </tr>\n",
       "  </thead>\n",
       "  <tbody>\n",
       "    <tr>\n",
       "      <th>0</th>\n",
       "      <td>District 1</td>\n",
       "      <td>D1</td>\n",
       "      <td>1</td>\n",
       "      <td>-190427942</td>\n",
       "      <td>769221</td>\n",
       "      <td>0</td>\n",
       "      <td>POLYGON ((-52798.886 3443672.228, -52073.607 3...</td>\n",
       "    </tr>\n",
       "    <tr>\n",
       "      <th>1</th>\n",
       "      <td>District 2</td>\n",
       "      <td>D2</td>\n",
       "      <td>2</td>\n",
       "      <td>-112762508</td>\n",
       "      <td>769221</td>\n",
       "      <td>0</td>\n",
       "      <td>POLYGON ((6801.621 3411477.544, 6805.621 34115...</td>\n",
       "    </tr>\n",
       "    <tr>\n",
       "      <th>2</th>\n",
       "      <td>District 3</td>\n",
       "      <td>D3</td>\n",
       "      <td>3</td>\n",
       "      <td>-116800934</td>\n",
       "      <td>769221</td>\n",
       "      <td>0</td>\n",
       "      <td>POLYGON ((291403.592 3363472.821, 291397.795 3...</td>\n",
       "    </tr>\n",
       "    <tr>\n",
       "      <th>3</th>\n",
       "      <td>District 4</td>\n",
       "      <td>D4</td>\n",
       "      <td>4</td>\n",
       "      <td>329774720</td>\n",
       "      <td>769221</td>\n",
       "      <td>0</td>\n",
       "      <td>POLYGON ((399079.077 3349550.980, 399074.104 3...</td>\n",
       "    </tr>\n",
       "    <tr>\n",
       "      <th>4</th>\n",
       "      <td>District 5</td>\n",
       "      <td>D5</td>\n",
       "      <td>5</td>\n",
       "      <td>-9183360</td>\n",
       "      <td>769221</td>\n",
       "      <td>0</td>\n",
       "      <td>POLYGON ((469197.125 3346855.478, 469345.109 3...</td>\n",
       "    </tr>\n",
       "  </tbody>\n",
       "</table>\n",
       "</div>"
      ],
      "text/plain": [
       "     LONGNAME SHORTNAME  DISTRICT      COLOR   TOTAL  TARGET_DEV  \\\n",
       "0  District 1        D1         1 -190427942  769221           0   \n",
       "1  District 2        D2         2 -112762508  769221           0   \n",
       "2  District 3        D3         3 -116800934  769221           0   \n",
       "3  District 4        D4         4  329774720  769221           0   \n",
       "4  District 5        D5         5   -9183360  769221           0   \n",
       "\n",
       "                                            geometry  \n",
       "0  POLYGON ((-52798.886 3443672.228, -52073.607 3...  \n",
       "1  POLYGON ((6801.621 3411477.544, 6805.621 34115...  \n",
       "2  POLYGON ((291403.592 3363472.821, 291397.795 3...  \n",
       "3  POLYGON ((399079.077 3349550.980, 399074.104 3...  \n",
       "4  POLYGON ((469197.125 3346855.478, 469345.109 3...  "
      ]
     },
     "execution_count": 54,
     "metadata": {},
     "output_type": "execute_result"
    }
   ],
   "source": [
    "cong_df.head()"
   ]
  },
  {
   "cell_type": "code",
   "execution_count": 55,
   "metadata": {},
   "outputs": [
    {
     "name": "stderr",
     "output_type": "stream",
     "text": [
      "100%|██████████████████████████████████████████| 28/28 [00:00<00:00, 262.47it/s]\n",
      "100%|██████████████████████████████████████████| 28/28 [00:00<00:00, 300.47it/s]\n",
      "100%|███████████████████████████████████████████| 28/28 [00:00<00:00, 69.37it/s]\n"
     ]
    }
   ],
   "source": [
    "election_df = add_district(cong_df, \"CD\", election_df, \"DISTRICT\")"
   ]
  },
  {
   "cell_type": "code",
   "execution_count": 56,
   "metadata": {},
   "outputs": [
    {
     "data": {
      "text/html": [
       "<div>\n",
       "<style scoped>\n",
       "    .dataframe tbody tr th:only-of-type {\n",
       "        vertical-align: middle;\n",
       "    }\n",
       "\n",
       "    .dataframe tbody tr th {\n",
       "        vertical-align: top;\n",
       "    }\n",
       "\n",
       "    .dataframe thead th {\n",
       "        text-align: right;\n",
       "    }\n",
       "</style>\n",
       "<table border=\"1\" class=\"dataframe\">\n",
       "  <thead>\n",
       "    <tr style=\"text-align: right;\">\n",
       "      <th></th>\n",
       "      <th>LONGNAME</th>\n",
       "      <th>SHORTNAME</th>\n",
       "      <th>DISTRICT</th>\n",
       "      <th>COLOR</th>\n",
       "      <th>TOTAL</th>\n",
       "      <th>TARGET_DEV</th>\n",
       "      <th>SRWVAP</th>\n",
       "      <th>SRWVAP_P</th>\n",
       "      <th>NHBVAP</th>\n",
       "      <th>NHBVAP_P</th>\n",
       "      <th>...</th>\n",
       "      <th>HBVAP_P</th>\n",
       "      <th>HXBVAP</th>\n",
       "      <th>HXBVAP_P</th>\n",
       "      <th>OTHVAP</th>\n",
       "      <th>OTHVAP_P</th>\n",
       "      <th>BVAP</th>\n",
       "      <th>BVAP_P</th>\n",
       "      <th>HVAP</th>\n",
       "      <th>HVAP_P</th>\n",
       "      <th>geometry</th>\n",
       "    </tr>\n",
       "  </thead>\n",
       "  <tbody>\n",
       "    <tr>\n",
       "      <th>0</th>\n",
       "      <td>District 1</td>\n",
       "      <td>D1</td>\n",
       "      <td>1</td>\n",
       "      <td>-192953100</td>\n",
       "      <td>539263</td>\n",
       "      <td>0.15</td>\n",
       "      <td>302734</td>\n",
       "      <td>71.21</td>\n",
       "      <td>64925</td>\n",
       "      <td>15.27</td>\n",
       "      <td>...</td>\n",
       "      <td>0.35</td>\n",
       "      <td>22701</td>\n",
       "      <td>5.34</td>\n",
       "      <td>33265</td>\n",
       "      <td>7.82</td>\n",
       "      <td>66429</td>\n",
       "      <td>15.63</td>\n",
       "      <td>24205</td>\n",
       "      <td>5.69</td>\n",
       "      <td>POLYGON ((-88962.543 3445849.842, -88951.994 3...</td>\n",
       "    </tr>\n",
       "    <tr>\n",
       "      <th>1</th>\n",
       "      <td>District 2</td>\n",
       "      <td>D2</td>\n",
       "      <td>2</td>\n",
       "      <td>-38041984</td>\n",
       "      <td>538769</td>\n",
       "      <td>0.06</td>\n",
       "      <td>320663</td>\n",
       "      <td>75.05</td>\n",
       "      <td>46676</td>\n",
       "      <td>10.92</td>\n",
       "      <td>...</td>\n",
       "      <td>0.36</td>\n",
       "      <td>28893</td>\n",
       "      <td>6.76</td>\n",
       "      <td>29479</td>\n",
       "      <td>6.90</td>\n",
       "      <td>48210</td>\n",
       "      <td>11.28</td>\n",
       "      <td>30427</td>\n",
       "      <td>7.12</td>\n",
       "      <td>POLYGON ((77275.266 3349211.655, 77243.849 334...</td>\n",
       "    </tr>\n",
       "    <tr>\n",
       "      <th>2</th>\n",
       "      <td>District 3</td>\n",
       "      <td>D3</td>\n",
       "      <td>3</td>\n",
       "      <td>-104031936</td>\n",
       "      <td>541142</td>\n",
       "      <td>0.50</td>\n",
       "      <td>266964</td>\n",
       "      <td>61.09</td>\n",
       "      <td>117678</td>\n",
       "      <td>26.93</td>\n",
       "      <td>...</td>\n",
       "      <td>0.51</td>\n",
       "      <td>28626</td>\n",
       "      <td>6.55</td>\n",
       "      <td>21549</td>\n",
       "      <td>4.93</td>\n",
       "      <td>119888</td>\n",
       "      <td>27.43</td>\n",
       "      <td>30836</td>\n",
       "      <td>7.06</td>\n",
       "      <td>POLYGON ((211848.311 3397126.994, 211854.147 3...</td>\n",
       "    </tr>\n",
       "    <tr>\n",
       "      <th>3</th>\n",
       "      <td>District 4</td>\n",
       "      <td>D4</td>\n",
       "      <td>4</td>\n",
       "      <td>-45696</td>\n",
       "      <td>542508</td>\n",
       "      <td>0.75</td>\n",
       "      <td>298014</td>\n",
       "      <td>68.65</td>\n",
       "      <td>55786</td>\n",
       "      <td>12.85</td>\n",
       "      <td>...</td>\n",
       "      <td>0.69</td>\n",
       "      <td>36892</td>\n",
       "      <td>8.50</td>\n",
       "      <td>40415</td>\n",
       "      <td>9.31</td>\n",
       "      <td>58760</td>\n",
       "      <td>13.54</td>\n",
       "      <td>39866</td>\n",
       "      <td>9.18</td>\n",
       "      <td>POLYGON ((455436.438 3397695.867, 455463.032 3...</td>\n",
       "    </tr>\n",
       "    <tr>\n",
       "      <th>4</th>\n",
       "      <td>District 5</td>\n",
       "      <td>D5</td>\n",
       "      <td>5</td>\n",
       "      <td>-895104640</td>\n",
       "      <td>543411</td>\n",
       "      <td>0.92</td>\n",
       "      <td>177567</td>\n",
       "      <td>42.31</td>\n",
       "      <td>170244</td>\n",
       "      <td>40.56</td>\n",
       "      <td>...</td>\n",
       "      <td>1.06</td>\n",
       "      <td>39314</td>\n",
       "      <td>9.37</td>\n",
       "      <td>28142</td>\n",
       "      <td>6.71</td>\n",
       "      <td>174685</td>\n",
       "      <td>41.62</td>\n",
       "      <td>43755</td>\n",
       "      <td>10.43</td>\n",
       "      <td>POLYGON ((420484.584 3339989.321, 420432.398 3...</td>\n",
       "    </tr>\n",
       "  </tbody>\n",
       "</table>\n",
       "<p>5 rows × 21 columns</p>\n",
       "</div>"
      ],
      "text/plain": [
       "     LONGNAME SHORTNAME  DISTRICT      COLOR   TOTAL  TARGET_DEV  SRWVAP  \\\n",
       "0  District 1        D1         1 -192953100  539263        0.15  302734   \n",
       "1  District 2        D2         2  -38041984  538769        0.06  320663   \n",
       "2  District 3        D3         3 -104031936  541142        0.50  266964   \n",
       "3  District 4        D4         4     -45696  542508        0.75  298014   \n",
       "4  District 5        D5         5 -895104640  543411        0.92  177567   \n",
       "\n",
       "   SRWVAP_P  NHBVAP  NHBVAP_P  ...  HBVAP_P  HXBVAP  HXBVAP_P  OTHVAP  \\\n",
       "0     71.21   64925     15.27  ...     0.35   22701      5.34   33265   \n",
       "1     75.05   46676     10.92  ...     0.36   28893      6.76   29479   \n",
       "2     61.09  117678     26.93  ...     0.51   28626      6.55   21549   \n",
       "3     68.65   55786     12.85  ...     0.69   36892      8.50   40415   \n",
       "4     42.31  170244     40.56  ...     1.06   39314      9.37   28142   \n",
       "\n",
       "   OTHVAP_P    BVAP  BVAP_P   HVAP  HVAP_P  \\\n",
       "0      7.82   66429   15.63  24205    5.69   \n",
       "1      6.90   48210   11.28  30427    7.12   \n",
       "2      4.93  119888   27.43  30836    7.06   \n",
       "3      9.31   58760   13.54  39866    9.18   \n",
       "4      6.71  174685   41.62  43755   10.43   \n",
       "\n",
       "                                            geometry  \n",
       "0  POLYGON ((-88962.543 3445849.842, -88951.994 3...  \n",
       "1  POLYGON ((77275.266 3349211.655, 77243.849 334...  \n",
       "2  POLYGON ((211848.311 3397126.994, 211854.147 3...  \n",
       "3  POLYGON ((455436.438 3397695.867, 455463.032 3...  \n",
       "4  POLYGON ((420484.584 3339989.321, 420432.398 3...  \n",
       "\n",
       "[5 rows x 21 columns]"
      ]
     },
     "execution_count": 56,
     "metadata": {},
     "output_type": "execute_result"
    }
   ],
   "source": [
    "send.head()"
   ]
  },
  {
   "cell_type": "code",
   "execution_count": 57,
   "metadata": {},
   "outputs": [
    {
     "name": "stderr",
     "output_type": "stream",
     "text": [
      "100%|██████████████████████████████████████████| 40/40 [00:00<00:00, 300.28it/s]\n",
      "100%|██████████████████████████████████████████| 40/40 [00:00<00:00, 395.25it/s]\n",
      "100%|███████████████████████████████████████████| 40/40 [00:00<00:00, 84.15it/s]\n"
     ]
    }
   ],
   "source": [
    "election_df = add_district(send, \"SEND\", election_df, \"DISTRICT\")"
   ]
  },
  {
   "cell_type": "code",
   "execution_count": 58,
   "metadata": {},
   "outputs": [
    {
     "data": {
      "text/html": [
       "<div>\n",
       "<style scoped>\n",
       "    .dataframe tbody tr th:only-of-type {\n",
       "        vertical-align: middle;\n",
       "    }\n",
       "\n",
       "    .dataframe tbody tr th {\n",
       "        vertical-align: top;\n",
       "    }\n",
       "\n",
       "    .dataframe thead th {\n",
       "        text-align: right;\n",
       "    }\n",
       "</style>\n",
       "<table border=\"1\" class=\"dataframe\">\n",
       "  <thead>\n",
       "    <tr style=\"text-align: right;\">\n",
       "      <th></th>\n",
       "      <th>LONGNAME</th>\n",
       "      <th>SHORTNAME</th>\n",
       "      <th>DISTRICT</th>\n",
       "      <th>COLOR</th>\n",
       "      <th>TOTAL</th>\n",
       "      <th>TARGET_DEV</th>\n",
       "      <th>SRWVAP</th>\n",
       "      <th>SRWVAP_P</th>\n",
       "      <th>NHBVAP</th>\n",
       "      <th>NHBVAP_P</th>\n",
       "      <th>...</th>\n",
       "      <th>HBVAP_P</th>\n",
       "      <th>HXBVAP</th>\n",
       "      <th>HXBVAP_P</th>\n",
       "      <th>OTHVAP</th>\n",
       "      <th>OTHVAP_P</th>\n",
       "      <th>BVAP</th>\n",
       "      <th>BVAP_P</th>\n",
       "      <th>HVAP</th>\n",
       "      <th>HVAP_P</th>\n",
       "      <th>geometry</th>\n",
       "    </tr>\n",
       "  </thead>\n",
       "  <tbody>\n",
       "    <tr>\n",
       "      <th>0</th>\n",
       "      <td>District 1</td>\n",
       "      <td>D1</td>\n",
       "      <td>1</td>\n",
       "      <td>-192953100</td>\n",
       "      <td>178511</td>\n",
       "      <td>-0.54</td>\n",
       "      <td>92944</td>\n",
       "      <td>65.64</td>\n",
       "      <td>29389</td>\n",
       "      <td>20.76</td>\n",
       "      <td>...</td>\n",
       "      <td>0.36</td>\n",
       "      <td>7121</td>\n",
       "      <td>5.03</td>\n",
       "      <td>11624</td>\n",
       "      <td>8.21</td>\n",
       "      <td>29899</td>\n",
       "      <td>21.12</td>\n",
       "      <td>7631</td>\n",
       "      <td>5.39</td>\n",
       "      <td>POLYGON ((-93306.111 3395452.273, -93267.058 3...</td>\n",
       "    </tr>\n",
       "    <tr>\n",
       "      <th>1</th>\n",
       "      <td>District 2</td>\n",
       "      <td>D2</td>\n",
       "      <td>2</td>\n",
       "      <td>-38041984</td>\n",
       "      <td>180797</td>\n",
       "      <td>0.73</td>\n",
       "      <td>101968</td>\n",
       "      <td>69.98</td>\n",
       "      <td>24078</td>\n",
       "      <td>16.53</td>\n",
       "      <td>...</td>\n",
       "      <td>0.34</td>\n",
       "      <td>8258</td>\n",
       "      <td>5.67</td>\n",
       "      <td>10898</td>\n",
       "      <td>7.48</td>\n",
       "      <td>24577</td>\n",
       "      <td>16.87</td>\n",
       "      <td>8757</td>\n",
       "      <td>6.01</td>\n",
       "      <td>POLYGON ((-85131.854 3380393.092, -84724.200 3...</td>\n",
       "    </tr>\n",
       "    <tr>\n",
       "      <th>2</th>\n",
       "      <td>District 3</td>\n",
       "      <td>D3</td>\n",
       "      <td>3</td>\n",
       "      <td>-104031936</td>\n",
       "      <td>178528</td>\n",
       "      <td>-0.53</td>\n",
       "      <td>109163</td>\n",
       "      <td>79.52</td>\n",
       "      <td>10128</td>\n",
       "      <td>7.38</td>\n",
       "      <td>...</td>\n",
       "      <td>0.31</td>\n",
       "      <td>7019</td>\n",
       "      <td>5.11</td>\n",
       "      <td>10547</td>\n",
       "      <td>7.68</td>\n",
       "      <td>10553</td>\n",
       "      <td>7.69</td>\n",
       "      <td>7444</td>\n",
       "      <td>5.42</td>\n",
       "      <td>POLYGON ((-57326.955 3380861.500, -57327.349 3...</td>\n",
       "    </tr>\n",
       "    <tr>\n",
       "      <th>3</th>\n",
       "      <td>District 4</td>\n",
       "      <td>D4</td>\n",
       "      <td>4</td>\n",
       "      <td>-45696</td>\n",
       "      <td>183737</td>\n",
       "      <td>2.37</td>\n",
       "      <td>100925</td>\n",
       "      <td>70.47</td>\n",
       "      <td>15181</td>\n",
       "      <td>10.60</td>\n",
       "      <td>...</td>\n",
       "      <td>0.60</td>\n",
       "      <td>13047</td>\n",
       "      <td>9.11</td>\n",
       "      <td>13208</td>\n",
       "      <td>9.22</td>\n",
       "      <td>16043</td>\n",
       "      <td>11.20</td>\n",
       "      <td>13909</td>\n",
       "      <td>9.71</td>\n",
       "      <td>POLYGON ((-32019.954 3420092.279, -32014.099 3...</td>\n",
       "    </tr>\n",
       "    <tr>\n",
       "      <th>4</th>\n",
       "      <td>District 5</td>\n",
       "      <td>D5</td>\n",
       "      <td>5</td>\n",
       "      <td>-895104640</td>\n",
       "      <td>181243</td>\n",
       "      <td>0.98</td>\n",
       "      <td>112362</td>\n",
       "      <td>77.53</td>\n",
       "      <td>18471</td>\n",
       "      <td>12.75</td>\n",
       "      <td>...</td>\n",
       "      <td>0.18</td>\n",
       "      <td>7062</td>\n",
       "      <td>4.87</td>\n",
       "      <td>6762</td>\n",
       "      <td>4.67</td>\n",
       "      <td>18735</td>\n",
       "      <td>12.93</td>\n",
       "      <td>7326</td>\n",
       "      <td>5.06</td>\n",
       "      <td>POLYGON ((38504.495 3438984.858, 38520.088 343...</td>\n",
       "    </tr>\n",
       "  </tbody>\n",
       "</table>\n",
       "<p>5 rows × 21 columns</p>\n",
       "</div>"
      ],
      "text/plain": [
       "     LONGNAME SHORTNAME  DISTRICT      COLOR   TOTAL  TARGET_DEV  SRWVAP  \\\n",
       "0  District 1        D1         1 -192953100  178511       -0.54   92944   \n",
       "1  District 2        D2         2  -38041984  180797        0.73  101968   \n",
       "2  District 3        D3         3 -104031936  178528       -0.53  109163   \n",
       "3  District 4        D4         4     -45696  183737        2.37  100925   \n",
       "4  District 5        D5         5 -895104640  181243        0.98  112362   \n",
       "\n",
       "   SRWVAP_P  NHBVAP  NHBVAP_P  ...  HBVAP_P  HXBVAP  HXBVAP_P  OTHVAP  \\\n",
       "0     65.64   29389     20.76  ...     0.36    7121      5.03   11624   \n",
       "1     69.98   24078     16.53  ...     0.34    8258      5.67   10898   \n",
       "2     79.52   10128      7.38  ...     0.31    7019      5.11   10547   \n",
       "3     70.47   15181     10.60  ...     0.60   13047      9.11   13208   \n",
       "4     77.53   18471     12.75  ...     0.18    7062      4.87    6762   \n",
       "\n",
       "   OTHVAP_P   BVAP  BVAP_P   HVAP  HVAP_P  \\\n",
       "0      8.21  29899   21.12   7631    5.39   \n",
       "1      7.48  24577   16.87   8757    6.01   \n",
       "2      7.68  10553    7.69   7444    5.42   \n",
       "3      9.22  16043   11.20  13909    9.71   \n",
       "4      4.67  18735   12.93   7326    5.06   \n",
       "\n",
       "                                            geometry  \n",
       "0  POLYGON ((-93306.111 3395452.273, -93267.058 3...  \n",
       "1  POLYGON ((-85131.854 3380393.092, -84724.200 3...  \n",
       "2  POLYGON ((-57326.955 3380861.500, -57327.349 3...  \n",
       "3  POLYGON ((-32019.954 3420092.279, -32014.099 3...  \n",
       "4  POLYGON ((38504.495 3438984.858, 38520.088 343...  \n",
       "\n",
       "[5 rows x 21 columns]"
      ]
     },
     "execution_count": 58,
     "metadata": {},
     "output_type": "execute_result"
    }
   ],
   "source": [
    "hdist.head()"
   ]
  },
  {
   "cell_type": "code",
   "execution_count": 59,
   "metadata": {},
   "outputs": [
    {
     "name": "stderr",
     "output_type": "stream",
     "text": [
      "100%|████████████████████████████████████████| 120/120 [00:00<00:00, 435.32it/s]\n",
      "100%|████████████████████████████████████████| 120/120 [00:00<00:00, 902.76it/s]\n",
      "100%|████████████████████████████████████████| 120/120 [00:00<00:00, 130.88it/s]\n"
     ]
    }
   ],
   "source": [
    "election_df = add_district(hdist, \"HDIST\", election_df, \"DISTRICT\")"
   ]
  },
  {
   "cell_type": "code",
   "execution_count": 60,
   "metadata": {},
   "outputs": [
    {
     "name": "stderr",
     "output_type": "stream",
     "text": [
      "100%|█████████████████████████████████████| 6162/6162 [00:04<00:00, 1291.03it/s]\n"
     ]
    },
    {
     "name": "stdout",
     "output_type": "stream",
     "text": [
      "There are 4 holes.\n"
     ]
    },
    {
     "data": {
      "text/plain": [
       "False"
      ]
     },
     "execution_count": 60,
     "metadata": {},
     "output_type": "execute_result"
    }
   ],
   "source": [
    "maup.doctor(election_df)"
   ]
  },
  {
   "cell_type": "markdown",
   "metadata": {},
   "source": [
    "### Put the base precinct year after the precinct information column"
   ]
  },
  {
   "cell_type": "code",
   "execution_count": 62,
   "metadata": {},
   "outputs": [],
   "source": [
    "base_columns = {}\n",
    "if 'COUNTY' + year not in election_df.columns:\n",
    "    base_columns = {\n",
    "        'COUNTY':'COUNTY'+year,\n",
    "        'PRECINCT':'PRECINCT'+year, \n",
    "        'PCT_STD':'PCT_STD'+year\n",
    "    }\n",
    "election_df.rename(columns=base_columns, inplace = True)"
   ]
  },
  {
   "cell_type": "code",
   "execution_count": 63,
   "metadata": {},
   "outputs": [
    {
     "data": {
      "text/plain": [
       "Index(['2MOREVAP', 'AGR18D', 'AGR18R', 'AMINVAP', 'ASIANVAP', 'ATG18D',\n",
       "       'ATG18O', 'ATG18R', 'BVAP', 'CFO18D', 'CFO18O', 'CFO18R', 'COUNTY20',\n",
       "       'GOV18D', 'GOV18O', 'GOV18R', 'HISP', 'HVAP', 'H_2MORE', 'H_AMIN',\n",
       "       'H_ASIAN', 'H_BLACK', 'H_NHPI', 'H_OTHER', 'H_WHITE', 'NHPIVAP',\n",
       "       'NH_2MORE', 'NH_AMIN', 'NH_ASIAN', 'NH_BLACK', 'NH_NHPI', 'NH_OTHER',\n",
       "       'NH_WHITE', 'OTHERVAP', 'PCT_STD20', 'PRE16D', 'PRE16O', 'PRE16R',\n",
       "       'PRE20D', 'PRE20O', 'PRE20R', 'PRECINCT20', 'TOTPOP', 'USS16D',\n",
       "       'USS16O', 'USS16R', 'USS18D', 'USS18O', 'USS18R', 'VAP', 'WVAP',\n",
       "       'geometry', 'CD', 'SEND', 'HDIST'],\n",
       "      dtype='object')"
      ]
     },
     "execution_count": 63,
     "metadata": {},
     "output_type": "execute_result"
    }
   ],
   "source": [
    "election_df.columns"
   ]
  },
  {
   "cell_type": "code",
   "execution_count": 64,
   "metadata": {},
   "outputs": [],
   "source": [
    "# reorder the columns\n",
    "fixed_columns = [\n",
    "    'COUNTY'+year,\n",
    "    'PRECINCT'+year, \n",
    "    'PCT_STD'+year,\n",
    "    'SEND',\n",
    "    'HDIST',\n",
    "    'TOTPOP',\n",
    "    'NH_2MORE',\n",
    "    'NH_AMIN',\n",
    "    'NH_ASIAN',\n",
    "    'NH_BLACK',\n",
    "    'NH_NHPI',\n",
    "    'NH_OTHER',\n",
    "    'NH_WHITE',\n",
    "    'HISP',\n",
    "    'H_AMIN',\n",
    "    'H_ASIAN',\n",
    "    'H_BLACK',\n",
    "    'H_NHPI',\n",
    "    'H_OTHER',\n",
    "    'H_WHITE',\n",
    "    'H_2MORE',\n",
    "    'VAP',\n",
    "    'HVAP',\n",
    "    'WVAP',\n",
    "    'BVAP',\n",
    "    'AMINVAP',\n",
    "    'ASIANVAP',\n",
    "    'NHPIVAP',\n",
    "    'OTHERVAP',\n",
    "    '2MOREVAP']\n",
    "\n",
    "election_columns = [col for col in election_df.columns if col not in fixed_columns]\n",
    "final_col = fixed_columns + election_columns\n",
    "election_df = election_df[final_col]"
   ]
  },
  {
   "cell_type": "code",
   "execution_count": 65,
   "metadata": {},
   "outputs": [],
   "source": [
    "import os\n",
    "\n",
    "# store the result in directory \"fl\"\n",
    "directory = \"./{}\".format(state_ab)\n",
    "if not os.path.exists(directory):\n",
    "    os.makedirs(directory)\n",
    "\n",
    "shapefile_path = \"./{}/{}.shp\".format(state_ab, state_ab)\n",
    "geojson_path = './{}/{}.geojson'.format(state_ab, state_ab)\n",
    "json_path = \"./{}.json\".format(state_ab, state_ab)\n",
    "\n",
    "# Check if the shapefile or geojson file already exists\n",
    "if os.path.exists(shapefile_path):\n",
    "    os.remove(shapefile_path)\n",
    "if os.path.exists(geojson_path):\n",
    "    os.remove(geojson_path)\n",
    "\n",
    "election_df.to_file(shapefile_path)\n",
    "election_df.to_file(geojson_path, driver='GeoJSON')\n",
    "\n",
    "# Only do once to build json and read from file when generating ensembles\n",
    "graph = Graph.from_file(shapefile_path, ignore_errors=True)\n",
    "graph.to_json(json_path)"
   ]
  },
  {
   "cell_type": "code",
   "execution_count": 66,
   "metadata": {},
   "outputs": [
    {
     "data": {
      "text/plain": [
       "<Axes: >"
      ]
     },
     "execution_count": 66,
     "metadata": {},
     "output_type": "execute_result"
    },
    {
     "data": {
      "image/png": "[encoded data removed]",
      "text/plain": [
       "<Figure size 640x480 with 1 Axes>"
      ]
     },
     "metadata": {},
     "output_type": "display_data"
    }
   ],
   "source": [
    "shapefile_path = \"./{}/{}.shp\".format(state_ab, state_ab)\n",
    "shape=gpd.read_file(shapefile_path)\n",
    "shape.plot()"
   ]
  },
  {
   "cell_type": "code",
   "execution_count": 67,
   "metadata": {},
   "outputs": [],
   "source": [
    "df=gpd.read_file(\"./fl/fl.shp\")"
   ]
  },
  {
   "cell_type": "code",
   "execution_count": 68,
   "metadata": {},
   "outputs": [],
   "source": [
    "from gerrychain import (GeographicPartition, Partition, Graph, MarkovChain,\n",
    "                        proposals, updaters, constraints, accept, Election)\n",
    "from gerrychain.proposals import recom\n",
    "total_steps_in_run=5\n",
    "graph = Graph.from_json(\"./fl.json\")\n",
    "elections = [\n",
    "    Election(\"PRES16\", {\"Democratic\": \"T16PRESD\", \"Republican\": \"T16PRESR\"}),\n",
    "]\n",
    "my_updaters = {\"population\": updaters.Tally(\"TOTPOP\", alias=\"population\")}\n",
    "election_updaters = {election.name: election for election in elections}\n",
    "my_updaters.update(election_updaters)\n",
    "initial_partition = GeographicPartition(graph, \n",
    "                                        assignment= \"SEND\", #\"2011_PLA_1\",     # \"GOV\", \"REMEDIAL_P\", \n",
    "                                        updaters=my_updaters)"
   ]
  },
  {
   "cell_type": "code",
   "execution_count": 69,
   "metadata": {},
   "outputs": [
    {
     "data": {
      "text/plain": [
       "<Axes: >"
      ]
     },
     "execution_count": 69,
     "metadata": {},
     "output_type": "execute_result"
    },
    {
     "data": {
      "image/png": "[encoded data removed]",
      "text/plain": [
       "<Figure size 1600x800 with 1 Axes>"
      ]
     },
     "metadata": {},
     "output_type": "display_data"
    }
   ],
   "source": [
    "df.plot(pd.Series([initial_partition.assignment[i] for i in df.index]), cmap=\"tab20\", figsize=(16,8))"
   ]
  },
  {
   "cell_type": "code",
   "execution_count": null,
   "metadata": {},
   "outputs": [],
   "source": []
  }
 ],
 "metadata": {
  "kernelspec": {
   "display_name": "gerry",
   "language": "python",
   "name": "gerry"
  },
  "language_info": {
   "codemirror_mode": {
    "name": "ipython",
    "version": 3
   },
   "file_extension": ".py",
   "mimetype": "text/x-python",
   "name": "python",
   "nbconvert_exporter": "python",
   "pygments_lexer": "ipython3",
   "version": "3.11.4"
  }
 },
 "nbformat": 4,
 "nbformat_minor": 4
}
